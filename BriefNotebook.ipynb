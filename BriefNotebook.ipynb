{
 "cells": [
  {
   "cell_type": "markdown",
   "source": "# <center>Brief Générateur de paroles de chansons</center>",
   "metadata": {
    "cell_id": "f9903d04-2d52-4e59-8e02-29cfc343f0a4",
    "deepnote_cell_type": "markdown",
    "deepnote_cell_height": 82
   }
  },
  {
   "cell_type": "markdown",
   "source": "## Importation des librairies",
   "metadata": {
    "cell_id": "00001-064099ef-1dce-4e96-bece-2307fbfedcd7",
    "deepnote_cell_type": "markdown",
    "deepnote_cell_height": 70
   }
  },
  {
   "cell_type": "code",
   "metadata": {
    "cell_id": "00002-67c672c1-0154-4dc6-b2b7-a4b138c598f4",
    "deepnote_to_be_reexecuted": false,
    "source_hash": "7850a717",
    "execution_start": 1663139342068,
    "execution_millis": 1,
    "deepnote_cell_type": "code",
    "deepnote_cell_height": 94
   },
   "source": "import numpy as np \nimport pandas as pd",
   "execution_count": 2,
   "outputs": []
  },
  {
   "cell_type": "markdown",
   "source": "## Importation des dataset et pré-processing",
   "metadata": {
    "cell_id": "00003-244dc62d-c649-4998-bdd9-8f77263281e4",
    "deepnote_cell_type": "markdown",
    "deepnote_cell_height": 70
   }
  },
  {
   "cell_type": "code",
   "metadata": {
    "cell_id": "00004-9fd4a8d6-96d1-484f-9017-6544fb376ce1",
    "deepnote_to_be_reexecuted": false,
    "source_hash": "4d76e2c9",
    "execution_start": 1663139345430,
    "execution_millis": 63,
    "deepnote_cell_type": "code",
    "deepnote_cell_height": 613
   },
   "source": "df_artists=pd.read_csv(\"artists.csv\")\ndf_artists",
   "execution_count": 3,
   "outputs": [
    {
     "output_type": "execute_result",
     "execution_count": 3,
     "data": {
      "application/vnd.deepnote.dataframe.v3+json": {
       "column_count": 5,
       "row_count": 4168,
       "columns": [
        {
         "name": "Artist",
         "dtype": "object",
         "stats": {
          "unique_count": 4167,
          "nan_count": 1,
          "categories": [
           {
            "name": "Ivete Sangalo",
            "count": 1
           },
           {
            "name": "4166 others",
            "count": 4166
           },
           {
            "name": "Missing",
            "count": 1
           }
          ]
         }
        },
        {
         "name": "Genres",
         "dtype": "object",
         "stats": {
          "unique_count": 1750,
          "nan_count": 5,
          "categories": [
           {
            "name": "Gospel/Religioso",
            "count": 244
           },
           {
            "name": "1749 others",
            "count": 3919
           },
           {
            "name": "Missing",
            "count": 5
           }
          ]
         }
        },
        {
         "name": "Songs",
         "dtype": "float64",
         "stats": {
          "unique_count": 407,
          "nan_count": 1,
          "min": "0.0",
          "max": "1029.0",
          "histogram": [
           {
            "bin_start": 0,
            "bin_end": 102.9,
            "count": 2831
           },
           {
            "bin_start": 102.9,
            "bin_end": 205.8,
            "count": 939
           },
           {
            "bin_start": 205.8,
            "bin_end": 308.70000000000005,
            "count": 256
           },
           {
            "bin_start": 308.70000000000005,
            "bin_end": 411.6,
            "count": 79
           },
           {
            "bin_start": 411.6,
            "bin_end": 514.5,
            "count": 27
           },
           {
            "bin_start": 514.5,
            "bin_end": 617.4000000000001,
            "count": 15
           },
           {
            "bin_start": 617.4000000000001,
            "bin_end": 720.3000000000001,
            "count": 13
           },
           {
            "bin_start": 720.3000000000001,
            "bin_end": 823.2,
            "count": 4
           },
           {
            "bin_start": 823.2,
            "bin_end": 926.1,
            "count": 2
           },
           {
            "bin_start": 926.1,
            "bin_end": 1029,
            "count": 1
           }
          ]
         }
        },
        {
         "name": "Popularity",
         "dtype": "float64",
         "stats": {
          "unique_count": 216,
          "nan_count": 2,
          "min": "0.0",
          "max": "205.5",
          "histogram": [
           {
            "bin_start": 0,
            "bin_end": 20.55,
            "count": 4091
           },
           {
            "bin_start": 20.55,
            "bin_end": 41.1,
            "count": 40
           },
           {
            "bin_start": 41.1,
            "bin_end": 61.650000000000006,
            "count": 19
           },
           {
            "bin_start": 61.650000000000006,
            "bin_end": 82.2,
            "count": 7
           },
           {
            "bin_start": 82.2,
            "bin_end": 102.75,
            "count": 1
           },
           {
            "bin_start": 102.75,
            "bin_end": 123.30000000000001,
            "count": 6
           },
           {
            "bin_start": 123.30000000000001,
            "bin_end": 143.85,
            "count": 1
           },
           {
            "bin_start": 143.85,
            "bin_end": 164.4,
            "count": 0
           },
           {
            "bin_start": 164.4,
            "bin_end": 184.95000000000002,
            "count": 0
           },
           {
            "bin_start": 184.95000000000002,
            "bin_end": 205.5,
            "count": 1
           }
          ]
         }
        },
        {
         "name": "Link",
         "dtype": "object",
         "stats": {
          "unique_count": 4167,
          "nan_count": 1,
          "categories": [
           {
            "name": "/ivete-sangalo/",
            "count": 1
           },
           {
            "name": "4166 others",
            "count": 4166
           },
           {
            "name": "Missing",
            "count": 1
           }
          ]
         }
        },
        {
         "name": "_deepnote_index_column",
         "dtype": "int64"
        }
       ],
       "rows": [
        {
         "Artist": "Ivete Sangalo",
         "Genres": "Pop; Axé; Romântico",
         "Songs": "313.0",
         "Popularity": "4.4",
         "Link": "/ivete-sangalo/",
         "_deepnote_index_column": "0"
        },
        {
         "Artist": "Chiclete com Banana",
         "Genres": "Axé",
         "Songs": "268.0",
         "Popularity": "3.8",
         "Link": "/chiclete-com-banana/",
         "_deepnote_index_column": "1"
        },
        {
         "Artist": "Banda Eva",
         "Genres": "Axé; Romântico; Reggae",
         "Songs": "215.0",
         "Popularity": "2.3",
         "Link": "/banda-eva/",
         "_deepnote_index_column": "2"
        },
        {
         "Artist": "É O Tchan",
         "Genres": "Axé",
         "Songs": "129.0",
         "Popularity": "1.6",
         "Link": "/e-o-tchan/",
         "_deepnote_index_column": "3"
        },
        {
         "Artist": "Claudia Leitte",
         "Genres": "Pop; Axé; Romântico",
         "Songs": "167.0",
         "Popularity": "1.5",
         "Link": "/claudia-leitte/",
         "_deepnote_index_column": "4"
        },
        {
         "Artist": "Harmonia do Samba",
         "Genres": "Axé; Samba; Pagode",
         "Songs": "237.0",
         "Popularity": "0.9",
         "Link": "/harmonia-do-samba/",
         "_deepnote_index_column": "5"
        },
        {
         "Artist": "Ara Ketu",
         "Genres": "Axé; Pop",
         "Songs": "139.0",
         "Popularity": "1.5",
         "Link": "/ara-ketu/",
         "_deepnote_index_column": "6"
        },
        {
         "Artist": "Daniela Mercury",
         "Genres": "MPB; Axé",
         "Songs": "230.0",
         "Popularity": "1.4",
         "Link": "/daniela-mercury/",
         "_deepnote_index_column": "7"
        },
        {
         "Artist": "Olodum",
         "Genres": "Axé",
         "Songs": "74.0",
         "Popularity": "1.3",
         "Link": "/olodum/",
         "_deepnote_index_column": "8"
        },
        {
         "Artist": "Netinho",
         "Genres": "Axé",
         "Songs": "204.0",
         "Popularity": "2.0",
         "Link": "/netinho/",
         "_deepnote_index_column": "9"
        }
       ]
      },
      "text/plain": "                   Artist                           Genres  Songs  Popularity  \\\n0           Ivete Sangalo              Pop; Axé; Romântico  313.0         4.4   \n1     Chiclete com Banana                              Axé  268.0         3.8   \n2               Banda Eva           Axé; Romântico; Reggae  215.0         2.3   \n3               É O Tchan                              Axé  129.0         1.6   \n4          Claudia Leitte              Pop; Axé; Romântico  167.0         1.5   \n...                   ...                              ...    ...         ...   \n4163        Miriam Makeba  World Music; Black Music; Blues   17.0         0.0   \n4164      Freddie Aguilar                      World Music   61.0         0.0   \n4165      Amadou & Mariam                      World Music   14.0         0.0   \n4166         Magic System    World Music; Gospel/Religioso   16.0         0.0   \n4167         Johnny Clegg    World Music; Gospel/Religioso   34.0         0.0   \n\n                       Link  \n0           /ivete-sangalo/  \n1     /chiclete-com-banana/  \n2               /banda-eva/  \n3               /e-o-tchan/  \n4          /claudia-leitte/  \n...                     ...  \n4163        /miriam-makeba/  \n4164      /freddie-aguilar/  \n4165        /amadou-mariam/  \n4166         /magic-system/  \n4167         /clegg-johnny/  \n\n[4168 rows x 5 columns]",
      "text/html": "<div>\n<style scoped>\n    .dataframe tbody tr th:only-of-type {\n        vertical-align: middle;\n    }\n\n    .dataframe tbody tr th {\n        vertical-align: top;\n    }\n\n    .dataframe thead th {\n        text-align: right;\n    }\n</style>\n<table border=\"1\" class=\"dataframe\">\n  <thead>\n    <tr style=\"text-align: right;\">\n      <th></th>\n      <th>Artist</th>\n      <th>Genres</th>\n      <th>Songs</th>\n      <th>Popularity</th>\n      <th>Link</th>\n    </tr>\n  </thead>\n  <tbody>\n    <tr>\n      <th>0</th>\n      <td>Ivete Sangalo</td>\n      <td>Pop; Axé; Romântico</td>\n      <td>313.0</td>\n      <td>4.4</td>\n      <td>/ivete-sangalo/</td>\n    </tr>\n    <tr>\n      <th>1</th>\n      <td>Chiclete com Banana</td>\n      <td>Axé</td>\n      <td>268.0</td>\n      <td>3.8</td>\n      <td>/chiclete-com-banana/</td>\n    </tr>\n    <tr>\n      <th>2</th>\n      <td>Banda Eva</td>\n      <td>Axé; Romântico; Reggae</td>\n      <td>215.0</td>\n      <td>2.3</td>\n      <td>/banda-eva/</td>\n    </tr>\n    <tr>\n      <th>3</th>\n      <td>É O Tchan</td>\n      <td>Axé</td>\n      <td>129.0</td>\n      <td>1.6</td>\n      <td>/e-o-tchan/</td>\n    </tr>\n    <tr>\n      <th>4</th>\n      <td>Claudia Leitte</td>\n      <td>Pop; Axé; Romântico</td>\n      <td>167.0</td>\n      <td>1.5</td>\n      <td>/claudia-leitte/</td>\n    </tr>\n    <tr>\n      <th>...</th>\n      <td>...</td>\n      <td>...</td>\n      <td>...</td>\n      <td>...</td>\n      <td>...</td>\n    </tr>\n    <tr>\n      <th>4163</th>\n      <td>Miriam Makeba</td>\n      <td>World Music; Black Music; Blues</td>\n      <td>17.0</td>\n      <td>0.0</td>\n      <td>/miriam-makeba/</td>\n    </tr>\n    <tr>\n      <th>4164</th>\n      <td>Freddie Aguilar</td>\n      <td>World Music</td>\n      <td>61.0</td>\n      <td>0.0</td>\n      <td>/freddie-aguilar/</td>\n    </tr>\n    <tr>\n      <th>4165</th>\n      <td>Amadou &amp; Mariam</td>\n      <td>World Music</td>\n      <td>14.0</td>\n      <td>0.0</td>\n      <td>/amadou-mariam/</td>\n    </tr>\n    <tr>\n      <th>4166</th>\n      <td>Magic System</td>\n      <td>World Music; Gospel/Religioso</td>\n      <td>16.0</td>\n      <td>0.0</td>\n      <td>/magic-system/</td>\n    </tr>\n    <tr>\n      <th>4167</th>\n      <td>Johnny Clegg</td>\n      <td>World Music; Gospel/Religioso</td>\n      <td>34.0</td>\n      <td>0.0</td>\n      <td>/clegg-johnny/</td>\n    </tr>\n  </tbody>\n</table>\n<p>4168 rows × 5 columns</p>\n</div>"
     },
     "metadata": {}
    }
   ]
  },
  {
   "cell_type": "code",
   "metadata": {
    "cell_id": "00005-9a0bd0f4-cf9b-4c7d-9a3f-ef95ad06fa05",
    "deepnote_to_be_reexecuted": false,
    "source_hash": "a7d1d178",
    "execution_start": 1663139350028,
    "execution_millis": 4544,
    "deepnote_cell_type": "code",
    "deepnote_cell_height": 613
   },
   "source": "df_lyrics = pd.read_csv(\"lyrics-data.csv\")\ndf_lyrics",
   "execution_count": 4,
   "outputs": [
    {
     "output_type": "execute_result",
     "execution_count": 4,
     "data": {
      "application/vnd.deepnote.dataframe.v3+json": {
       "column_count": 5,
       "row_count": 379931,
       "columns": [
        {
         "name": "ALink",
         "dtype": "object"
        },
        {
         "name": "SName",
         "dtype": "object"
        },
        {
         "name": "SLink",
         "dtype": "object"
        },
        {
         "name": "Lyric",
         "dtype": "object"
        },
        {
         "name": "language",
         "dtype": "object"
        },
        {
         "name": "_deepnote_index_column",
         "dtype": "int64"
        }
       ],
       "rows": [
        {
         "ALink": "/ivete-sangalo/",
         "SName": "Arerê",
         "SLink": "/ivete-sangalo/arere.html",
         "Lyric": "Tudo o que eu quero nessa vida,\nToda vida, é\nÉ amar você\nAmar você\n\nO seu amor é como uma chama acesa\nQueima de prazer\nDe prazer\n\nEu já falei com Deus que não vou te deixar\nVou te levar pra onde for\nQualquer lugar\nJá fiz de tudo pra não te perder\n\nArerê,\nUm lobby, um hobby, um love com você\nArerê,\nUm lobby, um hobby, um love com você\n\nCai, cai, cai, cai, cai pra cá\nHey, hey, hey\nTu-do,tu-do, vai rolar",
         "language": "pt",
         "_deepnote_index_column": "0"
        },
        {
         "ALink": "/ivete-sangalo/",
         "SName": "Se Eu Não Te Amasse Tanto Assim",
         "SLink": "/ivete-sangalo/se-eu-nao-te-amasse-tanto-assim.html",
         "Lyric": "Meu coração\nSem direção\nVoando só por voar\nSem saber onde chegar\nSonhando em te encontrar\nE as estrelas\nQue hoje eu descobri\nNo seu olhar\nAs estrelas vão me guiar\n\nSe eu não te amasse tanto assim\nTalvez perdesse os sonhos\nDentro de mim\nE vivesse na escuridão\nSe eu não te amasse tanto assim\nTalvez não visse flores\nPor onde eu vi\nDentro do meu coração\n\nHoje eu sei\nEu te amei\nNo vento de um temporal\nMas fui mais\nMuito além\nDo tempo do vendaval\nNos desejos\nNum beijo\nQue eu jamais provei igual\nE as estrelas dão um sinal\n\nSe eu não te amasse tanto assim\nTalvez perdesse os sonhos\nDentro de mim\nE vivesse na escuridão\nSe eu não te amasse tanto assim\nTalvez não visse flores\nPor onde eu vi\nDentro do meu coração...",
         "language": "pt",
         "_deepnote_index_column": "1"
        },
        {
         "ALink": "/ivete-sangalo/",
         "SName": "Céu da Boca",
         "SLink": "/ivete-sangalo/chupa-toda.html",
         "Lyric": "É de babaixá!\nÉ de balacubaca!\nÉ de babaixá!\nÉ de balacubaca!\ntetetetere tere tete tere tetere\n\nEu quero beijar a sua boca louca\nEu quero beijar a sua boca louca\nEu vou enfiar uva no céu da sua boca\nEu vou enfiar uva no céu da sua boca\n\nE aí?\nChupa toda, disse toda\nE aí?\nChupa toda, disse toda\n\nÉ de babaixá!\nÉ de balacubaca!\nÉ de babaixá!\nÉ de balacubaca!\ntetetetere tere tete tere tetere\n\nEu quero beijar a sua boca louca\nEu quero beijar a sua boca louca\nEu vou enfiar uva no céu da sua boca\nEu vou enfiar uva no céu da sua boca\n\nE aí?\nChupa toda, disse toda\nE aí?\nChupa toda, disse toda\n\n",
         "language": "pt",
         "_deepnote_index_column": "2"
        },
        {
         "ALink": "/ivete-sangalo/",
         "SName": "Quando A Chuva Passar",
         "SLink": "/ivete-sangalo/quando-a-chuva-passar.html",
         "Lyric": "Quando a chuva passar\n\nPra quê falar\nSe você não quer me ouvir?\nFugir agora não resolve nada\n\nMas não vou chorar\nSe você quiser partir\nÀs vezes a distância ajuda\n\nE essa tempestade um dia vai acabar\nSó quero te lembrar\nDe quando a gente andava nas estrelas\nNas horas lindas que passamos juntos\nA gente só queria amar e amar e hoje eu tenho certeza\n\nA nossa história não termina agora\nPorque essa tempestade um dia vai acabar\n\n(Refrão)\nQuando a chuva passar\nQuando o tempo abrir\nAbra a janela e veja eu sou o sol\nEu sou céu e mar\nEu sou seu e fim\nE o meu amor é imensidão\n\nSó quero te lembrar\nDe quando a gente andava nas estrelas\nNas horas lindas que passamos juntos\nA gente só queria amar e amar\nE hoje eu tenho certeza\nA nossa história não termina agora\nPorque essa tempestade um dia vai acabar\n\n(Refrão 2x)",
         "language": "pt",
         "_deepnote_index_column": "3"
        },
        {
         "ALink": "/ivete-sangalo/",
         "SName": "Sorte Grande",
         "SLink": "/ivete-sangalo/sorte-grande.html",
         "Lyric": "A minha sorte grande foi você cair do céu\nMinha paixão verdadeira...\n\nViver a emoção, ganhar teu coração\nPra ser feliz a vida inteira\n\nMas é lindo teu sorriso, o brilho dos teus olhos\nMeu anjo querubim\n\nDoces dos meus beijos, calor dos meus braços\nPerfume de jasmim\n\nChegou no meu espaço mandando no pedaço\nO amor que não é brincadeira\nPegou me deu um laço,\nDançou bem no compasso,\nDe prazer levantou poeira\n\nPoeira, poeira, poeira\nLevantou poeira\n\nA minha sorte grande foi você cair do céu\nMinha paixão verdadeira...\n\nViver a emoção, ganhar teu coração\nPra ser feliz a vida inteira\n\nMas é lindo teu sorriso, o brilho dos teus olhos\nMeu anjo querubim\n\nDoces dos meus beijos, calor dos meus braços\nPerfume de jasmim\n\nChegou no meu espaço mandando no pedaço\nO amor que não é brincadeira\nPegou me deu um laço,\nDançou bem no compasso,\nDe prazer levantou poeira\n\nPoeira, poeira, poeira\nLevantou poeira\n\nChegou no meu espaço mandando no pedaço\nO amor que não é brincadeira\nPegou me deu um laço,\nDançou bem…",
         "language": "pt",
         "_deepnote_index_column": "4"
        },
        {
         "ALink": "/ivete-sangalo/",
         "SName": "A Lua Q Eu T Dei",
         "SLink": "/ivete-sangalo/a-lua-q-eu-t-dei.html",
         "Lyric": "Posso te falar dos sonhos, das flores...\nde como a cidade mudou...\nPosso te falar do medo, do meu desejo...\ndo meu amor...\nPosso falar da tarde que cai\nE aos poucos deixa ver no céu a Lua\nQue um dia eu te dei\n\nGosto de fechar os olhos\nFugir do tempo, de me perder\nPosso até perder a hora\nMas sei que já passou das seis\nSei que não há no mundo\nQuem possa te dizer\nQue não é tua a Lua que eu te dei\nPra brilhar por onde você for\nMe queira bem\nDurma bem\nMeu Amor\n\n(lalaralarara....Ohhhhhhh)\n\nEu posso falar da tarde que cai\nE aos poucos deixa ver no céu a Lua\nQue um dia eu te dei\nPra brilhar\nPor onde você for\nMe queira bem\nDurma bem\nMeu amor\nDurma bem\nMe queira bem\nMeu Amor\n\nA lua que eu te dei...\nA lua que eu te dei...",
         "language": "pt",
         "_deepnote_index_column": "5"
        },
        {
         "ALink": "/ivete-sangalo/",
         "SName": "Mulheres Não Têm Que Chorar (com Emicida)",
         "SLink": "/ivete-sangalo/mulheres-nao-tem-que-chorar-com-emicida.html",
         "Lyric": "Hey, girl\nLevanta da cama\nO que foi que te aconteceu?\nDesencana\nHey, girl\nO mundo te chama\nSó você não percebeu\n\nQue até o Cristo Redentor abriu os braços pra você\nSol nasceu mais cedo na certeza de te ver\nAh, sei lá, só basta respirar\nPra ver que o amor é claro como o dia\nSai do edredom\nPõe aquele batom\nColoca o nosso som e veja como é bom dançar\nSem preocupar\n\nMulheres não têm que chorar\nMulheres não têm que chorar\nMulheres não têm que chorar\nAAh, aah\nMulheres não têm que chorar\nMulheres não têm que chorar\nMulheres não têm que chorar\nAAh, aah\n\nE ela se viu só nessa trilha, como uma guerrilha\nNa responsa pela da família\nPensamento veloz, talento feroz\nO Sol no peito, na boca um gloss\nE tudo em nós brilha\nNo mundo masculino, pobre do menino\nQue nas pedras vê sua essência bem refletida\nNão confunda força com violência\nRespeite a água pois ela molda toda vida\nCiclos lunares e das marés, nos lares de todas as fés\nAs fêmeas guardam o sagrado sem cobra, sem fraqueza, sem pecado\nNa dúvida, …",
         "language": "pt",
         "_deepnote_index_column": "6"
        },
        {
         "ALink": "/ivete-sangalo/",
         "SName": "Eva / Alô Paixão / Beleza Rara",
         "SLink": "/ivete-sangalo/eva-alo-paixao-beleza-rara.html",
         "Lyric": "\"EVA\"\n(Giancarlo Bigazzi/Umberto Tozzi)\n\nMeu amor\nOlha só\nHoje o sol não apareceu\nÉ o fim\nDa aventura humana na Terra\nMeu planeta Adeus\nFugiremos nós dois na arca de Noé\n\nOlha bem, meu amor\né o final da odisséia terrestre\nSou Adão e você será\n\nMinha pequena Eva\nEva\nO nosso amor na última astronave\nEva\nAlém do infinito eu vou voar\nsozinho com você\n\nE voando bem alto\nEva\nMe abraça pelo espaço de um instante\nEva\nMe envolve com teu corpo e me dá\nA força pra viver\n\nPelo espaço de um instante\nAfinal não há nada mais\nQue o céu azul\nPra a gente voar\n\nSobre o Rio\nBeirute\nou Madagascar\nToda a terra\nReduzida a nada\nNada mais\n\nMinha vida é um flash\nDe controles\nBotões anti-atômicos\nOlha bem meu amor\nNo final da odisséia terrestre\nSou Adão e você será\n\n---------------------------------------------\n\n\"ALÔ PAIXÃO\"\n(Jorge Xaréu)\n\nEu não vou perder você\nFaz parte dessa história\nRevelo o segredo\nExistente na memória\n\nVou aqui andando\nCaminhando pela vida\nQuero te encontrar, sonhando\nSempre em cada esqui…",
         "language": "pt",
         "_deepnote_index_column": "7"
        },
        {
         "ALink": "/ivete-sangalo/",
         "SName": "Flor do Reggae",
         "SLink": "/ivete-sangalo/flor-do-reggae.html",
         "Lyric": "Um brilho de amor chegou na ilha inteira\nE a Lua que traz o amor é Lua cheia\nUm grito de dor que vem do peito de quem amou alguém\nO reggae me traz saudades de quem me beijou\nE agora tá tão distante em outra ilha\nO amor me chamou de flor\nE disse que eu era alguém pra vida inteira\n\nComo se eu fosse flor, você me cheira\nComo se eu fosse flor, você me rega\nE nesse reggae eu vou a noite inteira\nPorque morrer de amor é brincadeira\n\nUm brilho de amor chegou na ilha inteira\nE a Lua que traz o amor é Lua cheia\nUm grito de dor que vem do peito de quem amou alguém\nO reggae me traz saudades de quem me beijou\nE agora tá tão distante em outra ilha\nO amor me chamou de flor\nE disse que eu era alguém pra vida inteira\n\nRefrão: 3 vezes\nComo se eu fosse flor, você me cheira\nComo se eu fosse flor, você me rega\nE nesse reggae eu vou a noite inteira\nPorque morrer de amor é brincadeira",
         "language": "pt",
         "_deepnote_index_column": "8"
        },
        {
         "ALink": "/ivete-sangalo/",
         "SName": "Carro Velho",
         "SLink": "/ivete-sangalo/carro-velho.html",
         "Lyric": "Cheiro de pneu queimado, carburador furado, coração dilacerado!\nQuero meu negão do lado, cabelo penteado no meu carro envenenado\n\nEu vou Eu vou\nEntão venha!\nPois eu sei que amar a pé amor, é lenha!\nEu vou Eu vou\nEntão venha!\nPois eu sei que amar a pé amor, é lenha!\nEu vou pra lá dançar, seja noite ou seja dia, se eu beber algum amor, me guia!\nEu vou pra lá dançar, seja noite ou seja dia, se eu beber algum amor, ohohoho me guia!\n\nQuer andar de carro velho amor, que venha, pois eu sei que amar a pé amor, é lenha!\nQuer andar de carro velho amor, que venha, pois eu sei que amar a pé amor, é lenha!\n\nCheiro de pneu queimado, carburador furado, coração dilacerado!\nQuero meu negão do lado, cabelo penteado no meu carro envenenado\n\nEu vou Eu vou\nEntão venha!\nPois eu sei que amar a pé amor, é lenha!\nEu vou Eu vou\nEntão venha!\nPois eu sei que amar a pé amor, é lenha!\nEu vou pra lá dançar, seja noite ou seja dia, se eu beber algum amor, me guia!\nEu vou pra lá dançar, seja noite ou seja dia, se eu …",
         "language": "pt",
         "_deepnote_index_column": "9"
        }
       ]
      },
      "text/plain": "                  ALink                                          SName  \\\n0       /ivete-sangalo/                                          Arerê   \n1       /ivete-sangalo/                Se Eu Não Te Amasse Tanto Assim   \n2       /ivete-sangalo/                                    Céu da Boca   \n3       /ivete-sangalo/                          Quando A Chuva Passar   \n4       /ivete-sangalo/                                   Sorte Grande   \n...                 ...                                            ...   \n379926   /clegg-johnny/                                    The Waiting   \n379927   /clegg-johnny/                          Too Early For The Sky   \n379928   /clegg-johnny/  Warsaw 1943 (I Never Betrayed The Revolution)   \n379929   /clegg-johnny/                     When The System Has Fallen   \n379930   /clegg-johnny/                            Woman Be My Country   \n\n                                                    SLink  \\\n0                               /ivete-sangalo/arere.html   \n1       /ivete-sangalo/se-eu-nao-te-amasse-tanto-assim...   \n2                          /ivete-sangalo/chupa-toda.html   \n3               /ivete-sangalo/quando-a-chuva-passar.html   \n4                        /ivete-sangalo/sorte-grande.html   \n...                                                   ...   \n379926                     /clegg-johnny/the-waiting.html   \n379927           /clegg-johnny/too-early-for-the-sky.html   \n379928  /clegg-johnny/warsaw-1943-i-never-betrayed-the...   \n379929      /clegg-johnny/when-the-system-has-fallen.html   \n379930             /clegg-johnny/woman-be-my-country.html   \n\n                                                    Lyric language  \n0       Tudo o que eu quero nessa vida,\\nToda vida, é\\...       pt  \n1       Meu coração\\nSem direção\\nVoando só por voar\\n...       pt  \n2       É de babaixá!\\nÉ de balacubaca!\\nÉ de babaixá!...       pt  \n3       Quando a chuva passar\\n\\nPra quê falar\\nSe voc...       pt  \n4       A minha sorte grande foi você cair do céu\\nMin...       pt  \n...                                                   ...      ...  \n379926  Chorus\\nHere we stand waiting on the plain\\nDa...       en  \n379927  I nearly disappeared into the mouth of a croco...       en  \n379928  Amambuka, amambuka azothengisa izwe lakithi, i...       en  \n379929  Sweat in the heat for days on end\\nwaiting for...       en  \n379930  Here we stand on the edge of the day\\nFaces me...       en  \n\n[379931 rows x 5 columns]",
      "text/html": "<div>\n<style scoped>\n    .dataframe tbody tr th:only-of-type {\n        vertical-align: middle;\n    }\n\n    .dataframe tbody tr th {\n        vertical-align: top;\n    }\n\n    .dataframe thead th {\n        text-align: right;\n    }\n</style>\n<table border=\"1\" class=\"dataframe\">\n  <thead>\n    <tr style=\"text-align: right;\">\n      <th></th>\n      <th>ALink</th>\n      <th>SName</th>\n      <th>SLink</th>\n      <th>Lyric</th>\n      <th>language</th>\n    </tr>\n  </thead>\n  <tbody>\n    <tr>\n      <th>0</th>\n      <td>/ivete-sangalo/</td>\n      <td>Arerê</td>\n      <td>/ivete-sangalo/arere.html</td>\n      <td>Tudo o que eu quero nessa vida,\\nToda vida, é\\...</td>\n      <td>pt</td>\n    </tr>\n    <tr>\n      <th>1</th>\n      <td>/ivete-sangalo/</td>\n      <td>Se Eu Não Te Amasse Tanto Assim</td>\n      <td>/ivete-sangalo/se-eu-nao-te-amasse-tanto-assim...</td>\n      <td>Meu coração\\nSem direção\\nVoando só por voar\\n...</td>\n      <td>pt</td>\n    </tr>\n    <tr>\n      <th>2</th>\n      <td>/ivete-sangalo/</td>\n      <td>Céu da Boca</td>\n      <td>/ivete-sangalo/chupa-toda.html</td>\n      <td>É de babaixá!\\nÉ de balacubaca!\\nÉ de babaixá!...</td>\n      <td>pt</td>\n    </tr>\n    <tr>\n      <th>3</th>\n      <td>/ivete-sangalo/</td>\n      <td>Quando A Chuva Passar</td>\n      <td>/ivete-sangalo/quando-a-chuva-passar.html</td>\n      <td>Quando a chuva passar\\n\\nPra quê falar\\nSe voc...</td>\n      <td>pt</td>\n    </tr>\n    <tr>\n      <th>4</th>\n      <td>/ivete-sangalo/</td>\n      <td>Sorte Grande</td>\n      <td>/ivete-sangalo/sorte-grande.html</td>\n      <td>A minha sorte grande foi você cair do céu\\nMin...</td>\n      <td>pt</td>\n    </tr>\n    <tr>\n      <th>...</th>\n      <td>...</td>\n      <td>...</td>\n      <td>...</td>\n      <td>...</td>\n      <td>...</td>\n    </tr>\n    <tr>\n      <th>379926</th>\n      <td>/clegg-johnny/</td>\n      <td>The Waiting</td>\n      <td>/clegg-johnny/the-waiting.html</td>\n      <td>Chorus\\nHere we stand waiting on the plain\\nDa...</td>\n      <td>en</td>\n    </tr>\n    <tr>\n      <th>379927</th>\n      <td>/clegg-johnny/</td>\n      <td>Too Early For The Sky</td>\n      <td>/clegg-johnny/too-early-for-the-sky.html</td>\n      <td>I nearly disappeared into the mouth of a croco...</td>\n      <td>en</td>\n    </tr>\n    <tr>\n      <th>379928</th>\n      <td>/clegg-johnny/</td>\n      <td>Warsaw 1943 (I Never Betrayed The Revolution)</td>\n      <td>/clegg-johnny/warsaw-1943-i-never-betrayed-the...</td>\n      <td>Amambuka, amambuka azothengisa izwe lakithi, i...</td>\n      <td>en</td>\n    </tr>\n    <tr>\n      <th>379929</th>\n      <td>/clegg-johnny/</td>\n      <td>When The System Has Fallen</td>\n      <td>/clegg-johnny/when-the-system-has-fallen.html</td>\n      <td>Sweat in the heat for days on end\\nwaiting for...</td>\n      <td>en</td>\n    </tr>\n    <tr>\n      <th>379930</th>\n      <td>/clegg-johnny/</td>\n      <td>Woman Be My Country</td>\n      <td>/clegg-johnny/woman-be-my-country.html</td>\n      <td>Here we stand on the edge of the day\\nFaces me...</td>\n      <td>en</td>\n    </tr>\n  </tbody>\n</table>\n<p>379931 rows × 5 columns</p>\n</div>"
     },
     "metadata": {}
    }
   ]
  },
  {
   "cell_type": "code",
   "metadata": {
    "cell_id": "00006-68b63b22-65dd-48d4-9f37-1b7e91a13e12",
    "deepnote_to_be_reexecuted": false,
    "source_hash": "109439ff",
    "execution_start": 1663139365084,
    "execution_millis": 493,
    "deepnote_cell_type": "code",
    "deepnote_cell_height": 631
   },
   "source": "# renommer la colonne sur laquelle nous voulons merge les datasets\ndf_lyrics.columns = ['Link', 'SName', 'SLink', 'Lyric', 'language']\ndf_lyrics",
   "execution_count": 5,
   "outputs": [
    {
     "output_type": "execute_result",
     "execution_count": 5,
     "data": {
      "application/vnd.deepnote.dataframe.v3+json": {
       "column_count": 5,
       "row_count": 379931,
       "columns": [
        {
         "name": "Link",
         "dtype": "object"
        },
        {
         "name": "SName",
         "dtype": "object"
        },
        {
         "name": "SLink",
         "dtype": "object"
        },
        {
         "name": "Lyric",
         "dtype": "object"
        },
        {
         "name": "language",
         "dtype": "object"
        },
        {
         "name": "_deepnote_index_column",
         "dtype": "int64"
        }
       ],
       "rows": [
        {
         "Link": "/ivete-sangalo/",
         "SName": "Arerê",
         "SLink": "/ivete-sangalo/arere.html",
         "Lyric": "Tudo o que eu quero nessa vida,\nToda vida, é\nÉ amar você\nAmar você\n\nO seu amor é como uma chama acesa\nQueima de prazer\nDe prazer\n\nEu já falei com Deus que não vou te deixar\nVou te levar pra onde for\nQualquer lugar\nJá fiz de tudo pra não te perder\n\nArerê,\nUm lobby, um hobby, um love com você\nArerê,\nUm lobby, um hobby, um love com você\n\nCai, cai, cai, cai, cai pra cá\nHey, hey, hey\nTu-do,tu-do, vai rolar",
         "language": "pt",
         "_deepnote_index_column": "0"
        },
        {
         "Link": "/ivete-sangalo/",
         "SName": "Se Eu Não Te Amasse Tanto Assim",
         "SLink": "/ivete-sangalo/se-eu-nao-te-amasse-tanto-assim.html",
         "Lyric": "Meu coração\nSem direção\nVoando só por voar\nSem saber onde chegar\nSonhando em te encontrar\nE as estrelas\nQue hoje eu descobri\nNo seu olhar\nAs estrelas vão me guiar\n\nSe eu não te amasse tanto assim\nTalvez perdesse os sonhos\nDentro de mim\nE vivesse na escuridão\nSe eu não te amasse tanto assim\nTalvez não visse flores\nPor onde eu vi\nDentro do meu coração\n\nHoje eu sei\nEu te amei\nNo vento de um temporal\nMas fui mais\nMuito além\nDo tempo do vendaval\nNos desejos\nNum beijo\nQue eu jamais provei igual\nE as estrelas dão um sinal\n\nSe eu não te amasse tanto assim\nTalvez perdesse os sonhos\nDentro de mim\nE vivesse na escuridão\nSe eu não te amasse tanto assim\nTalvez não visse flores\nPor onde eu vi\nDentro do meu coração...",
         "language": "pt",
         "_deepnote_index_column": "1"
        },
        {
         "Link": "/ivete-sangalo/",
         "SName": "Céu da Boca",
         "SLink": "/ivete-sangalo/chupa-toda.html",
         "Lyric": "É de babaixá!\nÉ de balacubaca!\nÉ de babaixá!\nÉ de balacubaca!\ntetetetere tere tete tere tetere\n\nEu quero beijar a sua boca louca\nEu quero beijar a sua boca louca\nEu vou enfiar uva no céu da sua boca\nEu vou enfiar uva no céu da sua boca\n\nE aí?\nChupa toda, disse toda\nE aí?\nChupa toda, disse toda\n\nÉ de babaixá!\nÉ de balacubaca!\nÉ de babaixá!\nÉ de balacubaca!\ntetetetere tere tete tere tetere\n\nEu quero beijar a sua boca louca\nEu quero beijar a sua boca louca\nEu vou enfiar uva no céu da sua boca\nEu vou enfiar uva no céu da sua boca\n\nE aí?\nChupa toda, disse toda\nE aí?\nChupa toda, disse toda\n\n",
         "language": "pt",
         "_deepnote_index_column": "2"
        },
        {
         "Link": "/ivete-sangalo/",
         "SName": "Quando A Chuva Passar",
         "SLink": "/ivete-sangalo/quando-a-chuva-passar.html",
         "Lyric": "Quando a chuva passar\n\nPra quê falar\nSe você não quer me ouvir?\nFugir agora não resolve nada\n\nMas não vou chorar\nSe você quiser partir\nÀs vezes a distância ajuda\n\nE essa tempestade um dia vai acabar\nSó quero te lembrar\nDe quando a gente andava nas estrelas\nNas horas lindas que passamos juntos\nA gente só queria amar e amar e hoje eu tenho certeza\n\nA nossa história não termina agora\nPorque essa tempestade um dia vai acabar\n\n(Refrão)\nQuando a chuva passar\nQuando o tempo abrir\nAbra a janela e veja eu sou o sol\nEu sou céu e mar\nEu sou seu e fim\nE o meu amor é imensidão\n\nSó quero te lembrar\nDe quando a gente andava nas estrelas\nNas horas lindas que passamos juntos\nA gente só queria amar e amar\nE hoje eu tenho certeza\nA nossa história não termina agora\nPorque essa tempestade um dia vai acabar\n\n(Refrão 2x)",
         "language": "pt",
         "_deepnote_index_column": "3"
        },
        {
         "Link": "/ivete-sangalo/",
         "SName": "Sorte Grande",
         "SLink": "/ivete-sangalo/sorte-grande.html",
         "Lyric": "A minha sorte grande foi você cair do céu\nMinha paixão verdadeira...\n\nViver a emoção, ganhar teu coração\nPra ser feliz a vida inteira\n\nMas é lindo teu sorriso, o brilho dos teus olhos\nMeu anjo querubim\n\nDoces dos meus beijos, calor dos meus braços\nPerfume de jasmim\n\nChegou no meu espaço mandando no pedaço\nO amor que não é brincadeira\nPegou me deu um laço,\nDançou bem no compasso,\nDe prazer levantou poeira\n\nPoeira, poeira, poeira\nLevantou poeira\n\nA minha sorte grande foi você cair do céu\nMinha paixão verdadeira...\n\nViver a emoção, ganhar teu coração\nPra ser feliz a vida inteira\n\nMas é lindo teu sorriso, o brilho dos teus olhos\nMeu anjo querubim\n\nDoces dos meus beijos, calor dos meus braços\nPerfume de jasmim\n\nChegou no meu espaço mandando no pedaço\nO amor que não é brincadeira\nPegou me deu um laço,\nDançou bem no compasso,\nDe prazer levantou poeira\n\nPoeira, poeira, poeira\nLevantou poeira\n\nChegou no meu espaço mandando no pedaço\nO amor que não é brincadeira\nPegou me deu um laço,\nDançou bem…",
         "language": "pt",
         "_deepnote_index_column": "4"
        },
        {
         "Link": "/ivete-sangalo/",
         "SName": "A Lua Q Eu T Dei",
         "SLink": "/ivete-sangalo/a-lua-q-eu-t-dei.html",
         "Lyric": "Posso te falar dos sonhos, das flores...\nde como a cidade mudou...\nPosso te falar do medo, do meu desejo...\ndo meu amor...\nPosso falar da tarde que cai\nE aos poucos deixa ver no céu a Lua\nQue um dia eu te dei\n\nGosto de fechar os olhos\nFugir do tempo, de me perder\nPosso até perder a hora\nMas sei que já passou das seis\nSei que não há no mundo\nQuem possa te dizer\nQue não é tua a Lua que eu te dei\nPra brilhar por onde você for\nMe queira bem\nDurma bem\nMeu Amor\n\n(lalaralarara....Ohhhhhhh)\n\nEu posso falar da tarde que cai\nE aos poucos deixa ver no céu a Lua\nQue um dia eu te dei\nPra brilhar\nPor onde você for\nMe queira bem\nDurma bem\nMeu amor\nDurma bem\nMe queira bem\nMeu Amor\n\nA lua que eu te dei...\nA lua que eu te dei...",
         "language": "pt",
         "_deepnote_index_column": "5"
        },
        {
         "Link": "/ivete-sangalo/",
         "SName": "Mulheres Não Têm Que Chorar (com Emicida)",
         "SLink": "/ivete-sangalo/mulheres-nao-tem-que-chorar-com-emicida.html",
         "Lyric": "Hey, girl\nLevanta da cama\nO que foi que te aconteceu?\nDesencana\nHey, girl\nO mundo te chama\nSó você não percebeu\n\nQue até o Cristo Redentor abriu os braços pra você\nSol nasceu mais cedo na certeza de te ver\nAh, sei lá, só basta respirar\nPra ver que o amor é claro como o dia\nSai do edredom\nPõe aquele batom\nColoca o nosso som e veja como é bom dançar\nSem preocupar\n\nMulheres não têm que chorar\nMulheres não têm que chorar\nMulheres não têm que chorar\nAAh, aah\nMulheres não têm que chorar\nMulheres não têm que chorar\nMulheres não têm que chorar\nAAh, aah\n\nE ela se viu só nessa trilha, como uma guerrilha\nNa responsa pela da família\nPensamento veloz, talento feroz\nO Sol no peito, na boca um gloss\nE tudo em nós brilha\nNo mundo masculino, pobre do menino\nQue nas pedras vê sua essência bem refletida\nNão confunda força com violência\nRespeite a água pois ela molda toda vida\nCiclos lunares e das marés, nos lares de todas as fés\nAs fêmeas guardam o sagrado sem cobra, sem fraqueza, sem pecado\nNa dúvida, …",
         "language": "pt",
         "_deepnote_index_column": "6"
        },
        {
         "Link": "/ivete-sangalo/",
         "SName": "Eva / Alô Paixão / Beleza Rara",
         "SLink": "/ivete-sangalo/eva-alo-paixao-beleza-rara.html",
         "Lyric": "\"EVA\"\n(Giancarlo Bigazzi/Umberto Tozzi)\n\nMeu amor\nOlha só\nHoje o sol não apareceu\nÉ o fim\nDa aventura humana na Terra\nMeu planeta Adeus\nFugiremos nós dois na arca de Noé\n\nOlha bem, meu amor\né o final da odisséia terrestre\nSou Adão e você será\n\nMinha pequena Eva\nEva\nO nosso amor na última astronave\nEva\nAlém do infinito eu vou voar\nsozinho com você\n\nE voando bem alto\nEva\nMe abraça pelo espaço de um instante\nEva\nMe envolve com teu corpo e me dá\nA força pra viver\n\nPelo espaço de um instante\nAfinal não há nada mais\nQue o céu azul\nPra a gente voar\n\nSobre o Rio\nBeirute\nou Madagascar\nToda a terra\nReduzida a nada\nNada mais\n\nMinha vida é um flash\nDe controles\nBotões anti-atômicos\nOlha bem meu amor\nNo final da odisséia terrestre\nSou Adão e você será\n\n---------------------------------------------\n\n\"ALÔ PAIXÃO\"\n(Jorge Xaréu)\n\nEu não vou perder você\nFaz parte dessa história\nRevelo o segredo\nExistente na memória\n\nVou aqui andando\nCaminhando pela vida\nQuero te encontrar, sonhando\nSempre em cada esqui…",
         "language": "pt",
         "_deepnote_index_column": "7"
        },
        {
         "Link": "/ivete-sangalo/",
         "SName": "Flor do Reggae",
         "SLink": "/ivete-sangalo/flor-do-reggae.html",
         "Lyric": "Um brilho de amor chegou na ilha inteira\nE a Lua que traz o amor é Lua cheia\nUm grito de dor que vem do peito de quem amou alguém\nO reggae me traz saudades de quem me beijou\nE agora tá tão distante em outra ilha\nO amor me chamou de flor\nE disse que eu era alguém pra vida inteira\n\nComo se eu fosse flor, você me cheira\nComo se eu fosse flor, você me rega\nE nesse reggae eu vou a noite inteira\nPorque morrer de amor é brincadeira\n\nUm brilho de amor chegou na ilha inteira\nE a Lua que traz o amor é Lua cheia\nUm grito de dor que vem do peito de quem amou alguém\nO reggae me traz saudades de quem me beijou\nE agora tá tão distante em outra ilha\nO amor me chamou de flor\nE disse que eu era alguém pra vida inteira\n\nRefrão: 3 vezes\nComo se eu fosse flor, você me cheira\nComo se eu fosse flor, você me rega\nE nesse reggae eu vou a noite inteira\nPorque morrer de amor é brincadeira",
         "language": "pt",
         "_deepnote_index_column": "8"
        },
        {
         "Link": "/ivete-sangalo/",
         "SName": "Carro Velho",
         "SLink": "/ivete-sangalo/carro-velho.html",
         "Lyric": "Cheiro de pneu queimado, carburador furado, coração dilacerado!\nQuero meu negão do lado, cabelo penteado no meu carro envenenado\n\nEu vou Eu vou\nEntão venha!\nPois eu sei que amar a pé amor, é lenha!\nEu vou Eu vou\nEntão venha!\nPois eu sei que amar a pé amor, é lenha!\nEu vou pra lá dançar, seja noite ou seja dia, se eu beber algum amor, me guia!\nEu vou pra lá dançar, seja noite ou seja dia, se eu beber algum amor, ohohoho me guia!\n\nQuer andar de carro velho amor, que venha, pois eu sei que amar a pé amor, é lenha!\nQuer andar de carro velho amor, que venha, pois eu sei que amar a pé amor, é lenha!\n\nCheiro de pneu queimado, carburador furado, coração dilacerado!\nQuero meu negão do lado, cabelo penteado no meu carro envenenado\n\nEu vou Eu vou\nEntão venha!\nPois eu sei que amar a pé amor, é lenha!\nEu vou Eu vou\nEntão venha!\nPois eu sei que amar a pé amor, é lenha!\nEu vou pra lá dançar, seja noite ou seja dia, se eu beber algum amor, me guia!\nEu vou pra lá dançar, seja noite ou seja dia, se eu …",
         "language": "pt",
         "_deepnote_index_column": "9"
        }
       ]
      },
      "text/plain": "                   Link                                          SName  \\\n0       /ivete-sangalo/                                          Arerê   \n1       /ivete-sangalo/                Se Eu Não Te Amasse Tanto Assim   \n2       /ivete-sangalo/                                    Céu da Boca   \n3       /ivete-sangalo/                          Quando A Chuva Passar   \n4       /ivete-sangalo/                                   Sorte Grande   \n...                 ...                                            ...   \n379926   /clegg-johnny/                                    The Waiting   \n379927   /clegg-johnny/                          Too Early For The Sky   \n379928   /clegg-johnny/  Warsaw 1943 (I Never Betrayed The Revolution)   \n379929   /clegg-johnny/                     When The System Has Fallen   \n379930   /clegg-johnny/                            Woman Be My Country   \n\n                                                    SLink  \\\n0                               /ivete-sangalo/arere.html   \n1       /ivete-sangalo/se-eu-nao-te-amasse-tanto-assim...   \n2                          /ivete-sangalo/chupa-toda.html   \n3               /ivete-sangalo/quando-a-chuva-passar.html   \n4                        /ivete-sangalo/sorte-grande.html   \n...                                                   ...   \n379926                     /clegg-johnny/the-waiting.html   \n379927           /clegg-johnny/too-early-for-the-sky.html   \n379928  /clegg-johnny/warsaw-1943-i-never-betrayed-the...   \n379929      /clegg-johnny/when-the-system-has-fallen.html   \n379930             /clegg-johnny/woman-be-my-country.html   \n\n                                                    Lyric language  \n0       Tudo o que eu quero nessa vida,\\nToda vida, é\\...       pt  \n1       Meu coração\\nSem direção\\nVoando só por voar\\n...       pt  \n2       É de babaixá!\\nÉ de balacubaca!\\nÉ de babaixá!...       pt  \n3       Quando a chuva passar\\n\\nPra quê falar\\nSe voc...       pt  \n4       A minha sorte grande foi você cair do céu\\nMin...       pt  \n...                                                   ...      ...  \n379926  Chorus\\nHere we stand waiting on the plain\\nDa...       en  \n379927  I nearly disappeared into the mouth of a croco...       en  \n379928  Amambuka, amambuka azothengisa izwe lakithi, i...       en  \n379929  Sweat in the heat for days on end\\nwaiting for...       en  \n379930  Here we stand on the edge of the day\\nFaces me...       en  \n\n[379931 rows x 5 columns]",
      "text/html": "<div>\n<style scoped>\n    .dataframe tbody tr th:only-of-type {\n        vertical-align: middle;\n    }\n\n    .dataframe tbody tr th {\n        vertical-align: top;\n    }\n\n    .dataframe thead th {\n        text-align: right;\n    }\n</style>\n<table border=\"1\" class=\"dataframe\">\n  <thead>\n    <tr style=\"text-align: right;\">\n      <th></th>\n      <th>Link</th>\n      <th>SName</th>\n      <th>SLink</th>\n      <th>Lyric</th>\n      <th>language</th>\n    </tr>\n  </thead>\n  <tbody>\n    <tr>\n      <th>0</th>\n      <td>/ivete-sangalo/</td>\n      <td>Arerê</td>\n      <td>/ivete-sangalo/arere.html</td>\n      <td>Tudo o que eu quero nessa vida,\\nToda vida, é\\...</td>\n      <td>pt</td>\n    </tr>\n    <tr>\n      <th>1</th>\n      <td>/ivete-sangalo/</td>\n      <td>Se Eu Não Te Amasse Tanto Assim</td>\n      <td>/ivete-sangalo/se-eu-nao-te-amasse-tanto-assim...</td>\n      <td>Meu coração\\nSem direção\\nVoando só por voar\\n...</td>\n      <td>pt</td>\n    </tr>\n    <tr>\n      <th>2</th>\n      <td>/ivete-sangalo/</td>\n      <td>Céu da Boca</td>\n      <td>/ivete-sangalo/chupa-toda.html</td>\n      <td>É de babaixá!\\nÉ de balacubaca!\\nÉ de babaixá!...</td>\n      <td>pt</td>\n    </tr>\n    <tr>\n      <th>3</th>\n      <td>/ivete-sangalo/</td>\n      <td>Quando A Chuva Passar</td>\n      <td>/ivete-sangalo/quando-a-chuva-passar.html</td>\n      <td>Quando a chuva passar\\n\\nPra quê falar\\nSe voc...</td>\n      <td>pt</td>\n    </tr>\n    <tr>\n      <th>4</th>\n      <td>/ivete-sangalo/</td>\n      <td>Sorte Grande</td>\n      <td>/ivete-sangalo/sorte-grande.html</td>\n      <td>A minha sorte grande foi você cair do céu\\nMin...</td>\n      <td>pt</td>\n    </tr>\n    <tr>\n      <th>...</th>\n      <td>...</td>\n      <td>...</td>\n      <td>...</td>\n      <td>...</td>\n      <td>...</td>\n    </tr>\n    <tr>\n      <th>379926</th>\n      <td>/clegg-johnny/</td>\n      <td>The Waiting</td>\n      <td>/clegg-johnny/the-waiting.html</td>\n      <td>Chorus\\nHere we stand waiting on the plain\\nDa...</td>\n      <td>en</td>\n    </tr>\n    <tr>\n      <th>379927</th>\n      <td>/clegg-johnny/</td>\n      <td>Too Early For The Sky</td>\n      <td>/clegg-johnny/too-early-for-the-sky.html</td>\n      <td>I nearly disappeared into the mouth of a croco...</td>\n      <td>en</td>\n    </tr>\n    <tr>\n      <th>379928</th>\n      <td>/clegg-johnny/</td>\n      <td>Warsaw 1943 (I Never Betrayed The Revolution)</td>\n      <td>/clegg-johnny/warsaw-1943-i-never-betrayed-the...</td>\n      <td>Amambuka, amambuka azothengisa izwe lakithi, i...</td>\n      <td>en</td>\n    </tr>\n    <tr>\n      <th>379929</th>\n      <td>/clegg-johnny/</td>\n      <td>When The System Has Fallen</td>\n      <td>/clegg-johnny/when-the-system-has-fallen.html</td>\n      <td>Sweat in the heat for days on end\\nwaiting for...</td>\n      <td>en</td>\n    </tr>\n    <tr>\n      <th>379930</th>\n      <td>/clegg-johnny/</td>\n      <td>Woman Be My Country</td>\n      <td>/clegg-johnny/woman-be-my-country.html</td>\n      <td>Here we stand on the edge of the day\\nFaces me...</td>\n      <td>en</td>\n    </tr>\n  </tbody>\n</table>\n<p>379931 rows × 5 columns</p>\n</div>"
     },
     "metadata": {}
    }
   ]
  },
  {
   "cell_type": "markdown",
   "source": "On va merge les deux datasets sur la colonne artistes.",
   "metadata": {
    "cell_id": "00007-2d13b572-2876-4596-adc6-2ee1ac545f65",
    "deepnote_cell_type": "markdown",
    "deepnote_cell_height": 52.390625
   }
  },
  {
   "cell_type": "code",
   "metadata": {
    "cell_id": "00008-433fad1c-bc31-4e52-be62-9d3c98540ac1",
    "deepnote_to_be_reexecuted": false,
    "source_hash": "5417d2d7",
    "execution_start": 1663139368679,
    "execution_millis": 303,
    "deepnote_table_state": {
     "pageSize": 10,
     "pageIndex": 0,
     "filters": [],
     "sortBy": []
    },
    "deepnote_table_loading": false,
    "deepnote_cell_type": "code",
    "deepnote_cell_height": 629.65625
   },
   "source": "df = pd.merge(df_artists, df_lyrics, on=\"Link\")\ndf",
   "execution_count": 6,
   "outputs": [
    {
     "output_type": "execute_result",
     "execution_count": 12,
     "data": {
      "application/vnd.deepnote.dataframe.v3+json": {
       "column_count": 9,
       "row_count": 378988,
       "columns": [
        {
         "name": "Artist",
         "dtype": "object"
        },
        {
         "name": "Genres",
         "dtype": "object"
        },
        {
         "name": "Songs",
         "dtype": "float64"
        },
        {
         "name": "Popularity",
         "dtype": "float64"
        },
        {
         "name": "Link",
         "dtype": "object"
        },
        {
         "name": "SName",
         "dtype": "object"
        },
        {
         "name": "SLink",
         "dtype": "object"
        },
        {
         "name": "Lyric",
         "dtype": "object"
        },
        {
         "name": "language",
         "dtype": "object"
        },
        {
         "name": "_deepnote_index_column",
         "dtype": "int64"
        }
       ],
       "rows": [
        {
         "Artist": "Ivete Sangalo",
         "Genres": "Pop; Axé; Romântico",
         "Songs": "313.0",
         "Popularity": "4.4",
         "Link": "/ivete-sangalo/",
         "SName": "Arerê",
         "SLink": "/ivete-sangalo/arere.html",
         "Lyric": "Tudo o que eu quero nessa vida,\nToda vida, é\nÉ amar você\nAmar você\n\nO seu amor é como uma chama acesa\nQueima de prazer\nDe prazer\n\nEu já falei com Deus que não vou te deixar\nVou te levar pra onde for\nQualquer lugar\nJá fiz de tudo pra não te perder\n\nArerê,\nUm lobby, um hobby, um love com você\nArerê,\nUm lobby, um hobby, um love com você\n\nCai, cai, cai, cai, cai pra cá\nHey, hey, hey\nTu-do,tu-do, vai rolar",
         "language": "pt",
         "_deepnote_index_column": "0"
        },
        {
         "Artist": "Ivete Sangalo",
         "Genres": "Pop; Axé; Romântico",
         "Songs": "313.0",
         "Popularity": "4.4",
         "Link": "/ivete-sangalo/",
         "SName": "Se Eu Não Te Amasse Tanto Assim",
         "SLink": "/ivete-sangalo/se-eu-nao-te-amasse-tanto-assim.html",
         "Lyric": "Meu coração\nSem direção\nVoando só por voar\nSem saber onde chegar\nSonhando em te encontrar\nE as estrelas\nQue hoje eu descobri\nNo seu olhar\nAs estrelas vão me guiar\n\nSe eu não te amasse tanto assim\nTalvez perdesse os sonhos\nDentro de mim\nE vivesse na escuridão\nSe eu não te amasse tanto assim\nTalvez não visse flores\nPor onde eu vi\nDentro do meu coração\n\nHoje eu sei\nEu te amei\nNo vento de um temporal\nMas fui mais\nMuito além\nDo tempo do vendaval\nNos desejos\nNum beijo\nQue eu jamais provei igual\nE as estrelas dão um sinal\n\nSe eu não te amasse tanto assim\nTalvez perdesse os sonhos\nDentro de mim\nE vivesse na escuridão\nSe eu não te amasse tanto assim\nTalvez não visse flores\nPor onde eu vi\nDentro do meu coração...",
         "language": "pt",
         "_deepnote_index_column": "1"
        },
        {
         "Artist": "Ivete Sangalo",
         "Genres": "Pop; Axé; Romântico",
         "Songs": "313.0",
         "Popularity": "4.4",
         "Link": "/ivete-sangalo/",
         "SName": "Céu da Boca",
         "SLink": "/ivete-sangalo/chupa-toda.html",
         "Lyric": "É de babaixá!\nÉ de balacubaca!\nÉ de babaixá!\nÉ de balacubaca!\ntetetetere tere tete tere tetere\n\nEu quero beijar a sua boca louca\nEu quero beijar a sua boca louca\nEu vou enfiar uva no céu da sua boca\nEu vou enfiar uva no céu da sua boca\n\nE aí?\nChupa toda, disse toda\nE aí?\nChupa toda, disse toda\n\nÉ de babaixá!\nÉ de balacubaca!\nÉ de babaixá!\nÉ de balacubaca!\ntetetetere tere tete tere tetere\n\nEu quero beijar a sua boca louca\nEu quero beijar a sua boca louca\nEu vou enfiar uva no céu da sua boca\nEu vou enfiar uva no céu da sua boca\n\nE aí?\nChupa toda, disse toda\nE aí?\nChupa toda, disse toda\n\n",
         "language": "pt",
         "_deepnote_index_column": "2"
        },
        {
         "Artist": "Ivete Sangalo",
         "Genres": "Pop; Axé; Romântico",
         "Songs": "313.0",
         "Popularity": "4.4",
         "Link": "/ivete-sangalo/",
         "SName": "Quando A Chuva Passar",
         "SLink": "/ivete-sangalo/quando-a-chuva-passar.html",
         "Lyric": "Quando a chuva passar\n\nPra quê falar\nSe você não quer me ouvir?\nFugir agora não resolve nada\n\nMas não vou chorar\nSe você quiser partir\nÀs vezes a distância ajuda\n\nE essa tempestade um dia vai acabar\nSó quero te lembrar\nDe quando a gente andava nas estrelas\nNas horas lindas que passamos juntos\nA gente só queria amar e amar e hoje eu tenho certeza\n\nA nossa história não termina agora\nPorque essa tempestade um dia vai acabar\n\n(Refrão)\nQuando a chuva passar\nQuando o tempo abrir\nAbra a janela e veja eu sou o sol\nEu sou céu e mar\nEu sou seu e fim\nE o meu amor é imensidão\n\nSó quero te lembrar\nDe quando a gente andava nas estrelas\nNas horas lindas que passamos juntos\nA gente só queria amar e amar\nE hoje eu tenho certeza\nA nossa história não termina agora\nPorque essa tempestade um dia vai acabar\n\n(Refrão 2x)",
         "language": "pt",
         "_deepnote_index_column": "3"
        },
        {
         "Artist": "Ivete Sangalo",
         "Genres": "Pop; Axé; Romântico",
         "Songs": "313.0",
         "Popularity": "4.4",
         "Link": "/ivete-sangalo/",
         "SName": "Sorte Grande",
         "SLink": "/ivete-sangalo/sorte-grande.html",
         "Lyric": "A minha sorte grande foi você cair do céu\nMinha paixão verdadeira...\n\nViver a emoção, ganhar teu coração\nPra ser feliz a vida inteira\n\nMas é lindo teu sorriso, o brilho dos teus olhos\nMeu anjo querubim\n\nDoces dos meus beijos, calor dos meus braços\nPerfume de jasmim\n\nChegou no meu espaço mandando no pedaço\nO amor que não é brincadeira\nPegou me deu um laço,\nDançou bem no compasso,\nDe prazer levantou poeira\n\nPoeira, poeira, poeira\nLevantou poeira\n\nA minha sorte grande foi você cair do céu\nMinha paixão verdadeira...\n\nViver a emoção, ganhar teu coração\nPra ser feliz a vida inteira\n\nMas é lindo teu sorriso, o brilho dos teus olhos\nMeu anjo querubim\n\nDoces dos meus beijos, calor dos meus braços\nPerfume de jasmim\n\nChegou no meu espaço mandando no pedaço\nO amor que não é brincadeira\nPegou me deu um laço,\nDançou bem no compasso,\nDe prazer levantou poeira\n\nPoeira, poeira, poeira\nLevantou poeira\n\nChegou no meu espaço mandando no pedaço\nO amor que não é brincadeira\nPegou me deu um laço,\nDançou bem…",
         "language": "pt",
         "_deepnote_index_column": "4"
        },
        {
         "Artist": "Ivete Sangalo",
         "Genres": "Pop; Axé; Romântico",
         "Songs": "313.0",
         "Popularity": "4.4",
         "Link": "/ivete-sangalo/",
         "SName": "A Lua Q Eu T Dei",
         "SLink": "/ivete-sangalo/a-lua-q-eu-t-dei.html",
         "Lyric": "Posso te falar dos sonhos, das flores...\nde como a cidade mudou...\nPosso te falar do medo, do meu desejo...\ndo meu amor...\nPosso falar da tarde que cai\nE aos poucos deixa ver no céu a Lua\nQue um dia eu te dei\n\nGosto de fechar os olhos\nFugir do tempo, de me perder\nPosso até perder a hora\nMas sei que já passou das seis\nSei que não há no mundo\nQuem possa te dizer\nQue não é tua a Lua que eu te dei\nPra brilhar por onde você for\nMe queira bem\nDurma bem\nMeu Amor\n\n(lalaralarara....Ohhhhhhh)\n\nEu posso falar da tarde que cai\nE aos poucos deixa ver no céu a Lua\nQue um dia eu te dei\nPra brilhar\nPor onde você for\nMe queira bem\nDurma bem\nMeu amor\nDurma bem\nMe queira bem\nMeu Amor\n\nA lua que eu te dei...\nA lua que eu te dei...",
         "language": "pt",
         "_deepnote_index_column": "5"
        },
        {
         "Artist": "Ivete Sangalo",
         "Genres": "Pop; Axé; Romântico",
         "Songs": "313.0",
         "Popularity": "4.4",
         "Link": "/ivete-sangalo/",
         "SName": "Mulheres Não Têm Que Chorar (com Emicida)",
         "SLink": "/ivete-sangalo/mulheres-nao-tem-que-chorar-com-emicida.html",
         "Lyric": "Hey, girl\nLevanta da cama\nO que foi que te aconteceu?\nDesencana\nHey, girl\nO mundo te chama\nSó você não percebeu\n\nQue até o Cristo Redentor abriu os braços pra você\nSol nasceu mais cedo na certeza de te ver\nAh, sei lá, só basta respirar\nPra ver que o amor é claro como o dia\nSai do edredom\nPõe aquele batom\nColoca o nosso som e veja como é bom dançar\nSem preocupar\n\nMulheres não têm que chorar\nMulheres não têm que chorar\nMulheres não têm que chorar\nAAh, aah\nMulheres não têm que chorar\nMulheres não têm que chorar\nMulheres não têm que chorar\nAAh, aah\n\nE ela se viu só nessa trilha, como uma guerrilha\nNa responsa pela da família\nPensamento veloz, talento feroz\nO Sol no peito, na boca um gloss\nE tudo em nós brilha\nNo mundo masculino, pobre do menino\nQue nas pedras vê sua essência bem refletida\nNão confunda força com violência\nRespeite a água pois ela molda toda vida\nCiclos lunares e das marés, nos lares de todas as fés\nAs fêmeas guardam o sagrado sem cobra, sem fraqueza, sem pecado\nNa dúvida, …",
         "language": "pt",
         "_deepnote_index_column": "6"
        },
        {
         "Artist": "Ivete Sangalo",
         "Genres": "Pop; Axé; Romântico",
         "Songs": "313.0",
         "Popularity": "4.4",
         "Link": "/ivete-sangalo/",
         "SName": "Eva / Alô Paixão / Beleza Rara",
         "SLink": "/ivete-sangalo/eva-alo-paixao-beleza-rara.html",
         "Lyric": "\"EVA\"\n(Giancarlo Bigazzi/Umberto Tozzi)\n\nMeu amor\nOlha só\nHoje o sol não apareceu\nÉ o fim\nDa aventura humana na Terra\nMeu planeta Adeus\nFugiremos nós dois na arca de Noé\n\nOlha bem, meu amor\né o final da odisséia terrestre\nSou Adão e você será\n\nMinha pequena Eva\nEva\nO nosso amor na última astronave\nEva\nAlém do infinito eu vou voar\nsozinho com você\n\nE voando bem alto\nEva\nMe abraça pelo espaço de um instante\nEva\nMe envolve com teu corpo e me dá\nA força pra viver\n\nPelo espaço de um instante\nAfinal não há nada mais\nQue o céu azul\nPra a gente voar\n\nSobre o Rio\nBeirute\nou Madagascar\nToda a terra\nReduzida a nada\nNada mais\n\nMinha vida é um flash\nDe controles\nBotões anti-atômicos\nOlha bem meu amor\nNo final da odisséia terrestre\nSou Adão e você será\n\n---------------------------------------------\n\n\"ALÔ PAIXÃO\"\n(Jorge Xaréu)\n\nEu não vou perder você\nFaz parte dessa história\nRevelo o segredo\nExistente na memória\n\nVou aqui andando\nCaminhando pela vida\nQuero te encontrar, sonhando\nSempre em cada esqui…",
         "language": "pt",
         "_deepnote_index_column": "7"
        },
        {
         "Artist": "Ivete Sangalo",
         "Genres": "Pop; Axé; Romântico",
         "Songs": "313.0",
         "Popularity": "4.4",
         "Link": "/ivete-sangalo/",
         "SName": "Flor do Reggae",
         "SLink": "/ivete-sangalo/flor-do-reggae.html",
         "Lyric": "Um brilho de amor chegou na ilha inteira\nE a Lua que traz o amor é Lua cheia\nUm grito de dor que vem do peito de quem amou alguém\nO reggae me traz saudades de quem me beijou\nE agora tá tão distante em outra ilha\nO amor me chamou de flor\nE disse que eu era alguém pra vida inteira\n\nComo se eu fosse flor, você me cheira\nComo se eu fosse flor, você me rega\nE nesse reggae eu vou a noite inteira\nPorque morrer de amor é brincadeira\n\nUm brilho de amor chegou na ilha inteira\nE a Lua que traz o amor é Lua cheia\nUm grito de dor que vem do peito de quem amou alguém\nO reggae me traz saudades de quem me beijou\nE agora tá tão distante em outra ilha\nO amor me chamou de flor\nE disse que eu era alguém pra vida inteira\n\nRefrão: 3 vezes\nComo se eu fosse flor, você me cheira\nComo se eu fosse flor, você me rega\nE nesse reggae eu vou a noite inteira\nPorque morrer de amor é brincadeira",
         "language": "pt",
         "_deepnote_index_column": "8"
        },
        {
         "Artist": "Ivete Sangalo",
         "Genres": "Pop; Axé; Romântico",
         "Songs": "313.0",
         "Popularity": "4.4",
         "Link": "/ivete-sangalo/",
         "SName": "Carro Velho",
         "SLink": "/ivete-sangalo/carro-velho.html",
         "Lyric": "Cheiro de pneu queimado, carburador furado, coração dilacerado!\nQuero meu negão do lado, cabelo penteado no meu carro envenenado\n\nEu vou Eu vou\nEntão venha!\nPois eu sei que amar a pé amor, é lenha!\nEu vou Eu vou\nEntão venha!\nPois eu sei que amar a pé amor, é lenha!\nEu vou pra lá dançar, seja noite ou seja dia, se eu beber algum amor, me guia!\nEu vou pra lá dançar, seja noite ou seja dia, se eu beber algum amor, ohohoho me guia!\n\nQuer andar de carro velho amor, que venha, pois eu sei que amar a pé amor, é lenha!\nQuer andar de carro velho amor, que venha, pois eu sei que amar a pé amor, é lenha!\n\nCheiro de pneu queimado, carburador furado, coração dilacerado!\nQuero meu negão do lado, cabelo penteado no meu carro envenenado\n\nEu vou Eu vou\nEntão venha!\nPois eu sei que amar a pé amor, é lenha!\nEu vou Eu vou\nEntão venha!\nPois eu sei que amar a pé amor, é lenha!\nEu vou pra lá dançar, seja noite ou seja dia, se eu beber algum amor, me guia!\nEu vou pra lá dançar, seja noite ou seja dia, se eu …",
         "language": "pt",
         "_deepnote_index_column": "9"
        }
       ]
      },
      "text/plain": "               Artist                         Genres  Songs  Popularity  \\\n0       Ivete Sangalo            Pop; Axé; Romântico  313.0         4.4   \n1       Ivete Sangalo            Pop; Axé; Romântico  313.0         4.4   \n2       Ivete Sangalo            Pop; Axé; Romântico  313.0         4.4   \n3       Ivete Sangalo            Pop; Axé; Romântico  313.0         4.4   \n4       Ivete Sangalo            Pop; Axé; Romântico  313.0         4.4   \n...               ...                            ...    ...         ...   \n378983   Johnny Clegg  World Music; Gospel/Religioso   34.0         0.0   \n378984   Johnny Clegg  World Music; Gospel/Religioso   34.0         0.0   \n378985   Johnny Clegg  World Music; Gospel/Religioso   34.0         0.0   \n378986   Johnny Clegg  World Music; Gospel/Religioso   34.0         0.0   \n378987   Johnny Clegg  World Music; Gospel/Religioso   34.0         0.0   \n\n                   Link                                          SName  \\\n0       /ivete-sangalo/                                          Arerê   \n1       /ivete-sangalo/                Se Eu Não Te Amasse Tanto Assim   \n2       /ivete-sangalo/                                    Céu da Boca   \n3       /ivete-sangalo/                          Quando A Chuva Passar   \n4       /ivete-sangalo/                                   Sorte Grande   \n...                 ...                                            ...   \n378983   /clegg-johnny/                                    The Waiting   \n378984   /clegg-johnny/                          Too Early For The Sky   \n378985   /clegg-johnny/  Warsaw 1943 (I Never Betrayed The Revolution)   \n378986   /clegg-johnny/                     When The System Has Fallen   \n378987   /clegg-johnny/                            Woman Be My Country   \n\n                                                    SLink  \\\n0                               /ivete-sangalo/arere.html   \n1       /ivete-sangalo/se-eu-nao-te-amasse-tanto-assim...   \n2                          /ivete-sangalo/chupa-toda.html   \n3               /ivete-sangalo/quando-a-chuva-passar.html   \n4                        /ivete-sangalo/sorte-grande.html   \n...                                                   ...   \n378983                     /clegg-johnny/the-waiting.html   \n378984           /clegg-johnny/too-early-for-the-sky.html   \n378985  /clegg-johnny/warsaw-1943-i-never-betrayed-the...   \n378986      /clegg-johnny/when-the-system-has-fallen.html   \n378987             /clegg-johnny/woman-be-my-country.html   \n\n                                                    Lyric language  \n0       Tudo o que eu quero nessa vida,\\nToda vida, é\\...       pt  \n1       Meu coração\\nSem direção\\nVoando só por voar\\n...       pt  \n2       É de babaixá!\\nÉ de balacubaca!\\nÉ de babaixá!...       pt  \n3       Quando a chuva passar\\n\\nPra quê falar\\nSe voc...       pt  \n4       A minha sorte grande foi você cair do céu\\nMin...       pt  \n...                                                   ...      ...  \n378983  Chorus\\nHere we stand waiting on the plain\\nDa...       en  \n378984  I nearly disappeared into the mouth of a croco...       en  \n378985  Amambuka, amambuka azothengisa izwe lakithi, i...       en  \n378986  Sweat in the heat for days on end\\nwaiting for...       en  \n378987  Here we stand on the edge of the day\\nFaces me...       en  \n\n[378988 rows x 9 columns]",
      "text/html": "<div>\n<style scoped>\n    .dataframe tbody tr th:only-of-type {\n        vertical-align: middle;\n    }\n\n    .dataframe tbody tr th {\n        vertical-align: top;\n    }\n\n    .dataframe thead th {\n        text-align: right;\n    }\n</style>\n<table border=\"1\" class=\"dataframe\">\n  <thead>\n    <tr style=\"text-align: right;\">\n      <th></th>\n      <th>Artist</th>\n      <th>Genres</th>\n      <th>Songs</th>\n      <th>Popularity</th>\n      <th>Link</th>\n      <th>SName</th>\n      <th>SLink</th>\n      <th>Lyric</th>\n      <th>language</th>\n    </tr>\n  </thead>\n  <tbody>\n    <tr>\n      <th>0</th>\n      <td>Ivete Sangalo</td>\n      <td>Pop; Axé; Romântico</td>\n      <td>313.0</td>\n      <td>4.4</td>\n      <td>/ivete-sangalo/</td>\n      <td>Arerê</td>\n      <td>/ivete-sangalo/arere.html</td>\n      <td>Tudo o que eu quero nessa vida,\\nToda vida, é\\...</td>\n      <td>pt</td>\n    </tr>\n    <tr>\n      <th>1</th>\n      <td>Ivete Sangalo</td>\n      <td>Pop; Axé; Romântico</td>\n      <td>313.0</td>\n      <td>4.4</td>\n      <td>/ivete-sangalo/</td>\n      <td>Se Eu Não Te Amasse Tanto Assim</td>\n      <td>/ivete-sangalo/se-eu-nao-te-amasse-tanto-assim...</td>\n      <td>Meu coração\\nSem direção\\nVoando só por voar\\n...</td>\n      <td>pt</td>\n    </tr>\n    <tr>\n      <th>2</th>\n      <td>Ivete Sangalo</td>\n      <td>Pop; Axé; Romântico</td>\n      <td>313.0</td>\n      <td>4.4</td>\n      <td>/ivete-sangalo/</td>\n      <td>Céu da Boca</td>\n      <td>/ivete-sangalo/chupa-toda.html</td>\n      <td>É de babaixá!\\nÉ de balacubaca!\\nÉ de babaixá!...</td>\n      <td>pt</td>\n    </tr>\n    <tr>\n      <th>3</th>\n      <td>Ivete Sangalo</td>\n      <td>Pop; Axé; Romântico</td>\n      <td>313.0</td>\n      <td>4.4</td>\n      <td>/ivete-sangalo/</td>\n      <td>Quando A Chuva Passar</td>\n      <td>/ivete-sangalo/quando-a-chuva-passar.html</td>\n      <td>Quando a chuva passar\\n\\nPra quê falar\\nSe voc...</td>\n      <td>pt</td>\n    </tr>\n    <tr>\n      <th>4</th>\n      <td>Ivete Sangalo</td>\n      <td>Pop; Axé; Romântico</td>\n      <td>313.0</td>\n      <td>4.4</td>\n      <td>/ivete-sangalo/</td>\n      <td>Sorte Grande</td>\n      <td>/ivete-sangalo/sorte-grande.html</td>\n      <td>A minha sorte grande foi você cair do céu\\nMin...</td>\n      <td>pt</td>\n    </tr>\n    <tr>\n      <th>...</th>\n      <td>...</td>\n      <td>...</td>\n      <td>...</td>\n      <td>...</td>\n      <td>...</td>\n      <td>...</td>\n      <td>...</td>\n      <td>...</td>\n      <td>...</td>\n    </tr>\n    <tr>\n      <th>378983</th>\n      <td>Johnny Clegg</td>\n      <td>World Music; Gospel/Religioso</td>\n      <td>34.0</td>\n      <td>0.0</td>\n      <td>/clegg-johnny/</td>\n      <td>The Waiting</td>\n      <td>/clegg-johnny/the-waiting.html</td>\n      <td>Chorus\\nHere we stand waiting on the plain\\nDa...</td>\n      <td>en</td>\n    </tr>\n    <tr>\n      <th>378984</th>\n      <td>Johnny Clegg</td>\n      <td>World Music; Gospel/Religioso</td>\n      <td>34.0</td>\n      <td>0.0</td>\n      <td>/clegg-johnny/</td>\n      <td>Too Early For The Sky</td>\n      <td>/clegg-johnny/too-early-for-the-sky.html</td>\n      <td>I nearly disappeared into the mouth of a croco...</td>\n      <td>en</td>\n    </tr>\n    <tr>\n      <th>378985</th>\n      <td>Johnny Clegg</td>\n      <td>World Music; Gospel/Religioso</td>\n      <td>34.0</td>\n      <td>0.0</td>\n      <td>/clegg-johnny/</td>\n      <td>Warsaw 1943 (I Never Betrayed The Revolution)</td>\n      <td>/clegg-johnny/warsaw-1943-i-never-betrayed-the...</td>\n      <td>Amambuka, amambuka azothengisa izwe lakithi, i...</td>\n      <td>en</td>\n    </tr>\n    <tr>\n      <th>378986</th>\n      <td>Johnny Clegg</td>\n      <td>World Music; Gospel/Religioso</td>\n      <td>34.0</td>\n      <td>0.0</td>\n      <td>/clegg-johnny/</td>\n      <td>When The System Has Fallen</td>\n      <td>/clegg-johnny/when-the-system-has-fallen.html</td>\n      <td>Sweat in the heat for days on end\\nwaiting for...</td>\n      <td>en</td>\n    </tr>\n    <tr>\n      <th>378987</th>\n      <td>Johnny Clegg</td>\n      <td>World Music; Gospel/Religioso</td>\n      <td>34.0</td>\n      <td>0.0</td>\n      <td>/clegg-johnny/</td>\n      <td>Woman Be My Country</td>\n      <td>/clegg-johnny/woman-be-my-country.html</td>\n      <td>Here we stand on the edge of the day\\nFaces me...</td>\n      <td>en</td>\n    </tr>\n  </tbody>\n</table>\n<p>378988 rows × 9 columns</p>\n</div>"
     },
     "metadata": {}
    }
   ]
  },
  {
   "cell_type": "code",
   "source": "df.describe()",
   "metadata": {
    "cell_id": "b68a2d02eecb4f73858b4f8a2c9237de",
    "tags": [],
    "deepnote_to_be_reexecuted": false,
    "source_hash": "f88152d9",
    "execution_start": 1663139372006,
    "execution_millis": 192,
    "deepnote_cell_type": "code",
    "deepnote_cell_height": 513
   },
   "outputs": [
    {
     "output_type": "execute_result",
     "execution_count": 7,
     "data": {
      "application/vnd.deepnote.dataframe.v3+json": {
       "column_count": 2,
       "row_count": 8,
       "columns": [
        {
         "name": "Songs",
         "dtype": "float64",
         "stats": {
          "unique_count": 8,
          "nan_count": 0,
          "min": "1.0",
          "max": "378987.0",
          "histogram": [
           {
            "bin_start": 1,
            "bin_end": 37899.6,
            "count": 7
           },
           {
            "bin_start": 37899.6,
            "bin_end": 75798.2,
            "count": 0
           },
           {
            "bin_start": 75798.2,
            "bin_end": 113696.79999999999,
            "count": 0
           },
           {
            "bin_start": 113696.79999999999,
            "bin_end": 151595.4,
            "count": 0
           },
           {
            "bin_start": 151595.4,
            "bin_end": 189494,
            "count": 0
           },
           {
            "bin_start": 189494,
            "bin_end": 227392.59999999998,
            "count": 0
           },
           {
            "bin_start": 227392.59999999998,
            "bin_end": 265291.2,
            "count": 0
           },
           {
            "bin_start": 265291.2,
            "bin_end": 303189.8,
            "count": 0
           },
           {
            "bin_start": 303189.8,
            "bin_end": 341088.39999999997,
            "count": 0
           },
           {
            "bin_start": 341088.39999999997,
            "bin_end": 378987,
            "count": 1
           }
          ]
         }
        },
        {
         "name": "Popularity",
         "dtype": "float64",
         "stats": {
          "unique_count": 7,
          "nan_count": 0,
          "min": "0.0",
          "max": "378986.0",
          "histogram": [
           {
            "bin_start": 0,
            "bin_end": 37898.6,
            "count": 7
           },
           {
            "bin_start": 37898.6,
            "bin_end": 75797.2,
            "count": 0
           },
           {
            "bin_start": 75797.2,
            "bin_end": 113695.79999999999,
            "count": 0
           },
           {
            "bin_start": 113695.79999999999,
            "bin_end": 151594.4,
            "count": 0
           },
           {
            "bin_start": 151594.4,
            "bin_end": 189493,
            "count": 0
           },
           {
            "bin_start": 189493,
            "bin_end": 227391.59999999998,
            "count": 0
           },
           {
            "bin_start": 227391.59999999998,
            "bin_end": 265290.2,
            "count": 0
           },
           {
            "bin_start": 265290.2,
            "bin_end": 303188.8,
            "count": 0
           },
           {
            "bin_start": 303188.8,
            "bin_end": 341087.39999999997,
            "count": 0
           },
           {
            "bin_start": 341087.39999999997,
            "bin_end": 378986,
            "count": 1
           }
          ]
         }
        },
        {
         "name": "_deepnote_index_column",
         "dtype": "object"
        }
       ],
       "rows": [
        {
         "Songs": "378987.0",
         "Popularity": "378986.0",
         "_deepnote_index_column": "count"
        },
        {
         "Songs": "193.6876753028468",
         "Popularity": "4.380521444063895",
         "_deepnote_index_column": "mean"
        },
        {
         "Songs": "161.56342519260755",
         "Popularity": "13.02961958776933",
         "_deepnote_index_column": "std"
        },
        {
         "Songs": "1.0",
         "Popularity": "0.0",
         "_deepnote_index_column": "min"
        },
        {
         "Songs": "86.0",
         "Popularity": "0.0",
         "_deepnote_index_column": "25%"
        },
        {
         "Songs": "145.0",
         "Popularity": "1.0",
         "_deepnote_index_column": "50%"
        },
        {
         "Songs": "248.0",
         "Popularity": "2.9",
         "_deepnote_index_column": "75%"
        },
        {
         "Songs": "1029.0",
         "Popularity": "205.5",
         "_deepnote_index_column": "max"
        }
       ]
      },
      "text/plain": "               Songs     Popularity\ncount  378987.000000  378986.000000\nmean      193.687675       4.380521\nstd       161.563425      13.029620\nmin         1.000000       0.000000\n25%        86.000000       0.000000\n50%       145.000000       1.000000\n75%       248.000000       2.900000\nmax      1029.000000     205.500000",
      "text/html": "<div>\n<style scoped>\n    .dataframe tbody tr th:only-of-type {\n        vertical-align: middle;\n    }\n\n    .dataframe tbody tr th {\n        vertical-align: top;\n    }\n\n    .dataframe thead th {\n        text-align: right;\n    }\n</style>\n<table border=\"1\" class=\"dataframe\">\n  <thead>\n    <tr style=\"text-align: right;\">\n      <th></th>\n      <th>Songs</th>\n      <th>Popularity</th>\n    </tr>\n  </thead>\n  <tbody>\n    <tr>\n      <th>count</th>\n      <td>378987.000000</td>\n      <td>378986.000000</td>\n    </tr>\n    <tr>\n      <th>mean</th>\n      <td>193.687675</td>\n      <td>4.380521</td>\n    </tr>\n    <tr>\n      <th>std</th>\n      <td>161.563425</td>\n      <td>13.029620</td>\n    </tr>\n    <tr>\n      <th>min</th>\n      <td>1.000000</td>\n      <td>0.000000</td>\n    </tr>\n    <tr>\n      <th>25%</th>\n      <td>86.000000</td>\n      <td>0.000000</td>\n    </tr>\n    <tr>\n      <th>50%</th>\n      <td>145.000000</td>\n      <td>1.000000</td>\n    </tr>\n    <tr>\n      <th>75%</th>\n      <td>248.000000</td>\n      <td>2.900000</td>\n    </tr>\n    <tr>\n      <th>max</th>\n      <td>1029.000000</td>\n      <td>205.500000</td>\n    </tr>\n  </tbody>\n</table>\n</div>"
     },
     "metadata": {}
    }
   ],
   "execution_count": 7
  },
  {
   "cell_type": "code",
   "source": "df[df['language']=='fr']",
   "metadata": {
    "cell_id": "07c0543a71f24942849902b556e17063",
    "tags": [],
    "deepnote_to_be_reexecuted": false,
    "source_hash": "e97fdbb6",
    "execution_start": 1663140547086,
    "execution_millis": 43,
    "deepnote_cell_type": "code",
    "deepnote_cell_height": 611.65625
   },
   "outputs": [
    {
     "output_type": "execute_result",
     "execution_count": 9,
     "data": {
      "application/vnd.deepnote.dataframe.v3+json": {
       "column_count": 9,
       "row_count": 1221,
       "columns": [
        {
         "name": "Artist",
         "dtype": "object",
         "stats": {
          "unique_count": 250,
          "nan_count": 0,
          "categories": [
           {
            "name": "Céline Dion",
            "count": 165
           },
           {
            "name": "Lara Fabian",
            "count": 117
           },
           {
            "name": "248 others",
            "count": 939
           }
          ]
         }
        },
        {
         "name": "Genres",
         "dtype": "object",
         "stats": {
          "unique_count": 200,
          "nan_count": 0,
          "categories": [
           {
            "name": "Romântico",
            "count": 171
           },
           {
            "name": "Trilha Sonora; Pop; Romântico",
            "count": 165
           },
           {
            "name": "198 others",
            "count": 885
           }
          ]
         }
        },
        {
         "name": "Songs",
         "dtype": "float64",
         "stats": {
          "unique_count": 182,
          "nan_count": 0,
          "min": "4.0",
          "max": "695.0",
          "histogram": [
           {
            "bin_start": 4,
            "bin_end": 73.1,
            "count": 338
           },
           {
            "bin_start": 73.1,
            "bin_end": 142.2,
            "count": 329
           },
           {
            "bin_start": 142.2,
            "bin_end": 211.29999999999998,
            "count": 204
           },
           {
            "bin_start": 211.29999999999998,
            "bin_end": 280.4,
            "count": 79
           },
           {
            "bin_start": 280.4,
            "bin_end": 349.5,
            "count": 36
           },
           {
            "bin_start": 349.5,
            "bin_end": 418.59999999999997,
            "count": 206
           },
           {
            "bin_start": 418.59999999999997,
            "bin_end": 487.69999999999993,
            "count": 7
           },
           {
            "bin_start": 487.69999999999993,
            "bin_end": 556.8,
            "count": 16
           },
           {
            "bin_start": 556.8,
            "bin_end": 625.9,
            "count": 2
           },
           {
            "bin_start": 625.9,
            "bin_end": 695,
            "count": 4
           }
          ]
         }
        },
        {
         "name": "Popularity",
         "dtype": "float64",
         "stats": {
          "unique_count": 82,
          "nan_count": 0,
          "min": "0.0",
          "max": "205.5",
          "histogram": [
           {
            "bin_start": 0,
            "bin_end": 20.55,
            "count": 1201
           },
           {
            "bin_start": 20.55,
            "bin_end": 41.1,
            "count": 10
           },
           {
            "bin_start": 41.1,
            "bin_end": 61.650000000000006,
            "count": 6
           },
           {
            "bin_start": 61.650000000000006,
            "bin_end": 82.2,
            "count": 1
           },
           {
            "bin_start": 82.2,
            "bin_end": 102.75,
            "count": 0
           },
           {
            "bin_start": 102.75,
            "bin_end": 123.30000000000001,
            "count": 0
           },
           {
            "bin_start": 123.30000000000001,
            "bin_end": 143.85,
            "count": 1
           },
           {
            "bin_start": 143.85,
            "bin_end": 164.4,
            "count": 0
           },
           {
            "bin_start": 164.4,
            "bin_end": 184.95000000000002,
            "count": 0
           },
           {
            "bin_start": 184.95000000000002,
            "bin_end": 205.5,
            "count": 2
           }
          ]
         }
        },
        {
         "name": "Link",
         "dtype": "object",
         "stats": {
          "unique_count": 250,
          "nan_count": 0,
          "categories": [
           {
            "name": "/celine-dion/",
            "count": 165
           },
           {
            "name": "/lara-fabian/",
            "count": 117
           },
           {
            "name": "248 others",
            "count": 939
           }
          ]
         }
        },
        {
         "name": "SName",
         "dtype": "object",
         "stats": {
          "unique_count": 1163,
          "nan_count": 0,
          "categories": [
           {
            "name": "La Vie en Rose",
            "count": 8
           },
           {
            "name": "Ne Me Quitte Pas",
            "count": 7
           },
           {
            "name": "1161 others",
            "count": 1206
           }
          ]
         }
        },
        {
         "name": "SLink",
         "dtype": "object",
         "stats": {
          "unique_count": 1221,
          "nan_count": 0,
          "categories": [
           {
            "name": "/beyonce/bienvenue.html",
            "count": 1
           },
           {
            "name": "/beyonce/vois-sur-ton-chemin.html",
            "count": 1
           },
           {
            "name": "1219 others",
            "count": 1219
           }
          ]
         }
        },
        {
         "name": "Lyric",
         "dtype": "object",
         "stats": {
          "unique_count": 1217,
          "nan_count": 0,
          "categories": [
           {
            "name": "Alors on danse\nAlors on danse\nAlors on danse\n\nQui dit études dit travail\nQui dit taf te dit les thunes\nQui dit argent dit dépenses\nQui dit crédit dit créance\n\nQui dit dette te dit huissier\nOui dit assis dans la merde\nQui dit amour dit les gosses\nDit toujours et dit divorce\n\nQui dit proches te dis deuils\nCar les problèmes ne viennent pas seul\nQui dit crise te dis monde dit famine dit tiers-monde\nQui dit fatigue dit réveille encore sourd de la veille\nAlors on sort pour oublier tous les problèmes\n\nAlors on danse?\nAlors on danse?\nAlors on danse?\nAlors on danse? Ha, ha\nAlors on danse?\n(Don't don't, on danse, on danse et puis on danse, alors on danse)\nDon't don't don't don't, jusqu'a demain alors on danse\nAlors on danse?\nAlors on danse?\n\nThis is that original\nThis has no identical\nYou can't have my digital\nFuture Aboriginal\nGet up off my genitals\nI stay on that pinnacle\nChewin up my lyicals\nCall me verbal criminal\n\nSend you to that clinical\nSubscribe use of Chemicals\nI.D.O. and visual, can't see me, invisible\nI'm old school like Biblical\nFuturistic next level...\nWill I stop I never know\n\nI ain't gonna stop until I'm done (don't stop it)\nI ain't gonna quit until I go\n\nNow baby don't you stop it, stop it\nNow baby don't you stop it, stop it\nNow baby don't you stop it, stop it\nYou cannot stop us now...\n\nI ain't gonna stop until I'm done (don't stop it)\nI ain't gonna quit until I go\n\nNow baby don't you stop it, stop it\nNow baby don't you stop it, stop it\nNow baby don't you stop it, stop it, stop it, stop it\nEven if you wanted to, you couldn't stop us now...\n\nDon't stop the party\n\nDon't, don't, don't, don't\nStop, stop, stop\nThe, the, the\nDon't stop the party\n\nYou could cause me crazy man\nEveryday I'm party'in\nYou could find me at the club\nPop'n bottles, minglin\nLadies danc'in to the jam\nAct'n all day, man oh man\nGot me in the mood again\nAt the party, partyin\n\nYeah I get that happenen'\nTakin' shots, whatever man\nParty like a veteran\nMusic is my medicine\nYou, and Bobby Settlan\nCan't restart I'm stepin in\nKeep it goin' till the end\nYeah that's right, we here again\n\nI'm that one that lights it up\nWe red hot like fire trucks\nBurn that book, that's what up\nTell that DJ turn it up\n\nWe droppin, that music, good people all around\nKeep rockin', head knockin', coz they can't shut us down\n\nAin't ain't no stoppin'\nWe gonna keep on rockin'\nBaby ain't no stoppin\nU couldn't a stop us now\n\nI ain't gonna stop until I'm done (don't stop it)\nI ain't gonna quit until I'm one\n\nNow baby don't you stop it, stop it\nNow baby don't you stop it, stop it\nNow baby don't you stop it, stop it, stop it, stop it\nEven if you wanted to, you couldn't stop us now...\n\nDon't stop the party",
            "count": 2
           },
           {
            "name": "Un jour tu verras\nOn se rencontrera\nQuelque part, n'importe où\nGuidés par le hasard\n\nNous nous regarderons\nEt nous nous sourirons\nEt la main dans la main\nPar les rues nous irons\n\nLe temps passe si vite\nLe soir cachera bien\nNos coeurs, ces deux voleurs\nQui gardent leurs bonheurs\n\nEt nous arriverons\nSur une place grise\nOù les pavés seront doux\nA nos âmes grises\n\nIl y aura un bal\nTrès pauvre et très banal\nSous un ciel plein de brume\nEt de mélancolie\n\nUn aveugle jouera\nDe l'orgue de barbarie\nCet air pour nous sera\nLe plus beau, le plus joli\n\nPuis je t'inviterai\nTa taille je prendrai\nNous danserons tranquille\nLoin des gens de la ville\n\nNous danserons l'amour\nLes yeux au fond des yeux\nVers une nuit profonde\nVers une fin du monde\n\nUn jour tu verras\nOn se rencontrera\nQuelque part, n'importe où\nGuidés par le hasard\n\nNous nous regarderons\nEt nous nous sourirons\nEt la main dans la main\nPar les rues nous irons",
            "count": 2
           },
           {
            "name": "1215 others",
            "count": 1217
           }
          ]
         }
        },
        {
         "name": "language",
         "dtype": "object",
         "stats": {
          "unique_count": 1,
          "nan_count": 0,
          "categories": [
           {
            "name": "fr",
            "count": 1221
           }
          ]
         }
        },
        {
         "name": "_deepnote_index_column",
         "dtype": "int64"
        }
       ],
       "rows": [
        {
         "Artist": "Beyoncé",
         "Genres": "Pop; R&B; Black Music",
         "Songs": "276.0",
         "Popularity": "205.5",
         "Link": "/beyonce/",
         "SName": "Bienvenue",
         "SLink": "/beyonce/bienvenue.html",
         "Lyric": "Beyoncé\nIam\nWelcome\nWelcome\nHey\nOhhhh\n\n[akhenaton:]\nBienvenue là où l'fort tue le faible, où la faim tue de fait\nOù la société t'congratule, et t'accepte\nUne fois la fortune faite,\nOù les dettes cumulent, où l'crédit accule, des tas d'foyers,\nOù les hommes en perte d'idéaux\nJurent qu'par les putes dévoyées en vidéo,\nChaque soir c'est la fête,\nLes salons cossus attirent les fesses,\nSur les gros caïds, qui arrosent l\nEs guéridons de pure cocaïne,\nIci, les gosses rêvent d'êt'pirès,\nBeaucoup partent et peu qui restent,\nNombreux sont ceux qui dès 13 ans\nConnaissent leur première ivresse\n\nBienvenue là où l'air pollué,\nPar les pots d'échappement déclenchent\nAllergies en cascade, et taux record\nD'o3 dans les bronches,\nDouleurs dans les hanches,\nRien plus d'dangereux qu'la faune humaine\nQuand ils explosent un fourgon\nBrinks sans peine au tri-nitro-toluène\nLes vices connus gênent la machine de l'etat\nLes cabinets changent\nLaissent la merde en état, peu passent\nLes menottes en métal\nOn en est là…",
         "language": "fr",
         "_deepnote_index_column": "4813"
        },
        {
         "Artist": "Beyoncé",
         "Genres": "Pop; R&B; Black Music",
         "Songs": "276.0",
         "Popularity": "205.5",
         "Link": "/beyonce/",
         "SName": "Vois Sur Ton Chemin",
         "SLink": "/beyonce/vois-sur-ton-chemin.html",
         "Lyric": "Vois sur ton chemin\nGamins oubliés égarés\nDonne leur la main\nPour les mener\nVers d'autres lendemains\nDonne leur la main\nPour les mener\nVers d'autres lendemains\n\nSens au coeur de la nuit\nL'onde d'espoir\nArdeur de la vie\nSentier de gloire\nArdeur de la vie\nDe la vie\nSentier de gloire\nSentir de gloire\n\nBonheurs enfantins\nTrop vite oubliés effacés\nUne lumière dorée\nBrille sans fin\nTout au bout du chemin\nVite oubliés effacés\nUne lumière dorée\nBrille sans fin\n\nSens au coeur de la nuit\nL'onde d'espoir\nArdeur de la vie\nSentier de gloire\nArdeur de la vie\nDe la vie\nSentier de gloire\nSentir de gloire",
         "language": "fr",
         "_deepnote_index_column": "5015"
        },
        {
         "Artist": "Michael Jackson",
         "Genres": "Pop; R&B; Black Music",
         "Songs": "300.0",
         "Popularity": "36.0",
         "Link": "/michael-jackson/",
         "SName": "Je Ne Veux Pas La Fin de Nous",
         "SLink": "/michael-jackson/je-ne-veux-pas-la-fin-de-nous.html",
         "Lyric": "Je ferme les yeux\nJe me sens fiévreux\nSans toi j'ai froid\nJ'aimerais t'appeler\nJ'aimerais prononcer que toi, que toi\nCe que je ressens\nPersonne ne comprend\nJe me sens si bien de t'aimer\nPour la première fois\nJe sais que c'est toi\nJ'ai besoin de rêver\nJe vais t'emmener\n\nL'été finira\nPrès du feu de bois\nOn fera l'amour\nBlottie contre toi\nJe te dirai tout bas\nTu me rends folle\nCe que je ressens personne ne comprend\nJe me sens si bien près de toi\nJ'en perd ma fierté\nJe ne veux plus tricher\nLa vérité pour moi\nC'est la vie avec toi\n\nJe ne veux pas la fin de nous\nJe ne veux pas la fin de nous\nEt si ca stoppe\nJe crois que je deviendrais fou\nJe ne veux pas la fin de nous\n\nEt danser tout l'hiver\nSans toi c'est un enfer\nNe t'en vas pas\nEt pouvoir t'embrasser\nJ'en tremble rien d'y penser\nTout te donner\nLes femmes d'avant toi\nNe comptent même pas\nJ'ai oublié tout ton passé\nLe terre pous trembler\nLa guerre éclater\nJe supporterai tout\nÉcoute-moi mon amour\n\nJe ne veux pas la fin de nous\nJe ne veux pa…",
         "language": "fr",
         "_deepnote_index_column": "6269"
        },
        {
         "Artist": "Black Eyed Peas",
         "Genres": "Electronica; Black Music; Hip Hop",
         "Songs": "165.0",
         "Popularity": "36.7",
         "Link": "/black-eyed-peas/",
         "SName": "Alors On Danse & Don't Stop The Party Mashup (feat. Stromae)",
         "SLink": "/black-eyed-peas/alors-on-danse-dont-stop-the-party-mashup-feat-stromae.html",
         "Lyric": "Alors on danse\nAlors on danse\nAlors on danse\n\nQui dit études dit travail\nQui dit taf te dit les thunes\nQui dit argent dit dépenses\nQui dit crédit dit créance\n\nQui dit dette te dit huissier\nOui dit assis dans la merde\nQui dit amour dit les gosses\nDit toujours et dit divorce\n\nQui dit proches te dis deuils\nCar les problèmes ne viennent pas seul\nQui dit crise te dis monde dit famine dit tiers-monde\nQui dit fatigue dit réveille encore sourd de la veille\nAlors on sort pour oublier tous les problèmes\n\nAlors on danse?\nAlors on danse?\nAlors on danse?\nAlors on danse? Ha, ha\nAlors on danse?\n(Don't don't, on danse, on danse et puis on danse, alors on danse)\nDon't don't don't don't, jusqu'a demain alors on danse\nAlors on danse?\nAlors on danse?\n\nThis is that original\nThis has no identical\nYou can't have my digital\nFuture Aboriginal\nGet up off my genitals\nI stay on that pinnacle\nChewin up my lyicals\nCall me verbal criminal\n\nSend you to that clinical\nSubscribe use of Chemicals\nI.D.O. and visual, can'…",
         "language": "fr",
         "_deepnote_index_column": "6662"
        },
        {
         "Artist": "Akon",
         "Genres": "Rap; Black Music; Pop",
         "Songs": "335.0",
         "Popularity": "17.4",
         "Link": "/akon/",
         "SName": "Gun In My Hand",
         "SLink": "/akon/gun-in-my-hand.html",
         "Lyric": "I find myself wandering up the road with a gun in my hand\nTrying to stay cool and be the bigga man\nCause I don't think niggas nowadays understand\nThat if you tempt me, I put under the sand\nRight away hey, right away ho oh\nRight away hey, I put you under the sand\nRight away hey, right away ho oh\nRight away hey, I put you under the sand\n\n[Booba:]\nMoi j'rappe avec le coeur, ã©coute ce couplet\nSi t'es criblã© de douilles c'est que tu chantes comme un poulet\nTu rap avec le boul\nT'approches pas d'mon panier, plus d'3 secondes dans la raquette\nEt 92 bastos boom se dirigent vers ta casquette\nLa rue te fascine, la rue te prend, la rue te calcine\nMa racine c'est l'argent facile\nMon rap c'est une montã© d'adrã©naline\nune mauvaise blague sur ta mã¨re\nPas besoin de la brigade canine pour sentir qu'tu pues la merde\nMc t'as trop trainer ton cul sur les banc de la fac\nJ'vais faire un manteau d'fourrure avec les poils de ta chatte\nD'un patron j'aime pas recevoir d'ordre\nAchã¨tes mon album ã tes gosses…",
         "language": "fr",
         "_deepnote_index_column": "7190"
        },
        {
         "Artist": "Akon",
         "Genres": "Rap; Black Music; Pop",
         "Songs": "335.0",
         "Popularity": "17.4",
         "Link": "/akon/",
         "SName": "Lunatic",
         "SLink": "/akon/lunatic.html",
         "Lyric": "[Intro - Akon]\nAkon and Booba, yeah !\n\n[Couplet 1 - Booba]\n18 août 98, B.2.O.B.A. locked up dans le 78\nLunatic depuis la naissance\nA.L.I. tu as toute ma reconnaissance\nVivre en guerre, mourir en paix\nJ'écris mes punchs en cellule, quartier jeune, Bâtiment B\nJ'fais des pompes comme à la légion\n30 mois fermes dans les chicos, j'suis au hebs comme à la maison\nCondamné pour vol aggravé\nPremier album de la FF, Ärsenik m'aide à gratter\nQuelques rapports, un peu de mitard\nJ'vendrais père et mère pour paire de nibards\nLe zoo me manque, j'saurai plus tard\nQui est qui, tous m'ont oublié pour la plupart\nLaisse-les croire que j'irai nulle part\nCrapeau deviendra prince, nique sa mère mon nénuphar\n\n[Refrain - Akon]\nI stay untouchable when I roll up\nJust wide open and I ain't gone high\nRaised in the streets, Dakar to New York\n'Cause that's how many niggas lose their lives\n'Cause I'm a lunatic, a lunatic\nThe type of nigga that don't let be fried\nI'm telling you now, it ain't nothing to load up\nAnd bl…",
         "language": "fr",
         "_deepnote_index_column": "7251"
        },
        {
         "Artist": "Snoop Dogg",
         "Genres": "Hip Hop; Rap; Black Music",
         "Songs": "494.0",
         "Popularity": "13.0",
         "Link": "/snoop-dogg/",
         "SName": "Emergency (Feat. Audio Playground Avec Doug St-Louis)",
         "SLink": "/snoop-dogg/emergency-feat-audio-playground-avec-doug-st-louis.html",
         "Lyric": "Rock the party like\nRock the party like\nBig snoop dogg\nRock the party like\nAp let's go!\n\nJ'veux rien entendre\nJ'peux plus en prendre\nPourquoi tu n'peux attendre\nBaby\n\nJ't'ignore quand tu m'e'branles\nQuand tes propos m'étranglent\nWhoah!\nTu tu peux te détendre\nMy baby slow down\n\nJ'te perds quand tu parles trop\nTon égo s'enflamme\nTes demandes sont un fardeau\n\nBaby slow down\nJ'te perds quand tu parles trop\nTon égo s'enflamme\nFlamme, flamme\n\nLà on a une emergency\nCette fille va m'faire interner\nElle me cinglé\nElle a perdu la tête j'vais devoir m'éclipser\nOn est rien d'c'qu'on a éte\nArrêtez!\nOh!\nLà on a une emergency\nWoah\nAaarrêtez!\nWoah\nEmergency\n\nToi et moi trop à l'étroit\nJ'tefile entre les doigts\nBaby\nLa goutte de trop\nA coulé sur mon dos\nOublies mon numéro\n\nBaby slow down\nJ'te perds quand tu parles trop\nTon égo s'enflamme\nTes demandes sount un fardeau\n\nBaby slow down\nJ'te perds quand tu parles trop\nTon égo s'enflamme\nFlamme, flamme\n\nLà on a une emergency\nCette fille va m'faire interner…",
         "language": "fr",
         "_deepnote_index_column": "7534"
        },
        {
         "Artist": "Snoop Dogg",
         "Genres": "Hip Hop; Rap; Black Music",
         "Songs": "494.0",
         "Popularity": "13.0",
         "Link": "/snoop-dogg/",
         "SName": "Mission Cleopatra",
         "SLink": "/snoop-dogg/mission-cleopatra.html",
         "Lyric": "typed by sonydogg@wanadoo.fr\n\n[Snoop Dogg]\nYeah, believe it\nJ-A-M-E-L with tha Bigg D-O-double-G (Woof!)\nD-A-Z, DPG family, ooh wee (ooh wee!)\nYeah yeah... (*crow*)\n\nYou say you wanna party wit us, well\nC'mon baby lemme see you get up, and\nQuit playin' and do what I'm sayin'\nWe got a whole lot of fools if you plan on stayin, WE'RE ALL THE SAME\nNo matta where you at, in tha Bentley or,\nOr in tha ghetto,\nWe keep tha hot metal\nSettle down, and pass it around\nCause we havin' a good time while I'm in your town\nFrench eyes and with French fries and French thighs\nIt's D-O-double-G and I'ma do it to ya ten times\nFlizzy, hizzigh, wizzie\nOperation Cleopatra, comin' right at 'cha\nJ-A-M-E-L,\nI'm trynna holla at you homie pick up yo cell\nDPG, hell yeah I got som suckaz on my tail\ncould you make 'em bail...\n\n(Jamel Debbouzze)\nCa fait plaisir!\n\n[Hook](Jamel Debbouzze) [Snoop Dogg]\nWe gonna party (pour voir les meufs!)\nSo get the party started (Eh vous habitez oÃ¹?)\nWe gonna party [We gonna shake it …",
         "language": "fr",
         "_deepnote_index_column": "7677"
        },
        {
         "Artist": "Fergie",
         "Genres": "Hip Hop; Pop; R&B",
         "Songs": "71.0",
         "Popularity": "4.0",
         "Link": "/fergie/",
         "SName": "Enchanté (Carine) (Feat. Axl Jack)",
         "SLink": "/fergie/enchante-carine-feat-axl-jack.html",
         "Lyric": "Enchanté, comment allez-vous?\nTrès bien, merci et vous, et vous, et vous\nEt vous, et vous, et vous\n\nEnchanted, delighted to meet you, excited\nThe people, the music, I want to consume it\nToo simple, this greeting, a ritual, a meeting\nThe first time impression, your truest expression\n\nIf I could reach and hold your hand, I would\nIf I could live inside this dance, I would\nIf I could reach and hold your hand, I would\nIf I could live inside this dance, I would\n\nEnchanté, comment allez-vous?\nTrès bien, merci et vous, et vous, et vous\nEt vous, et vous, et vous\nEnchanté, comment allez-vous?\nTrès bien, merci et vous, et vous, et vous\nEt vous, et vous, et vous\n\nThis feeling, can't lose it, it's better to use it\nTo find out, discover how we like each other\nThe mystery, not knowing\nWhy can't we be showing our secrets, the magic\nLet's reach out and grab it\n\nIf I could reach and hold your hand, I would\nIf I could live inside this dance, I would\nIf I could reach and hold your hand, I would\nIf I coul…",
         "language": "fr",
         "_deepnote_index_column": "10985"
        },
        {
         "Artist": "Michael Bublé",
         "Genres": "Romântico; Jazz; Blues",
         "Songs": "179.0",
         "Popularity": "10.7",
         "Link": "/michael-buble/",
         "SName": "La vie en rose (Feat. Cécile McLorin Salvant)",
         "SLink": "/michael-buble/la-vie-en-rose-feat-cecile-mclorin-salvant.html",
         "Lyric": "Hold me close and hold me fast\nThe magic spell you cast\nThis is la vie en rose\nWhen you kiss me, heaven sides\nAnd though I close my eyes\nI see la vie en rose\n\nWhen you press me to your heart\nQuand il me prend dans ses bras\nI'm in a world apart\nJe vois en rose\nA world where roses bloom\nAnd when you speak\nAngels sing from above\nEveryday words seem to turn into love songs\n\nGive your heart and soul to me\nAnd life will always be\nLa vie en rose\n\nQuand il me prend dans ses bras\nIl me parle de tout bas\nJe vois la vie en rose\nEverytime you kiss me, heaven sides\nIl me dit des mots d'amour\nDon't know why\nDes mots de tous les jours\nI close my eyes\nEt ça m'fait quelque chose\n\nIf only you would give your heart and soul to me\nAnd life will always be\nLa vie en rose\n\nIl est entré dans mon cœur\nUne part de bonheur\nDont je connais la cause\nC'est toi pour moi Moi pour toi Dans la vie Il me l'a dit L'a juré, pour la vie\n\nGive your heart and soul to me\nAnd life will always be\nLa vie en rose",
         "language": "fr",
         "_deepnote_index_column": "18039"
        }
       ]
      },
      "text/plain": "                 Artist                             Genres  Songs  Popularity  \\\n4813            Beyoncé              Pop; R&B; Black Music  276.0       205.5   \n5015            Beyoncé              Pop; R&B; Black Music  276.0       205.5   \n6269    Michael Jackson              Pop; R&B; Black Music  300.0        36.0   \n6662    Black Eyed Peas  Electronica; Black Music; Hip Hop  165.0        36.7   \n7190               Akon              Rap; Black Music; Pop  335.0        17.4   \n...                 ...                                ...    ...         ...   \n378949     Magic System      World Music; Gospel/Religioso   16.0         0.0   \n378950     Magic System      World Music; Gospel/Religioso   16.0         0.0   \n378951     Magic System      World Music; Gospel/Religioso   16.0         0.0   \n378952     Magic System      World Music; Gospel/Religioso   16.0         0.0   \n378953     Magic System      World Music; Gospel/Religioso   16.0         0.0   \n\n                     Link                                              SName  \\\n4813            /beyonce/                                          Bienvenue   \n5015            /beyonce/                                Vois Sur Ton Chemin   \n6269    /michael-jackson/                      Je Ne Veux Pas La Fin de Nous   \n6662    /black-eyed-peas/  Alors On Danse & Don't Stop The Party Mashup (...   \n7190               /akon/                                     Gun In My Hand   \n...                   ...                                                ...   \n378949     /magic-system/                                  Secrét D'afrique:   \n378950     /magic-system/                                          Taper Dos   \n378951     /magic-system/                                     Un Gaou À Oran   \n378952     /magic-system/                                    Un Gaou A Paris   \n378953     /magic-system/                                      Zouglou Dance   \n\n                                                    SLink  \\\n4813                              /beyonce/bienvenue.html   \n5015                    /beyonce/vois-sur-ton-chemin.html   \n6269    /michael-jackson/je-ne-veux-pas-la-fin-de-nous...   \n6662    /black-eyed-peas/alors-on-danse-dont-stop-the-...   \n7190                            /akon/gun-in-my-hand.html   \n...                                                   ...   \n378949                 /magic-system/secret-dafrique.html   \n378950                       /magic-system/taper-dos.html   \n378951                  /magic-system/un-gaou-a-oran.html   \n378952                 /magic-system/un-gaou-a-paris.html   \n378953                   /magic-system/zouglou-dance.html   \n\n                                                    Lyric language  \n4813    Beyoncé\\nIam\\nWelcome\\nWelcome\\nHey\\nOhhhh\\n\\n...       fr  \n5015    Vois sur ton chemin\\nGamins oubliés égarés\\nDo...       fr  \n6269    Je ferme les yeux\\nJe me sens fiévreux\\nSans t...       fr  \n6662    Alors on danse\\nAlors on danse\\nAlors on danse...       fr  \n7190    I find myself wandering up the road with a gun...       fr  \n...                                                   ...      ...  \n378949  REFRAIN\\nZouzoi a léguer ho\\n(zouzoi a léguer)...       fr  \n378950  (hey mon ami, où tu crois que tu es caché la, ...       fr  \n378951  For the ladies in the place ... Raï'N'B Fever\\...       fr  \n378952  Alélé ayé ho-Ayé ayé ayé ayé ayé 2X\\n\\nMon rêv...       fr  \n378953  Dit monsieur c’est quoi le Zouglou Dance ?\\n- ...       fr  \n\n[1221 rows x 9 columns]",
      "text/html": "<div>\n<style scoped>\n    .dataframe tbody tr th:only-of-type {\n        vertical-align: middle;\n    }\n\n    .dataframe tbody tr th {\n        vertical-align: top;\n    }\n\n    .dataframe thead th {\n        text-align: right;\n    }\n</style>\n<table border=\"1\" class=\"dataframe\">\n  <thead>\n    <tr style=\"text-align: right;\">\n      <th></th>\n      <th>Artist</th>\n      <th>Genres</th>\n      <th>Songs</th>\n      <th>Popularity</th>\n      <th>Link</th>\n      <th>SName</th>\n      <th>SLink</th>\n      <th>Lyric</th>\n      <th>language</th>\n    </tr>\n  </thead>\n  <tbody>\n    <tr>\n      <th>4813</th>\n      <td>Beyoncé</td>\n      <td>Pop; R&amp;B; Black Music</td>\n      <td>276.0</td>\n      <td>205.5</td>\n      <td>/beyonce/</td>\n      <td>Bienvenue</td>\n      <td>/beyonce/bienvenue.html</td>\n      <td>Beyoncé\\nIam\\nWelcome\\nWelcome\\nHey\\nOhhhh\\n\\n...</td>\n      <td>fr</td>\n    </tr>\n    <tr>\n      <th>5015</th>\n      <td>Beyoncé</td>\n      <td>Pop; R&amp;B; Black Music</td>\n      <td>276.0</td>\n      <td>205.5</td>\n      <td>/beyonce/</td>\n      <td>Vois Sur Ton Chemin</td>\n      <td>/beyonce/vois-sur-ton-chemin.html</td>\n      <td>Vois sur ton chemin\\nGamins oubliés égarés\\nDo...</td>\n      <td>fr</td>\n    </tr>\n    <tr>\n      <th>6269</th>\n      <td>Michael Jackson</td>\n      <td>Pop; R&amp;B; Black Music</td>\n      <td>300.0</td>\n      <td>36.0</td>\n      <td>/michael-jackson/</td>\n      <td>Je Ne Veux Pas La Fin de Nous</td>\n      <td>/michael-jackson/je-ne-veux-pas-la-fin-de-nous...</td>\n      <td>Je ferme les yeux\\nJe me sens fiévreux\\nSans t...</td>\n      <td>fr</td>\n    </tr>\n    <tr>\n      <th>6662</th>\n      <td>Black Eyed Peas</td>\n      <td>Electronica; Black Music; Hip Hop</td>\n      <td>165.0</td>\n      <td>36.7</td>\n      <td>/black-eyed-peas/</td>\n      <td>Alors On Danse &amp; Don't Stop The Party Mashup (...</td>\n      <td>/black-eyed-peas/alors-on-danse-dont-stop-the-...</td>\n      <td>Alors on danse\\nAlors on danse\\nAlors on danse...</td>\n      <td>fr</td>\n    </tr>\n    <tr>\n      <th>7190</th>\n      <td>Akon</td>\n      <td>Rap; Black Music; Pop</td>\n      <td>335.0</td>\n      <td>17.4</td>\n      <td>/akon/</td>\n      <td>Gun In My Hand</td>\n      <td>/akon/gun-in-my-hand.html</td>\n      <td>I find myself wandering up the road with a gun...</td>\n      <td>fr</td>\n    </tr>\n    <tr>\n      <th>...</th>\n      <td>...</td>\n      <td>...</td>\n      <td>...</td>\n      <td>...</td>\n      <td>...</td>\n      <td>...</td>\n      <td>...</td>\n      <td>...</td>\n      <td>...</td>\n    </tr>\n    <tr>\n      <th>378949</th>\n      <td>Magic System</td>\n      <td>World Music; Gospel/Religioso</td>\n      <td>16.0</td>\n      <td>0.0</td>\n      <td>/magic-system/</td>\n      <td>Secrét D'afrique:</td>\n      <td>/magic-system/secret-dafrique.html</td>\n      <td>REFRAIN\\nZouzoi a léguer ho\\n(zouzoi a léguer)...</td>\n      <td>fr</td>\n    </tr>\n    <tr>\n      <th>378950</th>\n      <td>Magic System</td>\n      <td>World Music; Gospel/Religioso</td>\n      <td>16.0</td>\n      <td>0.0</td>\n      <td>/magic-system/</td>\n      <td>Taper Dos</td>\n      <td>/magic-system/taper-dos.html</td>\n      <td>(hey mon ami, où tu crois que tu es caché la, ...</td>\n      <td>fr</td>\n    </tr>\n    <tr>\n      <th>378951</th>\n      <td>Magic System</td>\n      <td>World Music; Gospel/Religioso</td>\n      <td>16.0</td>\n      <td>0.0</td>\n      <td>/magic-system/</td>\n      <td>Un Gaou À Oran</td>\n      <td>/magic-system/un-gaou-a-oran.html</td>\n      <td>For the ladies in the place ... Raï'N'B Fever\\...</td>\n      <td>fr</td>\n    </tr>\n    <tr>\n      <th>378952</th>\n      <td>Magic System</td>\n      <td>World Music; Gospel/Religioso</td>\n      <td>16.0</td>\n      <td>0.0</td>\n      <td>/magic-system/</td>\n      <td>Un Gaou A Paris</td>\n      <td>/magic-system/un-gaou-a-paris.html</td>\n      <td>Alélé ayé ho-Ayé ayé ayé ayé ayé 2X\\n\\nMon rêv...</td>\n      <td>fr</td>\n    </tr>\n    <tr>\n      <th>378953</th>\n      <td>Magic System</td>\n      <td>World Music; Gospel/Religioso</td>\n      <td>16.0</td>\n      <td>0.0</td>\n      <td>/magic-system/</td>\n      <td>Zouglou Dance</td>\n      <td>/magic-system/zouglou-dance.html</td>\n      <td>Dit monsieur c’est quoi le Zouglou Dance ?\\n- ...</td>\n      <td>fr</td>\n    </tr>\n  </tbody>\n</table>\n<p>1221 rows × 9 columns</p>\n</div>"
     },
     "metadata": {}
    }
   ],
   "execution_count": 9
  },
  {
   "cell_type": "code",
   "source": "import seaborn as sns \nimport matplotlib.pyplot as plt \n\nplt.figure(figsize=15,dpi=180)\nsns.countplot(x=df[\"language\"])",
   "metadata": {
    "cell_id": "b066e714a83447bb94c6050f429e8abe",
    "tags": [],
    "deepnote_to_be_reexecuted": false,
    "source_hash": "159d8f5b",
    "execution_start": 1663141273436,
    "execution_millis": 1158,
    "deepnote_cell_type": "code",
    "deepnote_cell_height": 211.1875,
    "deepnote_output_heights": [
     20.1875,
     266
    ]
   },
   "outputs": [
    {
     "output_type": "error",
     "ename": "TypeError",
     "evalue": "Value after * must be an iterable, not int",
     "traceback": [
      "\u001b[0;31m---------------------------------------------------------------------------\u001b[0m",
      "\u001b[0;31mTypeError\u001b[0m                                 Traceback (most recent call last)",
      "Input \u001b[0;32mIn [16]\u001b[0m, in \u001b[0;36m<cell line: 4>\u001b[0;34m()\u001b[0m\n\u001b[1;32m      1\u001b[0m \u001b[38;5;28;01mimport\u001b[39;00m \u001b[38;5;21;01mseaborn\u001b[39;00m \u001b[38;5;28;01mas\u001b[39;00m \u001b[38;5;21;01msns\u001b[39;00m \n\u001b[1;32m      2\u001b[0m \u001b[38;5;28;01mimport\u001b[39;00m \u001b[38;5;21;01mmatplotlib\u001b[39;00m\u001b[38;5;21;01m.\u001b[39;00m\u001b[38;5;21;01mpyplot\u001b[39;00m \u001b[38;5;28;01mas\u001b[39;00m \u001b[38;5;21;01mplt\u001b[39;00m \n\u001b[0;32m----> 4\u001b[0m \u001b[43mplt\u001b[49m\u001b[38;5;241;43m.\u001b[39;49m\u001b[43mfigure\u001b[49m\u001b[43m(\u001b[49m\u001b[43mfigsize\u001b[49m\u001b[38;5;241;43m=\u001b[39;49m\u001b[38;5;241;43m15\u001b[39;49m\u001b[43m,\u001b[49m\u001b[43mdpi\u001b[49m\u001b[38;5;241;43m=\u001b[39;49m\u001b[38;5;241;43m180\u001b[39;49m\u001b[43m)\u001b[49m\n\u001b[1;32m      5\u001b[0m sns\u001b[38;5;241m.\u001b[39mcountplot(x\u001b[38;5;241m=\u001b[39mdf[\u001b[38;5;124m\"\u001b[39m\u001b[38;5;124mlanguage\u001b[39m\u001b[38;5;124m\"\u001b[39m])\n",
      "File \u001b[0;32m/shared-libs/python3.9/py/lib/python3.9/site-packages/matplotlib/pyplot.py:808\u001b[0m, in \u001b[0;36mfigure\u001b[0;34m(num, figsize, dpi, facecolor, edgecolor, frameon, FigureClass, clear, **kwargs)\u001b[0m\n\u001b[1;32m    799\u001b[0m \u001b[38;5;28;01mif\u001b[39;00m \u001b[38;5;28mlen\u001b[39m(allnums) \u001b[38;5;241m==\u001b[39m max_open_warning \u001b[38;5;241m>\u001b[39m\u001b[38;5;241m=\u001b[39m \u001b[38;5;241m1\u001b[39m:\n\u001b[1;32m    800\u001b[0m     _api\u001b[38;5;241m.\u001b[39mwarn_external(\n\u001b[1;32m    801\u001b[0m         \u001b[38;5;124mf\u001b[39m\u001b[38;5;124m\"\u001b[39m\u001b[38;5;124mMore than \u001b[39m\u001b[38;5;132;01m{\u001b[39;00mmax_open_warning\u001b[38;5;132;01m}\u001b[39;00m\u001b[38;5;124m figures have been opened. \u001b[39m\u001b[38;5;124m\"\u001b[39m\n\u001b[1;32m    802\u001b[0m         \u001b[38;5;124mf\u001b[39m\u001b[38;5;124m\"\u001b[39m\u001b[38;5;124mFigures created through the pyplot interface \u001b[39m\u001b[38;5;124m\"\u001b[39m\n\u001b[0;32m   (...)\u001b[0m\n\u001b[1;32m    805\u001b[0m         \u001b[38;5;124mf\u001b[39m\u001b[38;5;124m\"\u001b[39m\u001b[38;5;124mwarning, see the rcParam `figure.max_open_warning`).\u001b[39m\u001b[38;5;124m\"\u001b[39m,\n\u001b[1;32m    806\u001b[0m         \u001b[38;5;167;01mRuntimeWarning\u001b[39;00m)\n\u001b[0;32m--> 808\u001b[0m manager \u001b[38;5;241m=\u001b[39m \u001b[43mnew_figure_manager\u001b[49m\u001b[43m(\u001b[49m\n\u001b[1;32m    809\u001b[0m \u001b[43m    \u001b[49m\u001b[43mnum\u001b[49m\u001b[43m,\u001b[49m\u001b[43m \u001b[49m\u001b[43mfigsize\u001b[49m\u001b[38;5;241;43m=\u001b[39;49m\u001b[43mfigsize\u001b[49m\u001b[43m,\u001b[49m\u001b[43m \u001b[49m\u001b[43mdpi\u001b[49m\u001b[38;5;241;43m=\u001b[39;49m\u001b[43mdpi\u001b[49m\u001b[43m,\u001b[49m\n\u001b[1;32m    810\u001b[0m \u001b[43m    \u001b[49m\u001b[43mfacecolor\u001b[49m\u001b[38;5;241;43m=\u001b[39;49m\u001b[43mfacecolor\u001b[49m\u001b[43m,\u001b[49m\u001b[43m \u001b[49m\u001b[43medgecolor\u001b[49m\u001b[38;5;241;43m=\u001b[39;49m\u001b[43medgecolor\u001b[49m\u001b[43m,\u001b[49m\u001b[43m \u001b[49m\u001b[43mframeon\u001b[49m\u001b[38;5;241;43m=\u001b[39;49m\u001b[43mframeon\u001b[49m\u001b[43m,\u001b[49m\n\u001b[1;32m    811\u001b[0m \u001b[43m    \u001b[49m\u001b[43mFigureClass\u001b[49m\u001b[38;5;241;43m=\u001b[39;49m\u001b[43mFigureClass\u001b[49m\u001b[43m,\u001b[49m\u001b[43m \u001b[49m\u001b[38;5;241;43m*\u001b[39;49m\u001b[38;5;241;43m*\u001b[39;49m\u001b[43mkwargs\u001b[49m\u001b[43m)\u001b[49m\n\u001b[1;32m    812\u001b[0m fig \u001b[38;5;241m=\u001b[39m manager\u001b[38;5;241m.\u001b[39mcanvas\u001b[38;5;241m.\u001b[39mfigure\n\u001b[1;32m    813\u001b[0m \u001b[38;5;28;01mif\u001b[39;00m fig_label:\n",
      "File \u001b[0;32m/shared-libs/python3.9/py/lib/python3.9/site-packages/matplotlib/pyplot.py:327\u001b[0m, in \u001b[0;36mnew_figure_manager\u001b[0;34m(*args, **kwargs)\u001b[0m\n\u001b[1;32m    325\u001b[0m \u001b[38;5;124;03m\"\"\"Create a new figure manager instance.\"\"\"\u001b[39;00m\n\u001b[1;32m    326\u001b[0m _warn_if_gui_out_of_main_thread()\n\u001b[0;32m--> 327\u001b[0m \u001b[38;5;28;01mreturn\u001b[39;00m \u001b[43m_get_backend_mod\u001b[49m\u001b[43m(\u001b[49m\u001b[43m)\u001b[49m\u001b[38;5;241;43m.\u001b[39;49m\u001b[43mnew_figure_manager\u001b[49m\u001b[43m(\u001b[49m\u001b[38;5;241;43m*\u001b[39;49m\u001b[43margs\u001b[49m\u001b[43m,\u001b[49m\u001b[43m \u001b[49m\u001b[38;5;241;43m*\u001b[39;49m\u001b[38;5;241;43m*\u001b[39;49m\u001b[43mkwargs\u001b[49m\u001b[43m)\u001b[49m\n",
      "File \u001b[0;32m/shared-libs/python3.9/py/lib/python3.9/site-packages/matplotlib/backend_bases.py:3493\u001b[0m, in \u001b[0;36m_Backend.new_figure_manager\u001b[0;34m(cls, num, *args, **kwargs)\u001b[0m\n\u001b[1;32m   3491\u001b[0m \u001b[38;5;28;01mfrom\u001b[39;00m \u001b[38;5;21;01mmatplotlib\u001b[39;00m\u001b[38;5;21;01m.\u001b[39;00m\u001b[38;5;21;01mfigure\u001b[39;00m \u001b[38;5;28;01mimport\u001b[39;00m Figure\n\u001b[1;32m   3492\u001b[0m fig_cls \u001b[38;5;241m=\u001b[39m kwargs\u001b[38;5;241m.\u001b[39mpop(\u001b[38;5;124m'\u001b[39m\u001b[38;5;124mFigureClass\u001b[39m\u001b[38;5;124m'\u001b[39m, Figure)\n\u001b[0;32m-> 3493\u001b[0m fig \u001b[38;5;241m=\u001b[39m \u001b[43mfig_cls\u001b[49m\u001b[43m(\u001b[49m\u001b[38;5;241;43m*\u001b[39;49m\u001b[43margs\u001b[49m\u001b[43m,\u001b[49m\u001b[43m \u001b[49m\u001b[38;5;241;43m*\u001b[39;49m\u001b[38;5;241;43m*\u001b[39;49m\u001b[43mkwargs\u001b[49m\u001b[43m)\u001b[49m\n\u001b[1;32m   3494\u001b[0m \u001b[38;5;28;01mreturn\u001b[39;00m \u001b[38;5;28mcls\u001b[39m\u001b[38;5;241m.\u001b[39mnew_figure_manager_given_figure(num, fig)\n",
      "File \u001b[0;32m/shared-libs/python3.9/py/lib/python3.9/site-packages/matplotlib/figure.py:2336\u001b[0m, in \u001b[0;36mFigure.__init__\u001b[0;34m(self, figsize, dpi, facecolor, edgecolor, linewidth, frameon, subplotpars, tight_layout, constrained_layout, layout, **kwargs)\u001b[0m\n\u001b[1;32m   2333\u001b[0m \u001b[38;5;28;01mif\u001b[39;00m \u001b[38;5;129;01mnot\u001b[39;00m np\u001b[38;5;241m.\u001b[39misfinite(figsize)\u001b[38;5;241m.\u001b[39mall() \u001b[38;5;129;01mor\u001b[39;00m (np\u001b[38;5;241m.\u001b[39marray(figsize) \u001b[38;5;241m<\u001b[39m \u001b[38;5;241m0\u001b[39m)\u001b[38;5;241m.\u001b[39many():\n\u001b[1;32m   2334\u001b[0m     \u001b[38;5;28;01mraise\u001b[39;00m \u001b[38;5;167;01mValueError\u001b[39;00m(\u001b[38;5;124m'\u001b[39m\u001b[38;5;124mfigure size must be positive finite not \u001b[39m\u001b[38;5;124m'\u001b[39m\n\u001b[1;32m   2335\u001b[0m                      \u001b[38;5;124mf\u001b[39m\u001b[38;5;124m'\u001b[39m\u001b[38;5;132;01m{\u001b[39;00mfigsize\u001b[38;5;132;01m}\u001b[39;00m\u001b[38;5;124m'\u001b[39m)\n\u001b[0;32m-> 2336\u001b[0m \u001b[38;5;28mself\u001b[39m\u001b[38;5;241m.\u001b[39mbbox_inches \u001b[38;5;241m=\u001b[39m Bbox\u001b[38;5;241m.\u001b[39mfrom_bounds(\u001b[38;5;241m0\u001b[39m, \u001b[38;5;241m0\u001b[39m, \u001b[38;5;241m*\u001b[39mfigsize)\n\u001b[1;32m   2338\u001b[0m \u001b[38;5;28mself\u001b[39m\u001b[38;5;241m.\u001b[39mdpi_scale_trans \u001b[38;5;241m=\u001b[39m Affine2D()\u001b[38;5;241m.\u001b[39mscale(dpi)\n\u001b[1;32m   2339\u001b[0m \u001b[38;5;66;03m# do not use property as it will trigger\u001b[39;00m\n",
      "\u001b[0;31mTypeError\u001b[0m: Value after * must be an iterable, not int"
     ]
    }
   ],
   "execution_count": 16
  },
  {
   "cell_type": "code",
   "source": "",
   "metadata": {
    "cell_id": "7dbd85f1ebd64e8e8e664c4277743948",
    "tags": [],
    "deepnote_cell_type": "code",
    "deepnote_cell_height": 61
   },
   "outputs": [],
   "execution_count": null
  },
  {
   "cell_type": "markdown",
   "source": "Nous gardons la langue \"english\" car elle est plus nombreuse et accessible",
   "metadata": {
    "is_collapsed": false,
    "cell_id": "9e199f909fed4952912394a099f1b201",
    "tags": [],
    "formattedRanges": [],
    "deepnote_cell_type": "text-cell-p"
   }
  },
  {
   "cell_type": "code",
   "source": "df[\"language\"].value_counts()",
   "metadata": {
    "cell_id": "3136d162972243ce85ecb193fc4ef87a",
    "tags": [],
    "deepnote_to_be_reexecuted": false,
    "source_hash": "a6bbea11",
    "execution_start": 1663141171221,
    "execution_millis": 586,
    "deepnote_cell_type": "code",
    "deepnote_cell_height": 702,
    "deepnote_output_heights": [
     610
    ]
   },
   "outputs": [
    {
     "output_type": "execute_result",
     "execution_count": 13,
     "data": {
      "text/plain": "en     191387\npt     156941\nes       9916\nrw       1679\nit       1426\nfr       1221\nde        843\nfi        145\nsv        112\nro         97\nno         89\nis         86\ntl         69\npl         47\ngl         36\nga         32\ntr         32\nid         26\ncy         23\nsw         19\naf         19\nsu         19\nko         17\nnl         14\nda         13\nca         13\net         12\nms          8\nja          7\nst          6\nht          5\nru          4\neu          4\ngd          4\nar          4\nny          3\nku          3\ncs          3\nmg          3\njw          2\nhu          2\nlg          2\niw          1\nzh          1\nhmn         1\nvi          1\nsq          1\nsr          1\nsl          1\nfa          1\nhr          1\nName: language, dtype: int64"
     },
     "metadata": {}
    }
   ],
   "execution_count": 13
  },
  {
   "cell_type": "code",
   "source": "df = df[df['language']=='en']\ndf.head()",
   "metadata": {
    "cell_id": "eec301e8032848289cc6677ff0c5074d",
    "tags": [],
    "deepnote_to_be_reexecuted": false,
    "source_hash": "f412582",
    "execution_start": 1663141246022,
    "execution_millis": 88,
    "deepnote_cell_type": "code",
    "deepnote_cell_height": 424.65625
   },
   "outputs": [
    {
     "output_type": "execute_result",
     "execution_count": 15,
     "data": {
      "application/vnd.deepnote.dataframe.v3+json": {
       "column_count": 9,
       "row_count": 5,
       "columns": [
        {
         "name": "Artist",
         "dtype": "object",
         "stats": {
          "unique_count": 1,
          "nan_count": 0,
          "categories": [
           {
            "name": "Ivete Sangalo",
            "count": 5
           }
          ]
         }
        },
        {
         "name": "Genres",
         "dtype": "object",
         "stats": {
          "unique_count": 1,
          "nan_count": 0,
          "categories": [
           {
            "name": "Pop; Axé; Romântico",
            "count": 5
           }
          ]
         }
        },
        {
         "name": "Songs",
         "dtype": "float64",
         "stats": {
          "unique_count": 1,
          "nan_count": 0,
          "min": "313.0",
          "max": "313.0",
          "histogram": [
           {
            "bin_start": 312.5,
            "bin_end": 312.6,
            "count": 0
           },
           {
            "bin_start": 312.6,
            "bin_end": 312.7,
            "count": 0
           },
           {
            "bin_start": 312.7,
            "bin_end": 312.8,
            "count": 0
           },
           {
            "bin_start": 312.8,
            "bin_end": 312.9,
            "count": 0
           },
           {
            "bin_start": 312.9,
            "bin_end": 313,
            "count": 0
           },
           {
            "bin_start": 313,
            "bin_end": 313.1,
            "count": 5
           },
           {
            "bin_start": 313.1,
            "bin_end": 313.2,
            "count": 0
           },
           {
            "bin_start": 313.2,
            "bin_end": 313.3,
            "count": 0
           },
           {
            "bin_start": 313.3,
            "bin_end": 313.4,
            "count": 0
           },
           {
            "bin_start": 313.4,
            "bin_end": 313.5,
            "count": 0
           }
          ]
         }
        },
        {
         "name": "Popularity",
         "dtype": "float64",
         "stats": {
          "unique_count": 1,
          "nan_count": 0,
          "min": "4.4",
          "max": "4.4",
          "histogram": [
           {
            "bin_start": 3.9000000000000004,
            "bin_end": 4,
            "count": 0
           },
           {
            "bin_start": 4,
            "bin_end": 4.1000000000000005,
            "count": 0
           },
           {
            "bin_start": 4.1000000000000005,
            "bin_end": 4.2,
            "count": 0
           },
           {
            "bin_start": 4.2,
            "bin_end": 4.300000000000001,
            "count": 0
           },
           {
            "bin_start": 4.300000000000001,
            "bin_end": 4.4,
            "count": 0
           },
           {
            "bin_start": 4.4,
            "bin_end": 4.5,
            "count": 5
           },
           {
            "bin_start": 4.5,
            "bin_end": 4.6000000000000005,
            "count": 0
           },
           {
            "bin_start": 4.6000000000000005,
            "bin_end": 4.7,
            "count": 0
           },
           {
            "bin_start": 4.7,
            "bin_end": 4.800000000000001,
            "count": 0
           },
           {
            "bin_start": 4.800000000000001,
            "bin_end": 4.9,
            "count": 0
           }
          ]
         }
        },
        {
         "name": "Link",
         "dtype": "object",
         "stats": {
          "unique_count": 1,
          "nan_count": 0,
          "categories": [
           {
            "name": "/ivete-sangalo/",
            "count": 5
           }
          ]
         }
        },
        {
         "name": "SName",
         "dtype": "object",
         "stats": {
          "unique_count": 5,
          "nan_count": 0,
          "categories": [
           {
            "name": "Careless Whisper",
            "count": 1
           },
           {
            "name": "Could You Be Loved / Citação Musical do Rap: Se Ligue",
            "count": 1
           },
           {
            "name": "3 others",
            "count": 3
           }
          ]
         }
        },
        {
         "name": "SLink",
         "dtype": "object",
         "stats": {
          "unique_count": 5,
          "nan_count": 0,
          "categories": [
           {
            "name": "/ivete-sangalo/careless-whisper.html",
            "count": 1
           },
           {
            "name": "/ivete-sangalo/could-you-be-loved-citacao-musical-do-rap-se-ligue.html",
            "count": 1
           },
           {
            "name": "3 others",
            "count": 3
           }
          ]
         }
        },
        {
         "name": "Lyric",
         "dtype": "object",
         "stats": {
          "unique_count": 5,
          "nan_count": 0,
          "categories": [
           {
            "name": "I feel so unsure\nAs I take your hand and lead you to the dance floor\nAs the music dies, something in your eyes\nCalls to mind a silver screen\nAnd all those sad goodbyes\n\nI'm never gonna dance again\nGuilty feet have got no rhythm\nThough it's easy to pretend\nI know you're not a fool\n\nShould've known better than to cheat a friend\nAnd waste the chance that I've been given\nSo I'm never gonna dance again\nThe way I danced with you\n\nTime can never mend\nThe careless whispers of a good friend\nTo the heart and mind\nIgnorance is kind\nThere's no comfort in the truth\nPain is all you'll find\n\nI'm never gonna dance again\nGuilty feet have got no rhythm\nThough it's easy to pretend\nI know you're not a fool\n\nShould've known better than to cheat a friend\nAnd waste this chance that I've been given\nSo I'm never gonna dance again\nThe way I danced with you\n\nNever without your love\n\nTonight the music seems so loud\nI wish that we could lose this crowd\nMaybe it's better this way\nWe'd hurt each other with the things we'd want to say\n\nWe could have been so good together\nWe could have lived this dance forever\nBut now who's gonna dance with me?\nPlease stay\n\nAnd I'm never gonna dance again\nGuilty feet have got no rhythm\nThough it's easy to pretend\nI know you're not a fool\n\nShould've known better than to cheat a friend\nAnd waste the chance that I've been given\nSo I'm never gonna dance again\nThe way I danced with you\n\n(Now that you're gone) Now that you're gone\n(Now that you're gone) What I did's so wrong, so wrong\nThat you had to leave me alone?",
            "count": 1
           },
           {
            "name": "Don't let them fool, ya\nOr even try to school, ya! Oh, no!\nWe've got a mind of our own\nSo go to hell if what you? re thinking is not right!\nLove would never leave us alone\nA-yin the darkness there must come out to light\n\nCould you be loved and be loved?\nCould you be loved and be loved?\n\nDon't let them change ya, oh!\nOr even rearrange ya! Oh, no!\nWe've got a life to live\nThey say: only, only\nOnly the fittest of the fittest shall survive\nStay alive! Oh!\n\nCould you be loved and be loved?\nCould you be loved, wo now! And be loved?\n\nCould you be\nCould you be\nCould you be loved?\n\nSay something!\n\nSe ligue na ternura\nSe ligue no amor\nSe ligue na ternura\nSe ligue na cor\nSe ligue na alegria\nSe ligue no prazer\nSe ligue, fique atento, se ligue, fique astral\n\nCould you be loved and be loved?",
            "count": 1
           },
           {
            "name": "3 others",
            "count": 3
           }
          ]
         }
        },
        {
         "name": "language",
         "dtype": "object",
         "stats": {
          "unique_count": 1,
          "nan_count": 0,
          "categories": [
           {
            "name": "en",
            "count": 5
           }
          ]
         }
        },
        {
         "name": "_deepnote_index_column",
         "dtype": "int64"
        }
       ],
       "rows": [
        {
         "Artist": "Ivete Sangalo",
         "Genres": "Pop; Axé; Romântico",
         "Songs": "313.0",
         "Popularity": "4.4",
         "Link": "/ivete-sangalo/",
         "SName": "Careless Whisper",
         "SLink": "/ivete-sangalo/careless-whisper.html",
         "Lyric": "I feel so unsure\nAs I take your hand and lead you to the dance floor\nAs the music dies, something in your eyes\nCalls to mind a silver screen\nAnd all those sad goodbyes\n\nI'm never gonna dance again\nGuilty feet have got no rhythm\nThough it's easy to pretend\nI know you're not a fool\n\nShould've known better than to cheat a friend\nAnd waste the chance that I've been given\nSo I'm never gonna dance again\nThe way I danced with you\n\nTime can never mend\nThe careless whispers of a good friend\nTo the heart and mind\nIgnorance is kind\nThere's no comfort in the truth\nPain is all you'll find\n\nI'm never gonna dance again\nGuilty feet have got no rhythm\nThough it's easy to pretend\nI know you're not a fool\n\nShould've known better than to cheat a friend\nAnd waste this chance that I've been given\nSo I'm never gonna dance again\nThe way I danced with you\n\nNever without your love\n\nTonight the music seems so loud\nI wish that we could lose this crowd\nMaybe it's better this way\nWe'd hurt each other with the thin…",
         "language": "en",
         "_deepnote_index_column": "69"
        },
        {
         "Artist": "Ivete Sangalo",
         "Genres": "Pop; Axé; Romântico",
         "Songs": "313.0",
         "Popularity": "4.4",
         "Link": "/ivete-sangalo/",
         "SName": "Could You Be Loved / Citação Musical do Rap: Se Ligue",
         "SLink": "/ivete-sangalo/could-you-be-loved-citacao-musical-do-rap-se-ligue.html",
         "Lyric": "Don't let them fool, ya\nOr even try to school, ya! Oh, no!\nWe've got a mind of our own\nSo go to hell if what you? re thinking is not right!\nLove would never leave us alone\nA-yin the darkness there must come out to light\n\nCould you be loved and be loved?\nCould you be loved and be loved?\n\nDon't let them change ya, oh!\nOr even rearrange ya! Oh, no!\nWe've got a life to live\nThey say: only, only\nOnly the fittest of the fittest shall survive\nStay alive! Oh!\n\nCould you be loved and be loved?\nCould you be loved, wo now! And be loved?\n\nCould you be\nCould you be\nCould you be loved?\n\nSay something!\n\nSe ligue na ternura\nSe ligue no amor\nSe ligue na ternura\nSe ligue na cor\nSe ligue na alegria\nSe ligue no prazer\nSe ligue, fique atento, se ligue, fique astral\n\nCould you be loved and be loved?",
         "language": "en",
         "_deepnote_index_column": "86"
        },
        {
         "Artist": "Ivete Sangalo",
         "Genres": "Pop; Axé; Romântico",
         "Songs": "313.0",
         "Popularity": "4.4",
         "Link": "/ivete-sangalo/",
         "SName": "Cruisin' (Part. Saulo)",
         "SLink": "/ivete-sangalo/cruisin-part-saulo.html",
         "Lyric": "Baby, let's cruise, away from here\nDon't be confused, the way is clear\nAnd if you want it you got it forever\nThis is not a one night stand, baby\n\nLet the music take your mind\nJust release & you will find\nYou're gonna fly away\nGlad you're goin' my way\nI love it when we're cruisin' together\nMusic is played for love\nCruisin' is made for love\nI love it when we're cruisin' together\n\nBaby, tonight belongs to us\nEverything's right, do what you must\nAnd inch by inch we get closer & closer\n\nTo every little part of each other, ooh, baby, yeah, so\n\nLet the music take your mind\nJust release & you will find\nYou're gonna fly away\nGlad you're going my way\nI love it when we're cruisin' together\nMusic is played for love\nCruisin' is made for love\nI love it when we're cruisin' together\n\nYou're gonna fly away\n\nCruise with me, baby",
         "language": "en",
         "_deepnote_index_column": "88"
        },
        {
         "Artist": "Ivete Sangalo",
         "Genres": "Pop; Axé; Romântico",
         "Songs": "313.0",
         "Popularity": "4.4",
         "Link": "/ivete-sangalo/",
         "SName": "Easy",
         "SLink": "/ivete-sangalo/easy.html",
         "Lyric": "Know it sounds funny\nBut, I just can't stand the pain\nGirl, I'm leaving you tomorrow\nSeems to me girl\nYou know I've done all I can\nYou see I begged, stole and I borrowed! (yeah)\n\nOoh, that's why I'm easy\nI'm easy like Sunday morning\nThat's why I'm easy\nI'm easy like Sunday morning\n\nWhy in the world would anybody put chains on me?\nI've paid my dues to make it\nEverybody wants me to be\nWhat they want me to be\nI'm not happy when I try to fake it! no!\n\nOoh, that's why I'm easy\nI'm easy like Sunday morning, yeah\nThat's why I'm easy\nI'm easy like Sunday morning\n\nI wanna be high, so high\nI wanna be free to know the things I do are right\nI wanna be free\nJust me! Whoa, oh! Babe!\n\nThat's why I'm easy\nI'm easy like Sunday morning, yeah\nThat's why I'm easy\nI'm easy like Sunday morning, whoa\n'Cause I'm easy\nEasy like Sunday morning, yeah\n'Cause I'm easy\nEasy like Sunday morning",
         "language": "en",
         "_deepnote_index_column": "111"
        },
        {
         "Artist": "Ivete Sangalo",
         "Genres": "Pop; Axé; Romântico",
         "Songs": "313.0",
         "Popularity": "4.4",
         "Link": "/ivete-sangalo/",
         "SName": "For Your Babies (The Voice cover)",
         "SLink": "/ivete-sangalo/for-your-babies-the-voice-cover.html",
         "Lyric": "You've got that look again\nThe one I hoped I had when I was a lad\nYour face is just beaming\nYour smile got me boasting\nMy pulse roller-coastering\n\nAnyway the four winds that blow\nThey're gonna send me sailing home to you\nOr I'll fly with the force of a rainbow\nThe dream of gold will be waiting in your eyes\n\nYou know I'd do most anything you want\nHey, I, I try to give you everything you need\nI can see that it gets to you\n\nI don't believe in many things\nBut in you, I do\n\nHer faith is amazing\nThe pain that she goes through\nContained in the hope for you\nYour whole world has changed\nThe years spent before\nSeem more cloudy than blue\n\nIn many ways your baby's controlling\nWhen you haven't laid down for days\nFor the poor no time to be thinking\nThey're too busy finding ways\n\nAnd I\nYou know I'd do most anything you want\nHey, I, I try to give you everything you need\nI see that it gets to you\n\nI don't believe in many things\nBut in you\n\nI don't believe in many things\nBut in you\n\nOh, I don't believe…",
         "language": "en",
         "_deepnote_index_column": "140"
        }
       ]
      },
      "text/plain": "            Artist               Genres  Songs  Popularity             Link  \\\n69   Ivete Sangalo  Pop; Axé; Romântico  313.0         4.4  /ivete-sangalo/   \n86   Ivete Sangalo  Pop; Axé; Romântico  313.0         4.4  /ivete-sangalo/   \n88   Ivete Sangalo  Pop; Axé; Romântico  313.0         4.4  /ivete-sangalo/   \n111  Ivete Sangalo  Pop; Axé; Romântico  313.0         4.4  /ivete-sangalo/   \n140  Ivete Sangalo  Pop; Axé; Romântico  313.0         4.4  /ivete-sangalo/   \n\n                                                 SName  \\\n69                                    Careless Whisper   \n86   Could You Be Loved / Citação Musical do Rap: S...   \n88                              Cruisin' (Part. Saulo)   \n111                                               Easy   \n140                  For Your Babies (The Voice cover)   \n\n                                                 SLink  \\\n69                /ivete-sangalo/careless-whisper.html   \n86   /ivete-sangalo/could-you-be-loved-citacao-musi...   \n88              /ivete-sangalo/cruisin-part-saulo.html   \n111                           /ivete-sangalo/easy.html   \n140  /ivete-sangalo/for-your-babies-the-voice-cover...   \n\n                                                 Lyric language  \n69   I feel so unsure\\nAs I take your hand and lead...       en  \n86   Don't let them fool, ya\\nOr even try to school...       en  \n88   Baby, let's cruise, away from here\\nDon't be c...       en  \n111  Know it sounds funny\\nBut, I just can't stand ...       en  \n140  You've got that look again\\nThe one I hoped I ...       en  ",
      "text/html": "<div>\n<style scoped>\n    .dataframe tbody tr th:only-of-type {\n        vertical-align: middle;\n    }\n\n    .dataframe tbody tr th {\n        vertical-align: top;\n    }\n\n    .dataframe thead th {\n        text-align: right;\n    }\n</style>\n<table border=\"1\" class=\"dataframe\">\n  <thead>\n    <tr style=\"text-align: right;\">\n      <th></th>\n      <th>Artist</th>\n      <th>Genres</th>\n      <th>Songs</th>\n      <th>Popularity</th>\n      <th>Link</th>\n      <th>SName</th>\n      <th>SLink</th>\n      <th>Lyric</th>\n      <th>language</th>\n    </tr>\n  </thead>\n  <tbody>\n    <tr>\n      <th>69</th>\n      <td>Ivete Sangalo</td>\n      <td>Pop; Axé; Romântico</td>\n      <td>313.0</td>\n      <td>4.4</td>\n      <td>/ivete-sangalo/</td>\n      <td>Careless Whisper</td>\n      <td>/ivete-sangalo/careless-whisper.html</td>\n      <td>I feel so unsure\\nAs I take your hand and lead...</td>\n      <td>en</td>\n    </tr>\n    <tr>\n      <th>86</th>\n      <td>Ivete Sangalo</td>\n      <td>Pop; Axé; Romântico</td>\n      <td>313.0</td>\n      <td>4.4</td>\n      <td>/ivete-sangalo/</td>\n      <td>Could You Be Loved / Citação Musical do Rap: S...</td>\n      <td>/ivete-sangalo/could-you-be-loved-citacao-musi...</td>\n      <td>Don't let them fool, ya\\nOr even try to school...</td>\n      <td>en</td>\n    </tr>\n    <tr>\n      <th>88</th>\n      <td>Ivete Sangalo</td>\n      <td>Pop; Axé; Romântico</td>\n      <td>313.0</td>\n      <td>4.4</td>\n      <td>/ivete-sangalo/</td>\n      <td>Cruisin' (Part. Saulo)</td>\n      <td>/ivete-sangalo/cruisin-part-saulo.html</td>\n      <td>Baby, let's cruise, away from here\\nDon't be c...</td>\n      <td>en</td>\n    </tr>\n    <tr>\n      <th>111</th>\n      <td>Ivete Sangalo</td>\n      <td>Pop; Axé; Romântico</td>\n      <td>313.0</td>\n      <td>4.4</td>\n      <td>/ivete-sangalo/</td>\n      <td>Easy</td>\n      <td>/ivete-sangalo/easy.html</td>\n      <td>Know it sounds funny\\nBut, I just can't stand ...</td>\n      <td>en</td>\n    </tr>\n    <tr>\n      <th>140</th>\n      <td>Ivete Sangalo</td>\n      <td>Pop; Axé; Romântico</td>\n      <td>313.0</td>\n      <td>4.4</td>\n      <td>/ivete-sangalo/</td>\n      <td>For Your Babies (The Voice cover)</td>\n      <td>/ivete-sangalo/for-your-babies-the-voice-cover...</td>\n      <td>You've got that look again\\nThe one I hoped I ...</td>\n      <td>en</td>\n    </tr>\n  </tbody>\n</table>\n</div>"
     },
     "metadata": {}
    }
   ],
   "execution_count": 15
  },
  {
   "cell_type": "code",
   "source": "df[\"Genres\"].value_counts()[:10]",
   "metadata": {
    "cell_id": "b1709b68ec5740949e5faee92b995a84",
    "tags": [],
    "deepnote_to_be_reexecuted": false,
    "source_hash": "b0015ee9",
    "execution_start": 1663141440444,
    "execution_millis": 19,
    "deepnote_cell_type": "code",
    "deepnote_cell_height": 304.15625,
    "deepnote_output_heights": [
     212.171875
    ]
   },
   "outputs": [
    {
     "output_type": "execute_result",
     "execution_count": 20,
     "data": {
      "text/plain": "Country                         4774\nRock                            4672\nHeavy Metal                     4394\nIndie                           4289\nRap; Hip Hop                    3426\nPop                             2544\nHip Hop; Rap; Black Music       2456\nRock; Hard Rock; Heavy Metal    2130\nRap                             2012\nHeavy Metal; Rock; Hard Rock    1781\nName: Genres, dtype: int64"
     },
     "metadata": {}
    }
   ],
   "execution_count": 20
  },
  {
   "cell_type": "code",
   "source": "df[df['Genres'].isin([\"Hip Hop; Rap\"])]",
   "metadata": {
    "cell_id": "cf61012e8fc049d3bcdf32f3ad3c3f86",
    "tags": [],
    "deepnote_to_be_reexecuted": false,
    "source_hash": "8d57fc2f",
    "execution_start": 1663141544765,
    "execution_millis": 55,
    "deepnote_table_state": {
     "pageSize": 10,
     "pageIndex": 0,
     "filters": [],
     "sortBy": [
      {
       "id": "Genres",
       "type": "asc"
      }
     ]
    },
    "deepnote_table_loading": false,
    "deepnote_cell_type": "code",
    "deepnote_cell_height": 643.65625
   },
   "outputs": [
    {
     "output_type": "execute_result",
     "execution_count": 23,
     "data": {
      "application/vnd.deepnote.dataframe.v3+json": {
       "column_count": 9,
       "row_count": 1657,
       "columns": [
        {
         "name": "Artist",
         "dtype": "object",
         "stats": {
          "unique_count": 16,
          "nan_count": 0,
          "categories": [
           {
            "name": "Eminem",
            "count": 484
           },
           {
            "name": "Fat Joe",
            "count": 140
           },
           {
            "name": "14 others",
            "count": 1033
           }
          ]
         }
        },
        {
         "name": "Genres",
         "dtype": "object",
         "stats": {
          "unique_count": 1,
          "nan_count": 0,
          "categories": [
           {
            "name": "Hip Hop; Rap",
            "count": 1657
           }
          ]
         }
        },
        {
         "name": "Songs",
         "dtype": "float64",
         "stats": {
          "unique_count": 16,
          "nan_count": 0,
          "min": "8.0",
          "max": "486.0",
          "histogram": [
           {
            "bin_start": 8,
            "bin_end": 55.8,
            "count": 201
           },
           {
            "bin_start": 55.8,
            "bin_end": 103.6,
            "count": 321
           },
           {
            "bin_start": 103.6,
            "bin_end": 151.39999999999998,
            "count": 651
           },
           {
            "bin_start": 151.39999999999998,
            "bin_end": 199.2,
            "count": 0
           },
           {
            "bin_start": 199.2,
            "bin_end": 247,
            "count": 0
           },
           {
            "bin_start": 247,
            "bin_end": 294.79999999999995,
            "count": 0
           },
           {
            "bin_start": 294.79999999999995,
            "bin_end": 342.59999999999997,
            "count": 0
           },
           {
            "bin_start": 342.59999999999997,
            "bin_end": 390.4,
            "count": 0
           },
           {
            "bin_start": 390.4,
            "bin_end": 438.2,
            "count": 0
           },
           {
            "bin_start": 438.2,
            "bin_end": 486,
            "count": 484
           }
          ]
         }
        },
        {
         "name": "Popularity",
         "dtype": "float64",
         "stats": {
          "unique_count": 9,
          "nan_count": 0,
          "min": "0.0",
          "max": "114.9",
          "histogram": [
           {
            "bin_start": 0,
            "bin_end": 11.49,
            "count": 1125
           },
           {
            "bin_start": 11.49,
            "bin_end": 22.98,
            "count": 48
           },
           {
            "bin_start": 22.98,
            "bin_end": 34.47,
            "count": 0
           },
           {
            "bin_start": 34.47,
            "bin_end": 45.96,
            "count": 0
           },
           {
            "bin_start": 45.96,
            "bin_end": 57.45,
            "count": 0
           },
           {
            "bin_start": 57.45,
            "bin_end": 68.94,
            "count": 0
           },
           {
            "bin_start": 68.94,
            "bin_end": 80.43,
            "count": 0
           },
           {
            "bin_start": 80.43,
            "bin_end": 91.92,
            "count": 0
           },
           {
            "bin_start": 91.92,
            "bin_end": 103.41,
            "count": 0
           },
           {
            "bin_start": 103.41,
            "bin_end": 114.9,
            "count": 484
           }
          ]
         }
        },
        {
         "name": "Link",
         "dtype": "object",
         "stats": {
          "unique_count": 16,
          "nan_count": 0,
          "categories": [
           {
            "name": "/eminem/",
            "count": 484
           },
           {
            "name": "/fat-joe/",
            "count": 140
           },
           {
            "name": "14 others",
            "count": 1033
           }
          ]
         }
        },
        {
         "name": "SName",
         "dtype": "object",
         "stats": {
          "unique_count": 1633,
          "nan_count": 0,
          "categories": [
           {
            "name": "Intro",
            "count": 3
           },
           {
            "name": "90210",
            "count": 2
           },
           {
            "name": "1631 others",
            "count": 1652
           }
          ]
         }
        },
        {
         "name": "SLink",
         "dtype": "object",
         "stats": {
          "unique_count": 1656,
          "nan_count": 0,
          "categories": [
           {
            "name": "/mystikal/bouncin-back-bumping-me-against-the-wall.html",
            "count": 2
           },
           {
            "name": "/eminem/lose-yourself.html",
            "count": 1
           },
           {
            "name": "1654 others",
            "count": 1654
           }
          ]
         }
        },
        {
         "name": "Lyric",
         "dtype": "object",
         "stats": {
          "unique_count": 1653,
          "nan_count": 0,
          "categories": [
           {
            "name": "(Akon:)\nOh, oh\n\n(Khaled:)\nDJ Khaled!\n\n(Akon:)\nKonvict Music, yeah\n\n(Khaled:)\nWe the best\nWe takin' over\nListennn!\n\n(T.I.:)\nAy, ay\nStarted in Atlanta, then I spread out wit' it\nSouth Carolina, Alabama, Mississippi\nOn to North Carolina, Phildelphia and Virginia\nFrom down in Miami where it warm in the winter\nOn up to Minnesota where it storm in the winter\nJackson then Tallahassee, Memphis, Tenn.\nholla at me\nMe in H-Town, Southside, Cloverland daddy\nI'm the man out in Dallas, better ask Khaled\nKept me out in Cali with my eyes open barely\nBlowin' and spinnin', goin' down Bennett\nDrop six-fo', three-wheel then switch it\nRed light stop, make it drop for the bitches\nGot a glock fo'-fifth, blow your head off wit' it\nAnything you hear that I said, I meant it\nKing got the crown then sped off it wit' it\nSay you need bricks, I said I get it\n\n(Akon:)\nIf you want to, we can supply you\nGot enough work, to feed the whole town\nThey won't shoot you, unless you try to\nCome around and try to stomp on our ground\n'Cause we takin' over, one city at a time\nSaid we takin' over, one city at a time\nSaid we takin' over, one city at a time\nSaid we takin' over, one city at a time\n\n(Rick Ross:)\nTriple C, Black Flag\nWe rich, yeah\n\n(Khaled:)\nListennn!\n\n(Rick Ross:)\nBoss, it's what I does\nI get money everyday, everyday I does\nThat Benz, is how I ride\nBlack flag on the left, two hoes and ride\nYou better, move! Ak all day\nGet shot up like Shyne, that's on my niece\nI'm B.I.G. like Diddy\nDamn it, I'm wit' it\nKhaled we did it, Biggie of my city\nPlease no fitted, fuck it, I'm too pretty\nThe [?] can get [?], stupid, I'm silly\nMoney that come, runnin' like water\nMami so hot, damn it, she gorgeous\nMiami on fire, you better be, cautious\nMight get shot on the porch of your fortress\nNow they see that you know I'm from Port City\nI run in 'cause Rick Ross is boss shit\n\n(Akon:)\n'Cause we takin' over, one city at a time\nSaid we takin' over, one city at a time\nSaid we takin' over, one city at a time\nSaid we takin' over, one city at a time\n\n(Fat Joe:)\nCribs Mania\nKhaled!\nBX, TS nigga\n\n(Khaled:)\nListennn!\n\n(Fat Joe:)\nBlat, when you see Crack, better duck\nlike the mac gotta ease past, nigga what\nShit, I don't give fuck, I run these streets\nY'all talk that shit, I want that beef\nI'ma tell you like a g told me\nThey'll come back quick if a nigga O.D\nCash Rule Everything Around Me\nI'm YSL, Versace\nYou could see me in that Porsche GT\nComin' down Sunset, sittin' on D's\nFeelin' like 'Pac, All Eyez On Me\nFresh bandana and I'm blowin' mad trees\nNigga please, I spit crack every verse a ki\nSome say Khaled, some say Colli\nTwelve years down and I'm finally free, crack!\n\n(Akon:)\nIf you want to, we can supply you\nGot enough work, to feed the whole town\nThey won't shoot you, unless you try to\nCome around and try to stomp on our ground\n'Cause we takin' over, one city at a time\nSaid we takin' over, one city at a time\nSaid we takin' over, one city at a time\nSaid we takin' over, one city at a time\n\n(Khaled:)\nListennn!\n\n(Birdman:)\nBirdman daddy, I'm number one\nNigga came at me wrong so we got him done\nFuckin' with the fam', I'ma give him son\nSpent that co'ner, he didn't run\nSunday had a whole church singin' a song\n\"Why'd they have to send my baby home?\"\nFuckin' with some nigga, that paper long\nBeen a g in the game now my son on the throne\n\n(Lil Wayne:)\nI am the beast\nFeed me rappers or feed me beats\nI am untamed, I need a leash\nI am insane, I need a shrink\nI love brain, I need a leech\nWhy complain on easy streets?\nI don't even talk, I let the Visa speak\nand I like, my spite ease the peak\nAnd my wrist special par but the mule is cooler\nI have more jewels than your jeweler\nTouch and I will bust, you're a do-er\nThat's a bullethole, it is not a tumor\nRed like red like stop your rumors\nI stay on track like a box of Pumas\nNow just r-r-rock with Junior\nI am the little big Kahuna, y'dig?\n\n[Akon:]\n'Cause we takin' over, one city at a time",
            "count": 2
           },
           {
            "name": "[Nate Dogg]\nAll of my Life (got this lady on my mind)\nAll of my days (wanna hit it all the time)\n?? (I was down and locked away)\n?? (wanna hit it every day)\n\n[Obie Trice (Verse 1)]\nYou know a nigga wanna touch your body\nWe can keep in touch having after parties\nYou know you wanna fuck cause you’re acting naughty\nYou see us in the mattress probably\nWanna be involved cause the entourage I’m indulged in\nYou say you love my dirty drawers your all in\nWanna sleep with the star, be baby moms, eat lobster\nSee where you’re coming from\nCause hey that nigga got dick for days\nThere aint too many niggas blessing O’s ways I guess\nI just get better with old age cause in my ?? made me say “MAYDAY”\nAnyway, today I’m a different human being\nI crush em make em scream\nIts nothing aint a thang\nFronting like the dick aint off the chain\nSlicing nigga’s ??\n\n[Nate Dogg (Chorus)]\nAt the after party we can get naughty watching your body get this shit started\nCoke and Bacardi pimp juice and gin and I’m off and ready to roll\nAt the after party it’s a private party what happens at the party stays at the party\nGirl roll that body, back up that body into my body (girl lets go)\n\n[Obie Trice (Verse 2)]\nYou know I’m somewhere where I can ease my mind be\nOn some island Don Ps beside me\nNo paparazzi eying that hiney\nBut I am right behind she\nWanna bump n grind, crying, say im all up in that side\nBringing down the menstruation cycle\nGirl I lay pipe to the right, pipe to the left, pipe all night, a pipe dream right\nO Trice advise your type\nIf it aint him it’s a nigga in my click you like\nIf the miss’s insist on the dick tonight\nWe throw assists like Scott, Pip and Mike\nYou blow a kiss on my tip you just might\nGet a whiff of the kid up in your windpipe\nNow see that insight, it excites, cause she’s undressing for that sex, right\n\n[Nate Dogg (Chorus)]\n\n[Obie Trice (Verse 3)]\nTake time off my hectic schedule\nJust to give you the pleasure you request for\nWhen I hit your spine that’s how you measure O\nTell your girlfriends you aint had it like this before\nNow your girlfriends all up in the midst of O\nWanna be mistress, all cause a few extra inches\nBlew back your interest, you lack experience, new jack my crew ran through that for instance\nWe can fuck from dust to dawn\nNo discussion who’s nuts your own\nShes in such of a rush to cum\nWanna choke on the dong, like it’s a bong\nAnd what is it doing, your making a moan\nYou make her wanna leave that muthafucka she got back home\nAll Os knowing is he keeps hoes going, enjoying O Trice’s groin\n\n[Nate Dogg (Chorus)]",
            "count": 2
           },
           {
            "name": "1651 others",
            "count": 1653
           }
          ]
         }
        },
        {
         "name": "language",
         "dtype": "object",
         "stats": {
          "unique_count": 1,
          "nan_count": 0,
          "categories": [
           {
            "name": "en",
            "count": 1657
           }
          ]
         }
        },
        {
         "name": "_deepnote_index_column",
         "dtype": "int64"
        }
       ],
       "rows": [
        {
         "Artist": "Eminem",
         "Genres": "Hip Hop; Rap",
         "Songs": "486.0",
         "Popularity": "114.9",
         "Link": "/eminem/",
         "SName": "Lose Yourself",
         "SLink": "/eminem/lose-yourself.html",
         "Lyric": "Look, if you had one shot\nOr one opportunity\nTo seize everything you ever wanted\nOne moment\nWould you capture it, or just let it slip? Yo\n\nHis palms are sweaty\nKnees weak, arms are heavy\nThere's vomit on his sweater already\nMom's spaghetti, he's nervous\nBut on the surface he looks calm\nAnd ready to drop bombs\nBut he keeps on forgetting what he wrote down\nThe whole crowd goes so loud\nHe opens his mouth but the words won't come out\nHe's choking, how?\nEverybody's jokin' now\nThe clock's run out, time's up, over Blow!\n\nSnap back to reality\nOh there goes gravity\nOh there goes Rabbit, he choked, he's so mad\nBut he won't, give up that easy, no\nHe won't have it\nHe knows his whole back's to these ropes\nIt don't matter, he's dope, he knows that\nBut he's broke, he's so sad that he knows\nWhen he goes back to this mobile home\nThat's when it's back to the lab again, yo\nThis whole rhapsody\nHe better go capture this moment\nAnd hope it don't pass him\n\nYou better lose yourself in the music\nThe moment th…",
         "language": "en",
         "_deepnote_index_column": "170557"
        },
        {
         "Artist": "Wale",
         "Genres": "Hip Hop; Rap",
         "Songs": "103.0",
         "Popularity": "0.0",
         "Link": "/wale/",
         "SName": "Rotation (Feat. Wiz Khalifa & 2 Chainz)",
         "SLink": "/wale/rotation-feat-wiz-khalifa-2-chainz.html",
         "Lyric": "[Hook: Wale]\nTrying to stay in my zone\nWatching enemies close\nThey be doing the most\nSo I go through the motions\nFive blunts in rotation, five blunts\nFive blunts in rotation, five blunts\nFive blunts in rotation, five blunts\nFive blunts in rotation, five blunts\n\n[Verse 1: 2 Chainz]\nGood head is my motivation\nGas her up like a service station\nPurple drank on you perpetratin'\nWhile you perpetrating, I'm renegotiatin'\nAh, let me think about it\nAh, it's like a bank around me\nWhen the soldiers with me it's like a tank around me\nAnd I don't like niggas saying \"cain't\" around me\nI define the odds, 2 Glock nines is my body guards\nAin't nothing slick to a can of oil\nRoll up, I'm high as fuck\nSome of you niggas ain't try enough\nSome of you niggas ain't buy enough\nYou smoking good, put your lighters up\n\n[Hook]\nTrying to stay in my zone\nWatching enemies close\nThey be doing the most\nSo I go through the motions\nFive blunts in rotation, five blunts\nFive blunts in rotation, five blunts\nFive blunts in …",
         "language": "en",
         "_deepnote_index_column": "177820"
        },
        {
         "Artist": "Wale",
         "Genres": "Hip Hop; Rap",
         "Songs": "103.0",
         "Popularity": "0.0",
         "Link": "/wale/",
         "SName": "Pretty Girls (feat. Gucci Mane)",
         "SLink": "/wale/pretty-girls-feat-gucci-mane.html",
         "Lyric": "Chorus:\nGirls, I ask em do they smoke?\nAsk em what do they know?\nAsk em can we go? Pretty girls..\nSunshine in the air, perfume everywhere\nGirls are everywhere\nVerse 1:\nThanks to the flow right now what up\nA lime to a lemon remind you of the sky when im fuckin and we on cloud nine for that minute\nAdmire your style and your physique\nand I aint trying to critique but you deserve a good drink, so whats up?\nWhat you sippin on? Its no problem\nBlack and gold models like im pro-New Orleans\nbut shawty im far from a saint but I got two A-mex's that look the same way\nWale, D.C. thats me huh, my Prada say Prada and they Prada say Fela\nI aint gotta tell ya they know about me huh\nCome to D.C. and I can make you a believer\nSee baby im a leader they always from a Libra\nAnd I aint trying to lead you wrong sugar I need ya\nSo would you please listen to what Imma need from you\nNot for tonight, but for tomorrow's amnesia\nChorus:\nGirls, I ask em do they smoke?\nAsk em what do they know?\nAsk em can we go? Pr…",
         "language": "en",
         "_deepnote_index_column": "177819"
        },
        {
         "Artist": "Wale",
         "Genres": "Hip Hop; Rap",
         "Songs": "103.0",
         "Popularity": "0.0",
         "Link": "/wale/",
         "SName": "Poor Decisions (Feat. Rick Ross & Lupe Fiasco)",
         "SLink": "/wale/poor-decisions-feat-rick-ross-lupe-fiasco.html",
         "Lyric": "[Intro: Rick Ross]\nRich niggas makin' poor decisions\nRich niggas makin' poor decisions\nRich niggas makin' poor decisions\nDamn… rich niggas makin' poor decisions\nAll my little homies up in prison\nI'mma let you know just how I'm livin'\n\n[Verse 1: Rick Ross]\nI can tell you' bout the Mach Five\nI can show you what them blocks buy\nI can tell you 'bout my block ties\nI can take you to the far side\nPoor decision makin', played you niggas lives\nYou sellin' crack up on your momma's porch\nWhile she still goin' through her new divorce\nHe has a thrill as he raise his voice\nWhen he really needs to raise his boys\nYoung thugs with so much talent\nYoung thugs havin' no balance\nYoung niggas havin' no fathers\nYoung niggas catchin' dope charges\nGrowin' up she say she felt alone\nNow she strippin' for that pot of gold\nAnother fish in the bowl\nThey say her mother never played her role\nI heard her mother always on the roll\nHer mother always wearin' gold\nWhere I'm from I guess that's how it goes\n\n[Hook 1: Rick …",
         "language": "en",
         "_deepnote_index_column": "177818"
        },
        {
         "Artist": "Wale",
         "Genres": "Hip Hop; Rap",
         "Songs": "103.0",
         "Popularity": "0.0",
         "Link": "/wale/",
         "SName": "Poor Decisions (Feat. Lupe Fiasco & Rick Ross)",
         "SLink": "/wale/poor-decisions-feat-lupe-fiasco-rick-ross.html",
         "Lyric": "[Intro: Rick Ross]\nRich niggas makin' poor decisions\nRich niggas makin' poor decisions\nRich niggas makin' poor decisions\nDamn\nRich niggas makin' poor decisions\nAll my little homies up in prison\nI'mma let you know just how I'm livin'\n\n[Verse 1: Rick Ross]\nI can tell you' bout the Mach Five\nI can show you what them blocks buy\nI can tell you 'bout my block ties\nI can take you to the far side\nPoor decision makin', played you niggas lives\nYou sellin' crack up on your momma's porch\nWhile she still goin' through her new divorce\nHe has a thrill as he raise his voice\nWhen he really needs to raise his boys\nYoung thugs with so much talent\nYoung thugs havin' no balance\nYoung niggas havin' no fathers\nYoung niggas catchin' dope charges\nGrowin' up she say she felt alone\nNow she strippin' for that pot of gold\nAnother fish in the bowl\nThey say her mother never played her role\nI heard her mother always on the roll\nHer mother always wearin' gold\nWhere I'm from I guess that's how it goes\n\n[Hook 1: Rick R…",
         "language": "en",
         "_deepnote_index_column": "177817"
        },
        {
         "Artist": "Wale",
         "Genres": "Hip Hop; Rap",
         "Songs": "103.0",
         "Popularity": "0.0",
         "Link": "/wale/",
         "SName": "Poledancer (Ft. Megan Thee Stallion)",
         "SLink": "/wale/poledancer-ft-megan-thee-stallion.html",
         "Lyric": "Work, work, yuh\nWork, work, work\nWork, work, work, work\nWork, work, work, work\n\nWork out (Work) , work out\nI broke up with her, it ain't work out (Work) , work out (Work)\nOh look, my new work like to work out (Work) , work out (Work)\nShe in the mirror tryna work out (Uh) , like work out\nL-l-look, look, look, look, look, look\nPoledancer, pole, yeah\nL-l-look, look, look, look\nPoledancer, poledancer, pole\n\nUh, look, look, l-l-look, look, look, look, look\nWassup? Wassup?\nGirl, I don't need you, I just want you, want you\nShe said I need to tell you something, boy look\nBoy, I'm a freak, but I'm a woman, hol' up\nShe used to be my favorite cheerleader, I ain't mad, I ain't mad\n'Cause she's a paralegal with a bag, with a bag (Stunt)\nSays Chanel on her purse, she ain't playing with these hoes\nI need head, lick my blunt, she keep playing on the pole\nWhat you knew? What you know? Girl, you got a body\nPrivate show, she gon' show after nine to five\nI just wanna lay you up, I just wanna lay some pip…",
         "language": "en",
         "_deepnote_index_column": "177816"
        },
        {
         "Artist": "Wale",
         "Genres": "Hip Hop; Rap",
         "Songs": "103.0",
         "Popularity": "0.0",
         "Link": "/wale/",
         "SName": "Poke It Out (Feat. J. Cole)",
         "SLink": "/wale/poke-it-out-feat-j-cole.html",
         "Lyric": "(Cool n dre)\nGo, go, go, go, go\nListen (go, go, let's go)\n\nI just wanna see if you gon' lie or you gon' love me\nI was gettin' broads way before I got the money, honey\nSince I been a star, they don't love me\nThe ceilin' got stars when the star got no ceiling\nStick it out (stick it out) , poke it out (poke it out)\nStick it out (stick it out) , poke it out (poke it out) , yeah\nYeah, she got a little butt, so what?\nBig bag, she can show enough\nStick it out (stick it out) , poke it out (poke it out)\nStick it out (stick it out) , poke it out (poke it out) , yeah\n\nMy regards to the broads that thought I was done\nPick a side, pick a side and die on the joint\nI been lettin' things slide, they tryin' too hard\n'Cause I ain't left the city once, still travel aboard\nNigga, I'm back on my boss shit\nThe stick in the honda civic, we in the car service\nI really just mind my business and pray that God sort 'em\nCan't really be long winded\nYou talkin' short money, today, we not cost cuttin'\nCan you stick…",
         "language": "en",
         "_deepnote_index_column": "177815"
        },
        {
         "Artist": "Wale",
         "Genres": "Hip Hop; Rap",
         "Songs": "103.0",
         "Popularity": "0.0",
         "Link": "/wale/",
         "SName": "Passive Aggres-Her",
         "SLink": "/wale/passive-aggres-her.html",
         "Lyric": "[Intro:]\nMy homegirl told me I got an issue\nWith women with issues\nI guess I got my own and I can relate to them, you know\nThe irony in it\nWhen you get what you want, you don't always want it\n\n[Verse 1:]\nTemptation, I'm done waitin'\nI'm done thinking, this ain't enough drinking\nI'm in love with a lady who crazy\nMaybe it's cause of the way the she praise me\nI ain't used to it, she got that hot love\nI try to lay low, she like to pop up\nI try to make the most of it, beat the box up\nI make the pussy wet, make the heart bust\nGood pipe make a good girl to a good wife\nGood morning wood, I just need a termite\nRiding thru my hood tryna see where I'm at\nShe can't be in my face, then she be on my back\nLike, \"Where you at Wale?'\nOr, \"Where is that Wale?', \"Who you with Wale?'\nWhen I'm back, \"You the shit Wale\"\nShe crazy, that stalker shit\nEveryone of her homegirls so talkative\nNo time for that, no acknowledgement\nThink its time you and I need to call it quits\nLook, need to call it quits\nYou be on…",
         "language": "en",
         "_deepnote_index_column": "177814"
        },
        {
         "Artist": "Wale",
         "Genres": "Hip Hop; Rap",
         "Songs": "103.0",
         "Popularity": "0.0",
         "Link": "/wale/",
         "SName": "One Reason (Flex)",
         "SLink": "/wale/one-reason-flex.html",
         "Lyric": "Oh, oh, oh\nThis gon' be your favorite song\n\nAin't that Lisa with the C-cups?\nKnow I seen that chick before\nYeah that Lisa with them double D's up\nNo I ain't hittin' that bitch no more\nNow ain't that shawty who got to the money\nWhen Dr. Miami switched that up\nWait hold up, let me check my phone\nYep that's her, she still in love\n\nA nigga left to the right, do right, like right\nThey know it's up\nLook at shawty tryna hide, but no, I saw her\nJust give me one\n\nGive me one, give me one\nGive me one, one reason baby\nI'll flex on you\nGive me one, one, give me one\nGive me one, one, give me one\nGive me one, one reason baby, I'll\nGive me one reason, I'mma flex on you\nFlex, flex, flex, flex, flex, flex, flex, flex\nGive me one reason, I'mma flex on you\nFlex, flex, flex, flex\nDang, my new bitch look better than my ex girl\nFlex, flex, flex, flex, flex, flex, flex, flex\nGive me one reason, I'mma flex on you\nAyy, my new bitch look better than my ex\n\nYou supposed to ride with that nigga, right with that …",
         "language": "en",
         "_deepnote_index_column": "177813"
        },
        {
         "Artist": "Wale",
         "Genres": "Hip Hop; Rap",
         "Songs": "103.0",
         "Popularity": "0.0",
         "Link": "/wale/",
         "SName": "Ocean Drive (feat. Magazeen)",
         "SLink": "/wale/ocean-drive-feat-magazeen.html",
         "Lyric": "Uhhhhhhh\nMaga to the zeen\nY'all go wife on it\nCome sit up on it\nY'all didn't know she's a freak from a long time\nShe took two men: one time\nTake it here, take it anywhere, from here to brazil\n\nLet me say she wants it\nSo she calls him\nI know you want me right now\nSo I'm on it\nShe always say she needs me\nBut she calls him\nI know you want me right now\nSo I'm on it, alright girl\n\nYeah, red bottoms, she ain't trying to dance\nShe gonna chauffer, after let's call a cab\nWet willy shit, pussy, I need a minute\nI try to have them lips? shit\nOkay I'm trying to hit, something's just gotta give\nCan't read the future, my limit is so illiterate\nLyrically celibate, you can't fuck with me\nY'all crazy to share the same cup with me\nLow fitted, sure I'm with it\nPolo purple like the dope I'm hitting\nWord: one dope a-s nigga\nBitches scream \"ralph\" they don't know my?\nThese bars might flow life sentence\nAnd I be in they panties if they be independent\nI be in her mind, and y'all be \"nevermind\"\nMy marijuana lo…",
         "language": "en",
         "_deepnote_index_column": "177812"
        }
       ]
      },
      "text/plain": "             Artist        Genres  Songs  Popularity           Link  \\\n170557       Eminem  Hip Hop; Rap  486.0       114.9       /eminem/   \n170558       Eminem  Hip Hop; Rap  486.0       114.9       /eminem/   \n170559       Eminem  Hip Hop; Rap  486.0       114.9       /eminem/   \n170560       Eminem  Hip Hop; Rap  486.0       114.9       /eminem/   \n170561       Eminem  Hip Hop; Rap  486.0       114.9       /eminem/   \n...             ...           ...    ...         ...            ...   \n183359  Gudda Gudda  Hip Hop; Rap   15.0         0.0  /gudda-gudda/   \n183360  Gudda Gudda  Hip Hop; Rap   15.0         0.0  /gudda-gudda/   \n183361  Gudda Gudda  Hip Hop; Rap   15.0         0.0  /gudda-gudda/   \n183362  Gudda Gudda  Hip Hop; Rap   15.0         0.0  /gudda-gudda/   \n183363  Gudda Gudda  Hip Hop; Rap   15.0         0.0  /gudda-gudda/   \n\n                        SName                                    SLink  \\\n170557          Lose Yourself               /eminem/lose-yourself.html   \n170558    The Real Slim Shady         /eminem/the-real-slim-shady.html   \n170559                Rap God                     /eminem/rap-god.html   \n170560             Without Me                  /eminem/without-me.html   \n170561      Stan (feat. Dido)                        /eminem/stan.html   \n...                       ...                                      ...   \n183359            The Dungeon            /gudda-gudda/the-dungeon.html   \n183360  Welcome To Guddaville  /gudda-gudda/welcome-to-guddaville.html   \n183361            What a Girl            /gudda-gudda/what-a-girl.html   \n183362            Willy Wonka            /gudda-gudda/willy-wonka.html   \n183363   Young Money Hospital   /gudda-gudda/young-money-hospital.html   \n\n                                                    Lyric language  \n170557  Look, if you had one shot\\nOr one opportunity\\...       en  \n170558  May I have your attention please\\nMay I have y...       en  \n170559  Look, I was gonna go easy on you\\nAnd not to h...       en  \n170560  [Obie Trice]\\n\"Obie Trice, Real Name No Gimmic...       en  \n170561  My tea's gone cold I'm wondering why I..\\nGot ...       en  \n...                                                   ...      ...  \n183359  Lil' Twist:\\nUh\\nLil'Twist a monster, now watc...       en  \n183360  Strive ta be a winner losing not an option.\\nR...       en  \n183361  She was there for the long hall\\nIf I go to ja...       en  \n183362  (with lil wayne)\\n\\nI I i don't like the look ...       en  \n183363  [gudda gudda]\\nYoung money hospital,\\nI'm so s...       en  \n\n[1657 rows x 9 columns]",
      "text/html": "<div>\n<style scoped>\n    .dataframe tbody tr th:only-of-type {\n        vertical-align: middle;\n    }\n\n    .dataframe tbody tr th {\n        vertical-align: top;\n    }\n\n    .dataframe thead th {\n        text-align: right;\n    }\n</style>\n<table border=\"1\" class=\"dataframe\">\n  <thead>\n    <tr style=\"text-align: right;\">\n      <th></th>\n      <th>Artist</th>\n      <th>Genres</th>\n      <th>Songs</th>\n      <th>Popularity</th>\n      <th>Link</th>\n      <th>SName</th>\n      <th>SLink</th>\n      <th>Lyric</th>\n      <th>language</th>\n    </tr>\n  </thead>\n  <tbody>\n    <tr>\n      <th>170557</th>\n      <td>Eminem</td>\n      <td>Hip Hop; Rap</td>\n      <td>486.0</td>\n      <td>114.9</td>\n      <td>/eminem/</td>\n      <td>Lose Yourself</td>\n      <td>/eminem/lose-yourself.html</td>\n      <td>Look, if you had one shot\\nOr one opportunity\\...</td>\n      <td>en</td>\n    </tr>\n    <tr>\n      <th>170558</th>\n      <td>Eminem</td>\n      <td>Hip Hop; Rap</td>\n      <td>486.0</td>\n      <td>114.9</td>\n      <td>/eminem/</td>\n      <td>The Real Slim Shady</td>\n      <td>/eminem/the-real-slim-shady.html</td>\n      <td>May I have your attention please\\nMay I have y...</td>\n      <td>en</td>\n    </tr>\n    <tr>\n      <th>170559</th>\n      <td>Eminem</td>\n      <td>Hip Hop; Rap</td>\n      <td>486.0</td>\n      <td>114.9</td>\n      <td>/eminem/</td>\n      <td>Rap God</td>\n      <td>/eminem/rap-god.html</td>\n      <td>Look, I was gonna go easy on you\\nAnd not to h...</td>\n      <td>en</td>\n    </tr>\n    <tr>\n      <th>170560</th>\n      <td>Eminem</td>\n      <td>Hip Hop; Rap</td>\n      <td>486.0</td>\n      <td>114.9</td>\n      <td>/eminem/</td>\n      <td>Without Me</td>\n      <td>/eminem/without-me.html</td>\n      <td>[Obie Trice]\\n\"Obie Trice, Real Name No Gimmic...</td>\n      <td>en</td>\n    </tr>\n    <tr>\n      <th>170561</th>\n      <td>Eminem</td>\n      <td>Hip Hop; Rap</td>\n      <td>486.0</td>\n      <td>114.9</td>\n      <td>/eminem/</td>\n      <td>Stan (feat. Dido)</td>\n      <td>/eminem/stan.html</td>\n      <td>My tea's gone cold I'm wondering why I..\\nGot ...</td>\n      <td>en</td>\n    </tr>\n    <tr>\n      <th>...</th>\n      <td>...</td>\n      <td>...</td>\n      <td>...</td>\n      <td>...</td>\n      <td>...</td>\n      <td>...</td>\n      <td>...</td>\n      <td>...</td>\n      <td>...</td>\n    </tr>\n    <tr>\n      <th>183359</th>\n      <td>Gudda Gudda</td>\n      <td>Hip Hop; Rap</td>\n      <td>15.0</td>\n      <td>0.0</td>\n      <td>/gudda-gudda/</td>\n      <td>The Dungeon</td>\n      <td>/gudda-gudda/the-dungeon.html</td>\n      <td>Lil' Twist:\\nUh\\nLil'Twist a monster, now watc...</td>\n      <td>en</td>\n    </tr>\n    <tr>\n      <th>183360</th>\n      <td>Gudda Gudda</td>\n      <td>Hip Hop; Rap</td>\n      <td>15.0</td>\n      <td>0.0</td>\n      <td>/gudda-gudda/</td>\n      <td>Welcome To Guddaville</td>\n      <td>/gudda-gudda/welcome-to-guddaville.html</td>\n      <td>Strive ta be a winner losing not an option.\\nR...</td>\n      <td>en</td>\n    </tr>\n    <tr>\n      <th>183361</th>\n      <td>Gudda Gudda</td>\n      <td>Hip Hop; Rap</td>\n      <td>15.0</td>\n      <td>0.0</td>\n      <td>/gudda-gudda/</td>\n      <td>What a Girl</td>\n      <td>/gudda-gudda/what-a-girl.html</td>\n      <td>She was there for the long hall\\nIf I go to ja...</td>\n      <td>en</td>\n    </tr>\n    <tr>\n      <th>183362</th>\n      <td>Gudda Gudda</td>\n      <td>Hip Hop; Rap</td>\n      <td>15.0</td>\n      <td>0.0</td>\n      <td>/gudda-gudda/</td>\n      <td>Willy Wonka</td>\n      <td>/gudda-gudda/willy-wonka.html</td>\n      <td>(with lil wayne)\\n\\nI I i don't like the look ...</td>\n      <td>en</td>\n    </tr>\n    <tr>\n      <th>183363</th>\n      <td>Gudda Gudda</td>\n      <td>Hip Hop; Rap</td>\n      <td>15.0</td>\n      <td>0.0</td>\n      <td>/gudda-gudda/</td>\n      <td>Young Money Hospital</td>\n      <td>/gudda-gudda/young-money-hospital.html</td>\n      <td>[gudda gudda]\\nYoung money hospital,\\nI'm so s...</td>\n      <td>en</td>\n    </tr>\n  </tbody>\n</table>\n<p>1657 rows × 9 columns</p>\n</div>"
     },
     "metadata": {}
    }
   ],
   "execution_count": 23
  },
  {
   "cell_type": "markdown",
   "source": "Il existe de multiples genres. Pour le bien du projet, nous en garderons qu'un.",
   "metadata": {
    "is_collapsed": false,
    "cell_id": "d303b7f079d34cc3a9509ab1432f6d8f",
    "tags": [],
    "formattedRanges": [],
    "deepnote_cell_type": "text-cell-p"
   }
  },
  {
   "cell_type": "code",
   "source": "def split_genres(text_content):\n    try:\n        return text_content.split(';')[0]\n    except:\n        return text_content",
   "metadata": {
    "cell_id": "08f67bbd869f4c48b4f99b6412e4e3ce",
    "tags": [],
    "deepnote_to_be_reexecuted": false,
    "source_hash": "792d3dbc",
    "execution_start": 1663142164308,
    "execution_millis": 2,
    "deepnote_cell_type": "code",
    "deepnote_cell_height": 148
   },
   "outputs": [],
   "execution_count": 38
  },
  {
   "cell_type": "code",
   "source": "df['Genres'].map(split_genres)",
   "metadata": {
    "cell_id": "35f3ea31198946af803ef48f41cec1d4",
    "tags": [],
    "deepnote_to_be_reexecuted": false,
    "source_hash": "e0e30da5",
    "execution_start": 1663142164311,
    "execution_millis": 54,
    "deepnote_cell_type": "code",
    "deepnote_cell_height": 323.375,
    "deepnote_output_heights": [
     231.375
    ]
   },
   "outputs": [
    {
     "output_type": "execute_result",
     "execution_count": 39,
     "data": {
      "text/plain": "69                Pop\n86                Pop\n88                Pop\n111               Pop\n140               Pop\n             ...     \n378983    World Music\n378984    World Music\n378985    World Music\n378986    World Music\n378987    World Music\nName: Genres, Length: 191387, dtype: object"
     },
     "metadata": {}
    }
   ],
   "execution_count": 39
  },
  {
   "cell_type": "code",
   "source": "df[\"Genres\"].value_counts()[:10]",
   "metadata": {
    "cell_id": "fbed55902be14035bfa4476d43247d55",
    "tags": [],
    "deepnote_to_be_reexecuted": false,
    "source_hash": "b0015ee9",
    "execution_start": 1663141963904,
    "execution_millis": 2,
    "deepnote_cell_type": "code",
    "deepnote_cell_height": 304.15625,
    "deepnote_output_heights": [
     212.171875
    ]
   },
   "outputs": [
    {
     "output_type": "execute_result",
     "execution_count": 33,
     "data": {
      "text/plain": "Rock                25177\nPop                 13759\nHeavy Metal         13496\nIndie               12998\nRap                  9589\nPop/Rock             9019\nHip Hop              8412\nCountry              7377\nRock Alternativo     5555\nR&B                  5309\nName: Genres, dtype: int64"
     },
     "metadata": {}
    }
   ],
   "execution_count": 33
  },
  {
   "cell_type": "markdown",
   "source": "Le genre \"Rock\" est le plus représentatif en terme de quantité, ce que nous décidons de choisir pour le projet.",
   "metadata": {
    "is_collapsed": false,
    "cell_id": "986cd38f3210408cabfaa7d71306100c",
    "tags": [],
    "formattedRanges": [],
    "deepnote_cell_type": "text-cell-p"
   }
  },
  {
   "cell_type": "code",
   "source": "df = df[df['Genres'] == 'Rock']\ndf.head()",
   "metadata": {
    "cell_id": "798cfa22215f4688ad164b6b31269c86",
    "tags": [],
    "deepnote_to_be_reexecuted": false,
    "source_hash": "c93d6ff3",
    "execution_start": 1663142439381,
    "execution_millis": 46,
    "deepnote_cell_type": "code",
    "deepnote_cell_height": 424.65625
   },
   "outputs": [
    {
     "output_type": "execute_result",
     "execution_count": 40,
     "data": {
      "application/vnd.deepnote.dataframe.v3+json": {
       "column_count": 9,
       "row_count": 5,
       "columns": [
        {
         "name": "Artist",
         "dtype": "object",
         "stats": {
          "unique_count": 1,
          "nan_count": 0,
          "categories": [
           {
            "name": "Eric Clapton",
            "count": 5
           }
          ]
         }
        },
        {
         "name": "Genres",
         "dtype": "object",
         "stats": {
          "unique_count": 1,
          "nan_count": 0,
          "categories": [
           {
            "name": "Rock",
            "count": 5
           }
          ]
         }
        },
        {
         "name": "Songs",
         "dtype": "float64",
         "stats": {
          "unique_count": 1,
          "nan_count": 0,
          "min": "429.0",
          "max": "429.0",
          "histogram": [
           {
            "bin_start": 428.5,
            "bin_end": 428.6,
            "count": 0
           },
           {
            "bin_start": 428.6,
            "bin_end": 428.7,
            "count": 0
           },
           {
            "bin_start": 428.7,
            "bin_end": 428.8,
            "count": 0
           },
           {
            "bin_start": 428.8,
            "bin_end": 428.9,
            "count": 0
           },
           {
            "bin_start": 428.9,
            "bin_end": 429,
            "count": 0
           },
           {
            "bin_start": 429,
            "bin_end": 429.1,
            "count": 5
           },
           {
            "bin_start": 429.1,
            "bin_end": 429.2,
            "count": 0
           },
           {
            "bin_start": 429.2,
            "bin_end": 429.3,
            "count": 0
           },
           {
            "bin_start": 429.3,
            "bin_end": 429.4,
            "count": 0
           },
           {
            "bin_start": 429.4,
            "bin_end": 429.5,
            "count": 0
           }
          ]
         }
        },
        {
         "name": "Popularity",
         "dtype": "float64",
         "stats": {
          "unique_count": 1,
          "nan_count": 0,
          "min": "7.9",
          "max": "7.9",
          "histogram": [
           {
            "bin_start": 7.4,
            "bin_end": 7.5,
            "count": 0
           },
           {
            "bin_start": 7.5,
            "bin_end": 7.6000000000000005,
            "count": 0
           },
           {
            "bin_start": 7.6000000000000005,
            "bin_end": 7.7,
            "count": 0
           },
           {
            "bin_start": 7.7,
            "bin_end": 7.800000000000001,
            "count": 0
           },
           {
            "bin_start": 7.800000000000001,
            "bin_end": 7.9,
            "count": 0
           },
           {
            "bin_start": 7.9,
            "bin_end": 8,
            "count": 5
           },
           {
            "bin_start": 8,
            "bin_end": 8.1,
            "count": 0
           },
           {
            "bin_start": 8.1,
            "bin_end": 8.200000000000001,
            "count": 0
           },
           {
            "bin_start": 8.200000000000001,
            "bin_end": 8.3,
            "count": 0
           },
           {
            "bin_start": 8.3,
            "bin_end": 8.4,
            "count": 0
           }
          ]
         }
        },
        {
         "name": "Link",
         "dtype": "object",
         "stats": {
          "unique_count": 1,
          "nan_count": 0,
          "categories": [
           {
            "name": "/eric-clapton/",
            "count": 5
           }
          ]
         }
        },
        {
         "name": "SName",
         "dtype": "object",
         "stats": {
          "unique_count": 5,
          "nan_count": 0,
          "categories": [
           {
            "name": "Tears In Heaven",
            "count": 1
           },
           {
            "name": "Wonderful Tonight",
            "count": 1
           },
           {
            "name": "3 others",
            "count": 3
           }
          ]
         }
        },
        {
         "name": "SLink",
         "dtype": "object",
         "stats": {
          "unique_count": 5,
          "nan_count": 0,
          "categories": [
           {
            "name": "/eric-clapton/tears-in-heaven.html",
            "count": 1
           },
           {
            "name": "/eric-clapton/wonderful-tonight.html",
            "count": 1
           },
           {
            "name": "3 others",
            "count": 3
           }
          ]
         }
        },
        {
         "name": "Lyric",
         "dtype": "object",
         "stats": {
          "unique_count": 5,
          "nan_count": 0,
          "categories": [
           {
            "name": "Would you know my name\nif I saw you in Heaven?\nWould it be the same\nif I saw you in Heaven?\n\nI must be strong and carry on,\n'Cause I know\nI don't belong\nhere in Heaven.\n\nWould you hold my hand\nif I saw you in Heaven?\nWould you help me stand\nif I saw you in Heaven?\nI'll find my way\nthrough night and day,\n'Cause I know\nI just can't stay\nhere in Heaven.\n\nTime can bring you down;\ntime can bend your knees.\nTime can break your heart,\nhave you begging please,\nbegging please.\n\nBeyond the door\nthere's peace I'm sure,\nAnd I know\nthere'll be no more\ntears in Heaven.\n\nWould you know my name\nif I saw you in Heaven?\nWould it be the same\nif I saw you in Heaven?\nI must be strong and carry on,\n'Cause I know I don't belong here in Heaven\n'Cause I know I don't belong here in Heaven",
            "count": 1
           },
           {
            "name": "It's late in the evening\nShe's wonderin' what clothes to wear\nShe puts on her make-up\nAnd brushes her long blond hair\n\nAnd then she asks me, \"do I look all right?\"\nAnd I say yes, you look wonderful tonight\n\nWe go to a party\nAnd everyone turns to see\nThis beautiful lady\nWalkin around with me\n\nAnd then she asks me, \"do you feel all right?\"\nAnd I say yes, I feel wonderful tonight\n\nI feel wonderful because I see the love light in your eyes\nAnd the wonder of it all is that you just don't realize\nHow much I love you\n\nIt's time to go home now\nAnd I've got an achin' head\nSo I give her the car keys\nAnd she helps me to bed\n\nAnd then I tell her\nAs I turn out the light\nI say my darlin', you were wonderful tonight\nOh, my darling, you were wonderful tonight",
            "count": 1
           },
           {
            "name": "3 others",
            "count": 3
           }
          ]
         }
        },
        {
         "name": "language",
         "dtype": "object",
         "stats": {
          "unique_count": 1,
          "nan_count": 0,
          "categories": [
           {
            "name": "en",
            "count": 5
           }
          ]
         }
        },
        {
         "name": "_deepnote_index_column",
         "dtype": "int64"
        }
       ],
       "rows": [
        {
         "Artist": "Eric Clapton",
         "Genres": "Rock",
         "Songs": "429.0",
         "Popularity": "7.9",
         "Link": "/eric-clapton/",
         "SName": "Tears In Heaven",
         "SLink": "/eric-clapton/tears-in-heaven.html",
         "Lyric": "Would you know my name\nif I saw you in Heaven?\nWould it be the same\nif I saw you in Heaven?\n\nI must be strong and carry on,\n'Cause I know\nI don't belong\nhere in Heaven.\n\nWould you hold my hand\nif I saw you in Heaven?\nWould you help me stand\nif I saw you in Heaven?\nI'll find my way\nthrough night and day,\n'Cause I know\nI just can't stay\nhere in Heaven.\n\nTime can bring you down;\ntime can bend your knees.\nTime can break your heart,\nhave you begging please,\nbegging please.\n\nBeyond the door\nthere's peace I'm sure,\nAnd I know\nthere'll be no more\ntears in Heaven.\n\nWould you know my name\nif I saw you in Heaven?\nWould it be the same\nif I saw you in Heaven?\nI must be strong and carry on,\n'Cause I know I don't belong here in Heaven\n'Cause I know I don't belong here in Heaven",
         "language": "en",
         "_deepnote_index_column": "18207"
        },
        {
         "Artist": "Eric Clapton",
         "Genres": "Rock",
         "Songs": "429.0",
         "Popularity": "7.9",
         "Link": "/eric-clapton/",
         "SName": "Wonderful Tonight",
         "SLink": "/eric-clapton/wonderful-tonight.html",
         "Lyric": "It's late in the evening\nShe's wonderin' what clothes to wear\nShe puts on her make-up\nAnd brushes her long blond hair\n\nAnd then she asks me, \"do I look all right?\"\nAnd I say yes, you look wonderful tonight\n\nWe go to a party\nAnd everyone turns to see\nThis beautiful lady\nWalkin around with me\n\nAnd then she asks me, \"do you feel all right?\"\nAnd I say yes, I feel wonderful tonight\n\nI feel wonderful because I see the love light in your eyes\nAnd the wonder of it all is that you just don't realize\nHow much I love you\n\nIt's time to go home now\nAnd I've got an achin' head\nSo I give her the car keys\nAnd she helps me to bed\n\nAnd then I tell her\nAs I turn out the light\nI say my darlin', you were wonderful tonight\nOh, my darling, you were wonderful tonight",
         "language": "en",
         "_deepnote_index_column": "18208"
        },
        {
         "Artist": "Eric Clapton",
         "Genres": "Rock",
         "Songs": "429.0",
         "Popularity": "7.9",
         "Link": "/eric-clapton/",
         "SName": "Layla",
         "SLink": "/eric-clapton/layla.html",
         "Lyric": "What will you do when you get lonely\nNo one waiting by your side?\nYou've been running and hiding much too long\nYou know it's just your foolish pride\n\nLayla\nYou've got me on my knees, Layla\nBegging darling please, Layla\nDarling, won't you ease my worried mind\n\nTried to give you consolation.\nWhen your old man, had let you down.\nBut like a fool, I fell in love with you.\nYou turned my whole world upside down.\n\nLayla\nYou've got me on my knees, Layla\nBegging darling please, Layla\nDarling, won't you ease my worried mind\n\nMake the best of the situation\nBefore I finally go insane\nPlease don't say we'll never find a way\nOr tell me all my love's in vain\n\nLayla\nYou've got me on my knees, Layla\nBegging darling please, Layla\nDarling, won't you ease my worried mind",
         "language": "en",
         "_deepnote_index_column": "18209"
        },
        {
         "Artist": "Eric Clapton",
         "Genres": "Rock",
         "Songs": "429.0",
         "Popularity": "7.9",
         "Link": "/eric-clapton/",
         "SName": "Change The World",
         "SLink": "/eric-clapton/change-the-world.html",
         "Lyric": "If I could reach the stars\nI'd pull one down for you\nShine it on my heart\nSo you could see the truth\nAnd this love I have inside\nIs everything it seems\nBut for now I find\nIt's only in my dreams\n\nThat I can change the world\nI would be the sunlight in your universe\nYou would think my love was really something good\nBaby, if I could change the world\n\nIf I could be king\nEven for a day\nI'd take you as my queen\nI'd have it no other way\n\nAnd our love would rule\nThis kingdom we have made\nTill then I'll be a fool\nWishin' for the day\n\nThat I can change the world\nI would be the sunlight in your universe\nYou would think my love was really something good\nBaby if I could change the world\nBaby if I could change the world\n\nI could change the world\nI would be the sunlight in your universe\nYou would think my love was really something good\nBaby if I could change the world\nBaby if I could change the world\nBaby if I could change the world",
         "language": "en",
         "_deepnote_index_column": "18210"
        },
        {
         "Artist": "Eric Clapton",
         "Genres": "Rock",
         "Songs": "429.0",
         "Popularity": "7.9",
         "Link": "/eric-clapton/",
         "SName": "Cocaine",
         "SLink": "/eric-clapton/cocaine.html",
         "Lyric": "If you wanna hang out you've got to take her out; cocaine\nIf you wanna get down, down on the ground; cocaine\nShe don't lie, she don't lie, she don't lie; cocaine\n\nIf you got bad news, you wanna kick them blues; cocaine\nWhen your day is done and you wanna run; cocaine\nShe don't lie, she don't lie, she don't lie; cocaine\n\nIf your thing is gone and you wanna ride on; cocaine\nDon't forget this fact, you can't get it back; cocaine\nShe don't lie, she don't lie, she don't lie; cocaine\n\nShe don't lie, she don't lie, she don't lie; cocaine",
         "language": "en",
         "_deepnote_index_column": "18211"
        }
       ]
      },
      "text/plain": "             Artist Genres  Songs  Popularity            Link  \\\n18207  Eric Clapton   Rock  429.0         7.9  /eric-clapton/   \n18208  Eric Clapton   Rock  429.0         7.9  /eric-clapton/   \n18209  Eric Clapton   Rock  429.0         7.9  /eric-clapton/   \n18210  Eric Clapton   Rock  429.0         7.9  /eric-clapton/   \n18211  Eric Clapton   Rock  429.0         7.9  /eric-clapton/   \n\n                   SName                                 SLink  \\\n18207    Tears In Heaven    /eric-clapton/tears-in-heaven.html   \n18208  Wonderful Tonight  /eric-clapton/wonderful-tonight.html   \n18209              Layla              /eric-clapton/layla.html   \n18210   Change The World   /eric-clapton/change-the-world.html   \n18211            Cocaine            /eric-clapton/cocaine.html   \n\n                                                   Lyric language  \n18207  Would you know my name\\nif I saw you in Heaven...       en  \n18208  It's late in the evening\\nShe's wonderin' what...       en  \n18209  What will you do when you get lonely\\nNo one w...       en  \n18210  If I could reach the stars\\nI'd pull one down ...       en  \n18211  If you wanna hang out you've got to take her o...       en  ",
      "text/html": "<div>\n<style scoped>\n    .dataframe tbody tr th:only-of-type {\n        vertical-align: middle;\n    }\n\n    .dataframe tbody tr th {\n        vertical-align: top;\n    }\n\n    .dataframe thead th {\n        text-align: right;\n    }\n</style>\n<table border=\"1\" class=\"dataframe\">\n  <thead>\n    <tr style=\"text-align: right;\">\n      <th></th>\n      <th>Artist</th>\n      <th>Genres</th>\n      <th>Songs</th>\n      <th>Popularity</th>\n      <th>Link</th>\n      <th>SName</th>\n      <th>SLink</th>\n      <th>Lyric</th>\n      <th>language</th>\n    </tr>\n  </thead>\n  <tbody>\n    <tr>\n      <th>18207</th>\n      <td>Eric Clapton</td>\n      <td>Rock</td>\n      <td>429.0</td>\n      <td>7.9</td>\n      <td>/eric-clapton/</td>\n      <td>Tears In Heaven</td>\n      <td>/eric-clapton/tears-in-heaven.html</td>\n      <td>Would you know my name\\nif I saw you in Heaven...</td>\n      <td>en</td>\n    </tr>\n    <tr>\n      <th>18208</th>\n      <td>Eric Clapton</td>\n      <td>Rock</td>\n      <td>429.0</td>\n      <td>7.9</td>\n      <td>/eric-clapton/</td>\n      <td>Wonderful Tonight</td>\n      <td>/eric-clapton/wonderful-tonight.html</td>\n      <td>It's late in the evening\\nShe's wonderin' what...</td>\n      <td>en</td>\n    </tr>\n    <tr>\n      <th>18209</th>\n      <td>Eric Clapton</td>\n      <td>Rock</td>\n      <td>429.0</td>\n      <td>7.9</td>\n      <td>/eric-clapton/</td>\n      <td>Layla</td>\n      <td>/eric-clapton/layla.html</td>\n      <td>What will you do when you get lonely\\nNo one w...</td>\n      <td>en</td>\n    </tr>\n    <tr>\n      <th>18210</th>\n      <td>Eric Clapton</td>\n      <td>Rock</td>\n      <td>429.0</td>\n      <td>7.9</td>\n      <td>/eric-clapton/</td>\n      <td>Change The World</td>\n      <td>/eric-clapton/change-the-world.html</td>\n      <td>If I could reach the stars\\nI'd pull one down ...</td>\n      <td>en</td>\n    </tr>\n    <tr>\n      <th>18211</th>\n      <td>Eric Clapton</td>\n      <td>Rock</td>\n      <td>429.0</td>\n      <td>7.9</td>\n      <td>/eric-clapton/</td>\n      <td>Cocaine</td>\n      <td>/eric-clapton/cocaine.html</td>\n      <td>If you wanna hang out you've got to take her o...</td>\n      <td>en</td>\n    </tr>\n  </tbody>\n</table>\n</div>"
     },
     "metadata": {}
    }
   ],
   "execution_count": 40
  },
  {
   "cell_type": "markdown",
   "source": "<a style='text-decoration:none;line-height:16px;display:flex;color:#5B5B62;padding:10px;justify-content:end;' href='https://deepnote.com?utm_source=created-in-deepnote-cell&projectId=f6c2ce2b-8ce6-470d-aa26-83152c7968a8' target=\"_blank\">\n<img alt='Created in deepnote.com' style='display:inline;max-height:16px;margin:0px;margin-right:7.5px;' src='data:image/svg+xml;base64,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' > </img>\nCreated in <span style='font-weight:600;margin-left:4px;'>Deepnote</span></a>",
   "metadata": {
    "tags": [],
    "created_in_deepnote_cell": true,
    "deepnote_cell_type": "markdown"
   }
  }
 ],
 "nbformat": 4,
 "nbformat_minor": 2,
 "metadata": {
  "kernelspec": {
   "display_name": "Python 3.9.12 ('base')",
   "language": "python",
   "name": "python3"
  },
  "language_info": {
   "codemirror_mode": {
    "name": "ipython",
    "version": 3
   },
   "file_extension": ".py",
   "mimetype": "text/x-python",
   "name": "python",
   "nbconvert_exporter": "python",
   "pygments_lexer": "ipython3",
   "version": "3.9.12"
  },
  "orig_nbformat": 4,
  "vscode": {
   "interpreter": {
    "hash": "5c91d25207c3c51aa5a26cd27f604ae441fb9f6937695f74ebf58dab3f5f24fa"
   }
  },
  "deepnote_notebook_id": "49b090cd-0f47-47d2-9621-f6edf89013ae",
  "deepnote": {},
  "deepnote_execution_queue": []
 }
}