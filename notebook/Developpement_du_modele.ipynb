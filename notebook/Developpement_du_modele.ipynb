{
 "cells": [
  {
   "cell_type": "markdown",
   "metadata": {
    "cell_id": "f9903d04-2d52-4e59-8e02-29cfc343f0a4",
    "deepnote_cell_height": 82,
    "deepnote_cell_type": "markdown"
   },
   "source": [
    "# <center>Brief Générateur de paroles de chansons</center>"
   ]
  },
  {
   "cell_type": "markdown",
   "metadata": {
    "cell_id": "00001-064099ef-1dce-4e96-bece-2307fbfedcd7",
    "deepnote_cell_height": 70,
    "deepnote_cell_type": "markdown"
   },
   "source": [
    "## Importation des librairies"
   ]
  },
  {
   "cell_type": "code",
   "execution_count": 1,
   "metadata": {
    "cell_id": "00002-67c672c1-0154-4dc6-b2b7-a4b138c598f4",
    "deepnote_cell_height": 94,
    "deepnote_cell_type": "code",
    "deepnote_to_be_reexecuted": false,
    "execution_millis": 1,
    "execution_start": 1663139342068,
    "source_hash": "7850a717"
   },
   "outputs": [],
   "source": [
    "import numpy as np \n",
    "import pandas as pd"
   ]
  },
  {
   "cell_type": "markdown",
   "metadata": {
    "cell_id": "00003-244dc62d-c649-4998-bdd9-8f77263281e4",
    "deepnote_cell_height": 70,
    "deepnote_cell_type": "markdown"
   },
   "source": [
    "## Importation des datasets"
   ]
  },
  {
   "cell_type": "code",
   "execution_count": 2,
   "metadata": {},
   "outputs": [
    {
     "data": {
      "text/html": [
       "<div>\n",
       "<style scoped>\n",
       "    .dataframe tbody tr th:only-of-type {\n",
       "        vertical-align: middle;\n",
       "    }\n",
       "\n",
       "    .dataframe tbody tr th {\n",
       "        vertical-align: top;\n",
       "    }\n",
       "\n",
       "    .dataframe thead th {\n",
       "        text-align: right;\n",
       "    }\n",
       "</style>\n",
       "<table border=\"1\" class=\"dataframe\">\n",
       "  <thead>\n",
       "    <tr style=\"text-align: right;\">\n",
       "      <th></th>\n",
       "      <th>Artist</th>\n",
       "      <th>Genres</th>\n",
       "      <th>Songs</th>\n",
       "      <th>Popularity</th>\n",
       "      <th>Link</th>\n",
       "      <th>SName</th>\n",
       "      <th>SLink</th>\n",
       "      <th>Lyric</th>\n",
       "      <th>language</th>\n",
       "    </tr>\n",
       "  </thead>\n",
       "  <tbody>\n",
       "    <tr>\n",
       "      <th>0</th>\n",
       "      <td>4 Non Blondes</td>\n",
       "      <td>Rock</td>\n",
       "      <td>15.0</td>\n",
       "      <td>10.1</td>\n",
       "      <td>/4-non-blondes/</td>\n",
       "      <td>What's Up</td>\n",
       "      <td>/4-non-blondes/whats-up.html</td>\n",
       "      <td>Twenty-five years and my life is still\\nTrying...</td>\n",
       "      <td>en</td>\n",
       "    </tr>\n",
       "    <tr>\n",
       "      <th>1</th>\n",
       "      <td>4 Non Blondes</td>\n",
       "      <td>Rock</td>\n",
       "      <td>15.0</td>\n",
       "      <td>10.1</td>\n",
       "      <td>/4-non-blondes/</td>\n",
       "      <td>Spaceman</td>\n",
       "      <td>/4-non-blondes/spaceman.html</td>\n",
       "      <td>Starry night bring me down\\nTill I realize the...</td>\n",
       "      <td>en</td>\n",
       "    </tr>\n",
       "    <tr>\n",
       "      <th>2</th>\n",
       "      <td>4 Non Blondes</td>\n",
       "      <td>Rock</td>\n",
       "      <td>15.0</td>\n",
       "      <td>10.1</td>\n",
       "      <td>/4-non-blondes/</td>\n",
       "      <td>Pleasantly Blue</td>\n",
       "      <td>/4-non-blondes/pleasantly-blue.html</td>\n",
       "      <td>Every time you wake in the mornin'\\nAnd you st...</td>\n",
       "      <td>en</td>\n",
       "    </tr>\n",
       "    <tr>\n",
       "      <th>3</th>\n",
       "      <td>4 Non Blondes</td>\n",
       "      <td>Rock</td>\n",
       "      <td>15.0</td>\n",
       "      <td>10.1</td>\n",
       "      <td>/4-non-blondes/</td>\n",
       "      <td>I'm The One</td>\n",
       "      <td>/4-non-blondes/im-the-one.html</td>\n",
       "      <td>Ah-hah!\\nWoo!\\nAh-ha-ha-ha-ha-ha!\\nWe came her...</td>\n",
       "      <td>en</td>\n",
       "    </tr>\n",
       "    <tr>\n",
       "      <th>4</th>\n",
       "      <td>4 Non Blondes</td>\n",
       "      <td>Rock</td>\n",
       "      <td>15.0</td>\n",
       "      <td>10.1</td>\n",
       "      <td>/4-non-blondes/</td>\n",
       "      <td>Dear Mr. President</td>\n",
       "      <td>/4-non-blondes/dear-mr-president.html</td>\n",
       "      <td>I'm looking outside of my windows\\nThe view th...</td>\n",
       "      <td>en</td>\n",
       "    </tr>\n",
       "  </tbody>\n",
       "</table>\n",
       "</div>"
      ],
      "text/plain": [
       "          Artist Genres  Songs  Popularity             Link  \\\n",
       "0  4 Non Blondes   Rock   15.0        10.1  /4-non-blondes/   \n",
       "1  4 Non Blondes   Rock   15.0        10.1  /4-non-blondes/   \n",
       "2  4 Non Blondes   Rock   15.0        10.1  /4-non-blondes/   \n",
       "3  4 Non Blondes   Rock   15.0        10.1  /4-non-blondes/   \n",
       "4  4 Non Blondes   Rock   15.0        10.1  /4-non-blondes/   \n",
       "\n",
       "                SName                                  SLink  \\\n",
       "0           What's Up           /4-non-blondes/whats-up.html   \n",
       "1            Spaceman           /4-non-blondes/spaceman.html   \n",
       "2     Pleasantly Blue    /4-non-blondes/pleasantly-blue.html   \n",
       "3         I'm The One         /4-non-blondes/im-the-one.html   \n",
       "4  Dear Mr. President  /4-non-blondes/dear-mr-president.html   \n",
       "\n",
       "                                               Lyric language  \n",
       "0  Twenty-five years and my life is still\\nTrying...       en  \n",
       "1  Starry night bring me down\\nTill I realize the...       en  \n",
       "2  Every time you wake in the mornin'\\nAnd you st...       en  \n",
       "3  Ah-hah!\\nWoo!\\nAh-ha-ha-ha-ha-ha!\\nWe came her...       en  \n",
       "4  I'm looking outside of my windows\\nThe view th...       en  "
      ]
     },
     "execution_count": 2,
     "metadata": {},
     "output_type": "execute_result"
    }
   ],
   "source": [
    "df = pd.read_csv('new-dataset.csv', sep=\",\")\n",
    "df.head()"
   ]
  },
  {
   "cell_type": "code",
   "execution_count": 3,
   "metadata": {},
   "outputs": [
    {
     "name": "stdout",
     "output_type": "stream",
     "text": [
      "<class 'pandas.core.frame.DataFrame'>\n",
      "RangeIndex: 4672 entries, 0 to 4671\n",
      "Data columns (total 9 columns):\n",
      " #   Column      Non-Null Count  Dtype  \n",
      "---  ------      --------------  -----  \n",
      " 0   Artist      4672 non-null   object \n",
      " 1   Genres      4672 non-null   object \n",
      " 2   Songs       4672 non-null   float64\n",
      " 3   Popularity  4672 non-null   float64\n",
      " 4   Link        4672 non-null   object \n",
      " 5   SName       4672 non-null   object \n",
      " 6   SLink       4672 non-null   object \n",
      " 7   Lyric       4672 non-null   object \n",
      " 8   language    4672 non-null   object \n",
      "dtypes: float64(2), object(7)\n",
      "memory usage: 328.6+ KB\n"
     ]
    }
   ],
   "source": [
    "df.info()"
   ]
  },
  {
   "cell_type": "code",
   "execution_count": 4,
   "metadata": {},
   "outputs": [
    {
     "data": {
      "text/plain": [
       "(4672, 9)"
      ]
     },
     "execution_count": 4,
     "metadata": {},
     "output_type": "execute_result"
    }
   ],
   "source": [
    "df.shape"
   ]
  },
  {
   "cell_type": "markdown",
   "metadata": {},
   "source": [
    "## Pre-processing\n",
    "Maintenant que les données sont filtrées, nous allons effectuer un traitement qui permettra à notre modèle de prédire un suite de mots."
   ]
  },
  {
   "cell_type": "code",
   "execution_count": 5,
   "metadata": {},
   "outputs": [],
   "source": [
    "import numpy as np\n",
    "from tensorflow.keras.preprocessing.text import Tokenizer\n",
    "from tensorflow.keras.utils import to_categorical\n",
    "from tensorflow.keras.models import Sequential\n",
    "from tensorflow.keras.layers import Dense, LSTM, Embedding\n",
    "from tensorflow.keras.preprocessing.sequence import pad_sequences"
   ]
  },
  {
   "cell_type": "code",
   "execution_count": 12,
   "metadata": {},
   "outputs": [],
   "source": [
    "df = df.sample(1000)"
   ]
  },
  {
   "cell_type": "code",
   "execution_count": 13,
   "metadata": {},
   "outputs": [],
   "source": [
    "token = Tokenizer()\n",
    "token.fit_on_texts(df['Lyric'])"
   ]
  },
  {
   "cell_type": "code",
   "execution_count": 14,
   "metadata": {},
   "outputs": [],
   "source": [
    "encoded_text = token.texts_to_sequences(df['Lyric'])"
   ]
  },
  {
   "cell_type": "code",
   "execution_count": 15,
   "metadata": {},
   "outputs": [],
   "source": [
    "vocab_size = len(token.word_counts) + 1"
   ]
  },
  {
   "cell_type": "code",
   "execution_count": 16,
   "metadata": {},
   "outputs": [],
   "source": [
    "datalist = []\n",
    "for d in encoded_text:\n",
    "    if len(d)>1:\n",
    "        for i in range(2, len(d)):\n",
    "            datalist.append(d[:i])"
   ]
  },
  {
   "cell_type": "code",
   "execution_count": 17,
   "metadata": {},
   "outputs": [],
   "source": [
    "max_length = 20\n",
    "sequences = pad_sequences(datalist, maxlen=max_length, padding='pre')\n",
    "X = sequences[:, :-1]\n",
    "y = sequences[:, -1]\n",
    "y = to_categorical(y, num_classes=vocab_size)\n",
    "seq_length = X.shape[1]"
   ]
  },
  {
   "cell_type": "code",
   "execution_count": null,
   "metadata": {},
   "outputs": [
    {
     "name": "stdout",
     "output_type": "stream",
     "text": [
      "Epoch 1/50\n"
     ]
    }
   ],
   "source": [
    "model = Sequential()\n",
    "model.add(Embedding(vocab_size, 50, input_length=seq_length))\n",
    "model.add(LSTM(100, return_sequences=True))\n",
    "model.add(LSTM(100))\n",
    "model.add(Dense(100, activation='relu'))\n",
    "model.add(Dense(vocab_size, activation='softmax'))\n",
    "model.compile(loss='categorical_crossentropy', optimizer='adam', metrics=['accuracy'])\n",
    "#it will take sometime to complete traning\n",
    "model.fit(X, y, batch_size=32, epochs=50)"
   ]
  },
  {
   "cell_type": "code",
   "execution_count": null,
   "metadata": {},
   "outputs": [],
   "source": [
    "poetry_length = 10\n",
    "def generate_poetry(seed_text, n_lines):\n",
    "    for i in range(n_lines):\n",
    "        text = []\n",
    "        for _ in range(poetry_length):\n",
    "            encoded = token.texts_to_sequences([seed_text])\n",
    "            encoded = pad_sequences(encoded, maxlen=seq_length, padding='pre')\n",
    "\n",
    "            y_pred = np.argmax(model.predict(encoded), axis=-1)\n",
    "\n",
    "            predicted_word = \"\"\n",
    "            for word, index in token.word_index.items():\n",
    "                if index == y_pred:\n",
    "                    predicted_word = word\n",
    "                    break\n",
    "                    \n",
    "            seed_text = seed_text + ' ' + predicted_word\n",
    "            text.append(predicted_word)\n",
    "                \n",
    "        seed_text = text[-1]\n",
    "        text = ' '.join(text)\n",
    "        print(text)"
   ]
  },
  {
   "cell_type": "code",
   "execution_count": null,
   "metadata": {},
   "outputs": [],
   "source": [
    "seed_text = 'i love you'\n",
    "generate_poetry(seed_text, 5)"
   ]
  },
  {
   "cell_type": "code",
   "execution_count": null,
   "metadata": {},
   "outputs": [],
   "source": []
  }
 ],
 "metadata": {
  "deepnote": {},
  "deepnote_execution_queue": [],
  "deepnote_notebook_id": "49b090cd-0f47-47d2-9621-f6edf89013ae",
  "kernelspec": {
   "display_name": "Python 3",
   "language": "python",
   "name": "python3"
  },
  "vscode": {
   "interpreter": {
    "hash": "5c91d25207c3c51aa5a26cd27f604ae441fb9f6937695f74ebf58dab3f5f24fa"
   }
  }
 },
 "nbformat": 4,
 "nbformat_minor": 2
}
