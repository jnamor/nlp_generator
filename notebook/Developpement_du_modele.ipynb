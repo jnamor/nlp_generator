{
  "cells": [
    {
      "cell_type": "markdown",
      "metadata": {
        "cell_id": "f9903d04-2d52-4e59-8e02-29cfc343f0a4",
        "deepnote_cell_height": 82,
        "deepnote_cell_type": "markdown",
        "id": "Tuc9fX6MMTfG"
      },
      "source": [
        "# <center>Brief Générateur de paroles de chansons</center>"
      ]
    },
    {
      "cell_type": "markdown",
      "metadata": {
        "cell_id": "00001-064099ef-1dce-4e96-bece-2307fbfedcd7",
        "deepnote_cell_height": 70,
        "deepnote_cell_type": "markdown",
        "id": "NhJKl_JAMTfO"
      },
      "source": [
        "## Importation des librairies"
      ]
    },
    {
      "cell_type": "code",
      "execution_count": 3,
      "metadata": {
        "cell_id": "00002-67c672c1-0154-4dc6-b2b7-a4b138c598f4",
        "deepnote_cell_height": 94,
        "deepnote_cell_type": "code",
        "deepnote_to_be_reexecuted": false,
        "execution_millis": 1,
        "execution_start": 1663139342068,
        "source_hash": "7850a717",
        "id": "IDhKhWZdMTfQ"
      },
      "outputs": [],
      "source": [
        "import numpy as np \n",
        "import pandas as pd"
      ]
    },
    {
      "cell_type": "code",
      "source": [
        "with open('personal_access_token.txt') as f:\n",
        "    ACCESS_TOKEN = f.readline()"
      ],
      "metadata": {
        "id": "E78Ve_JnPxme"
      },
      "execution_count": 4,
      "outputs": []
    },
    {
      "cell_type": "markdown",
      "metadata": {
        "cell_id": "00003-244dc62d-c649-4998-bdd9-8f77263281e4",
        "deepnote_cell_height": 70,
        "deepnote_cell_type": "markdown",
        "id": "RXwKOBAhMTfV"
      },
      "source": [
        "## Importation des datasets"
      ]
    },
    {
      "cell_type": "code",
      "source": [
        "!git clone -b jordan https://{ACCESS_TOKEN}@github.com/jnamor/nlp_generator>.git"
      ],
      "metadata": {
        "id": "dTGlXz8iOG90",
        "outputId": "2a80c6b6-a82b-4219-c8f7-6294d94011fc",
        "colab": {
          "base_uri": "https://localhost:8080/"
        }
      },
      "execution_count": 5,
      "outputs": [
        {
          "output_type": "stream",
          "name": "stdout",
          "text": [
            "fatal: destination path 'nlp_generator' already exists and is not an empty directory.\n"
          ]
        }
      ]
    },
    {
      "cell_type": "code",
      "execution_count": 6,
      "metadata": {
        "id": "wqAKLpd6MTfW",
        "outputId": "ee927768-4ee2-4743-871d-47a0fa4a1e85",
        "colab": {
          "base_uri": "https://localhost:8080/",
          "height": 206
        }
      },
      "outputs": [
        {
          "output_type": "execute_result",
          "data": {
            "text/plain": [
              "          Artist Genres  Songs  Popularity             Link  \\\n",
              "0  4 Non Blondes   Rock   15.0        10.1  /4-non-blondes/   \n",
              "1  4 Non Blondes   Rock   15.0        10.1  /4-non-blondes/   \n",
              "2  4 Non Blondes   Rock   15.0        10.1  /4-non-blondes/   \n",
              "3  4 Non Blondes   Rock   15.0        10.1  /4-non-blondes/   \n",
              "4  4 Non Blondes   Rock   15.0        10.1  /4-non-blondes/   \n",
              "\n",
              "                SName                                  SLink  \\\n",
              "0           What's Up           /4-non-blondes/whats-up.html   \n",
              "1            Spaceman           /4-non-blondes/spaceman.html   \n",
              "2     Pleasantly Blue    /4-non-blondes/pleasantly-blue.html   \n",
              "3         I'm The One         /4-non-blondes/im-the-one.html   \n",
              "4  Dear Mr. President  /4-non-blondes/dear-mr-president.html   \n",
              "\n",
              "                                               Lyric language  \n",
              "0  Twenty-five years and my life is still\\nTrying...       en  \n",
              "1  Starry night bring me down\\nTill I realize the...       en  \n",
              "2  Every time you wake in the mornin'\\nAnd you st...       en  \n",
              "3  Ah-hah!\\nWoo!\\nAh-ha-ha-ha-ha-ha!\\nWe came her...       en  \n",
              "4  I'm looking outside of my windows\\nThe view th...       en  "
            ],
            "text/html": [
              "\n",
              "  <div id=\"df-16421a69-868c-41e6-afcc-91ceccd76181\">\n",
              "    <div class=\"colab-df-container\">\n",
              "      <div>\n",
              "<style scoped>\n",
              "    .dataframe tbody tr th:only-of-type {\n",
              "        vertical-align: middle;\n",
              "    }\n",
              "\n",
              "    .dataframe tbody tr th {\n",
              "        vertical-align: top;\n",
              "    }\n",
              "\n",
              "    .dataframe thead th {\n",
              "        text-align: right;\n",
              "    }\n",
              "</style>\n",
              "<table border=\"1\" class=\"dataframe\">\n",
              "  <thead>\n",
              "    <tr style=\"text-align: right;\">\n",
              "      <th></th>\n",
              "      <th>Artist</th>\n",
              "      <th>Genres</th>\n",
              "      <th>Songs</th>\n",
              "      <th>Popularity</th>\n",
              "      <th>Link</th>\n",
              "      <th>SName</th>\n",
              "      <th>SLink</th>\n",
              "      <th>Lyric</th>\n",
              "      <th>language</th>\n",
              "    </tr>\n",
              "  </thead>\n",
              "  <tbody>\n",
              "    <tr>\n",
              "      <th>0</th>\n",
              "      <td>4 Non Blondes</td>\n",
              "      <td>Rock</td>\n",
              "      <td>15.0</td>\n",
              "      <td>10.1</td>\n",
              "      <td>/4-non-blondes/</td>\n",
              "      <td>What's Up</td>\n",
              "      <td>/4-non-blondes/whats-up.html</td>\n",
              "      <td>Twenty-five years and my life is still\\nTrying...</td>\n",
              "      <td>en</td>\n",
              "    </tr>\n",
              "    <tr>\n",
              "      <th>1</th>\n",
              "      <td>4 Non Blondes</td>\n",
              "      <td>Rock</td>\n",
              "      <td>15.0</td>\n",
              "      <td>10.1</td>\n",
              "      <td>/4-non-blondes/</td>\n",
              "      <td>Spaceman</td>\n",
              "      <td>/4-non-blondes/spaceman.html</td>\n",
              "      <td>Starry night bring me down\\nTill I realize the...</td>\n",
              "      <td>en</td>\n",
              "    </tr>\n",
              "    <tr>\n",
              "      <th>2</th>\n",
              "      <td>4 Non Blondes</td>\n",
              "      <td>Rock</td>\n",
              "      <td>15.0</td>\n",
              "      <td>10.1</td>\n",
              "      <td>/4-non-blondes/</td>\n",
              "      <td>Pleasantly Blue</td>\n",
              "      <td>/4-non-blondes/pleasantly-blue.html</td>\n",
              "      <td>Every time you wake in the mornin'\\nAnd you st...</td>\n",
              "      <td>en</td>\n",
              "    </tr>\n",
              "    <tr>\n",
              "      <th>3</th>\n",
              "      <td>4 Non Blondes</td>\n",
              "      <td>Rock</td>\n",
              "      <td>15.0</td>\n",
              "      <td>10.1</td>\n",
              "      <td>/4-non-blondes/</td>\n",
              "      <td>I'm The One</td>\n",
              "      <td>/4-non-blondes/im-the-one.html</td>\n",
              "      <td>Ah-hah!\\nWoo!\\nAh-ha-ha-ha-ha-ha!\\nWe came her...</td>\n",
              "      <td>en</td>\n",
              "    </tr>\n",
              "    <tr>\n",
              "      <th>4</th>\n",
              "      <td>4 Non Blondes</td>\n",
              "      <td>Rock</td>\n",
              "      <td>15.0</td>\n",
              "      <td>10.1</td>\n",
              "      <td>/4-non-blondes/</td>\n",
              "      <td>Dear Mr. President</td>\n",
              "      <td>/4-non-blondes/dear-mr-president.html</td>\n",
              "      <td>I'm looking outside of my windows\\nThe view th...</td>\n",
              "      <td>en</td>\n",
              "    </tr>\n",
              "  </tbody>\n",
              "</table>\n",
              "</div>\n",
              "      <button class=\"colab-df-convert\" onclick=\"convertToInteractive('df-16421a69-868c-41e6-afcc-91ceccd76181')\"\n",
              "              title=\"Convert this dataframe to an interactive table.\"\n",
              "              style=\"display:none;\">\n",
              "        \n",
              "  <svg xmlns=\"http://www.w3.org/2000/svg\" height=\"24px\"viewBox=\"0 0 24 24\"\n",
              "       width=\"24px\">\n",
              "    <path d=\"M0 0h24v24H0V0z\" fill=\"none\"/>\n",
              "    <path d=\"M18.56 5.44l.94 2.06.94-2.06 2.06-.94-2.06-.94-.94-2.06-.94 2.06-2.06.94zm-11 1L8.5 8.5l.94-2.06 2.06-.94-2.06-.94L8.5 2.5l-.94 2.06-2.06.94zm10 10l.94 2.06.94-2.06 2.06-.94-2.06-.94-.94-2.06-.94 2.06-2.06.94z\"/><path d=\"M17.41 7.96l-1.37-1.37c-.4-.4-.92-.59-1.43-.59-.52 0-1.04.2-1.43.59L10.3 9.45l-7.72 7.72c-.78.78-.78 2.05 0 2.83L4 21.41c.39.39.9.59 1.41.59.51 0 1.02-.2 1.41-.59l7.78-7.78 2.81-2.81c.8-.78.8-2.07 0-2.86zM5.41 20L4 18.59l7.72-7.72 1.47 1.35L5.41 20z\"/>\n",
              "  </svg>\n",
              "      </button>\n",
              "      \n",
              "  <style>\n",
              "    .colab-df-container {\n",
              "      display:flex;\n",
              "      flex-wrap:wrap;\n",
              "      gap: 12px;\n",
              "    }\n",
              "\n",
              "    .colab-df-convert {\n",
              "      background-color: #E8F0FE;\n",
              "      border: none;\n",
              "      border-radius: 50%;\n",
              "      cursor: pointer;\n",
              "      display: none;\n",
              "      fill: #1967D2;\n",
              "      height: 32px;\n",
              "      padding: 0 0 0 0;\n",
              "      width: 32px;\n",
              "    }\n",
              "\n",
              "    .colab-df-convert:hover {\n",
              "      background-color: #E2EBFA;\n",
              "      box-shadow: 0px 1px 2px rgba(60, 64, 67, 0.3), 0px 1px 3px 1px rgba(60, 64, 67, 0.15);\n",
              "      fill: #174EA6;\n",
              "    }\n",
              "\n",
              "    [theme=dark] .colab-df-convert {\n",
              "      background-color: #3B4455;\n",
              "      fill: #D2E3FC;\n",
              "    }\n",
              "\n",
              "    [theme=dark] .colab-df-convert:hover {\n",
              "      background-color: #434B5C;\n",
              "      box-shadow: 0px 1px 3px 1px rgba(0, 0, 0, 0.15);\n",
              "      filter: drop-shadow(0px 1px 2px rgba(0, 0, 0, 0.3));\n",
              "      fill: #FFFFFF;\n",
              "    }\n",
              "  </style>\n",
              "\n",
              "      <script>\n",
              "        const buttonEl =\n",
              "          document.querySelector('#df-16421a69-868c-41e6-afcc-91ceccd76181 button.colab-df-convert');\n",
              "        buttonEl.style.display =\n",
              "          google.colab.kernel.accessAllowed ? 'block' : 'none';\n",
              "\n",
              "        async function convertToInteractive(key) {\n",
              "          const element = document.querySelector('#df-16421a69-868c-41e6-afcc-91ceccd76181');\n",
              "          const dataTable =\n",
              "            await google.colab.kernel.invokeFunction('convertToInteractive',\n",
              "                                                     [key], {});\n",
              "          if (!dataTable) return;\n",
              "\n",
              "          const docLinkHtml = 'Like what you see? Visit the ' +\n",
              "            '<a target=\"_blank\" href=https://colab.research.google.com/notebooks/data_table.ipynb>data table notebook</a>'\n",
              "            + ' to learn more about interactive tables.';\n",
              "          element.innerHTML = '';\n",
              "          dataTable['output_type'] = 'display_data';\n",
              "          await google.colab.output.renderOutput(dataTable, element);\n",
              "          const docLink = document.createElement('div');\n",
              "          docLink.innerHTML = docLinkHtml;\n",
              "          element.appendChild(docLink);\n",
              "        }\n",
              "      </script>\n",
              "    </div>\n",
              "  </div>\n",
              "  "
            ]
          },
          "metadata": {},
          "execution_count": 6
        }
      ],
      "source": [
        "df = pd.read_csv('nlp_generator/notebook/new-dataset.csv', sep=\",\")\n",
        "df.head()"
      ]
    },
    {
      "cell_type": "code",
      "execution_count": 7,
      "metadata": {
        "id": "NAuiZoRKMTfe",
        "outputId": "427f14cd-cadf-4703-e73d-52848a1e0342",
        "colab": {
          "base_uri": "https://localhost:8080/"
        }
      },
      "outputs": [
        {
          "output_type": "stream",
          "name": "stdout",
          "text": [
            "<class 'pandas.core.frame.DataFrame'>\n",
            "RangeIndex: 4672 entries, 0 to 4671\n",
            "Data columns (total 9 columns):\n",
            " #   Column      Non-Null Count  Dtype  \n",
            "---  ------      --------------  -----  \n",
            " 0   Artist      4672 non-null   object \n",
            " 1   Genres      4672 non-null   object \n",
            " 2   Songs       4672 non-null   float64\n",
            " 3   Popularity  4672 non-null   float64\n",
            " 4   Link        4672 non-null   object \n",
            " 5   SName       4672 non-null   object \n",
            " 6   SLink       4672 non-null   object \n",
            " 7   Lyric       4672 non-null   object \n",
            " 8   language    4672 non-null   object \n",
            "dtypes: float64(2), object(7)\n",
            "memory usage: 328.6+ KB\n"
          ]
        }
      ],
      "source": [
        "df.info()"
      ]
    },
    {
      "cell_type": "code",
      "execution_count": 8,
      "metadata": {
        "id": "s1HZJWWXMTfi",
        "outputId": "2828710c-5076-4865-ad65-14cc37a1ad28",
        "colab": {
          "base_uri": "https://localhost:8080/"
        }
      },
      "outputs": [
        {
          "output_type": "execute_result",
          "data": {
            "text/plain": [
              "(4672, 9)"
            ]
          },
          "metadata": {},
          "execution_count": 8
        }
      ],
      "source": [
        "df.shape"
      ]
    },
    {
      "cell_type": "markdown",
      "metadata": {
        "id": "fTcqxf27MTfk"
      },
      "source": [
        "## Pre-processing\n",
        "Maintenant que les données sont filtrées, nous allons effectuer un traitement qui permettra à notre modèle de prédire un suite de mots."
      ]
    },
    {
      "cell_type": "code",
      "execution_count": 9,
      "metadata": {
        "id": "a2PAu8yMMTfl"
      },
      "outputs": [],
      "source": [
        "import numpy as np\n",
        "from tensorflow.keras.preprocessing.text import Tokenizer\n",
        "from tensorflow.keras.utils import to_categorical\n",
        "from tensorflow.keras.models import Sequential\n",
        "from tensorflow.keras.layers import Dense, LSTM, Embedding\n",
        "from tensorflow.keras.preprocessing.sequence import pad_sequences"
      ]
    },
    {
      "cell_type": "code",
      "execution_count": 10,
      "metadata": {
        "id": "6OrD_-YwMTfn"
      },
      "outputs": [],
      "source": [
        "df = df.sample(1000)"
      ]
    },
    {
      "cell_type": "code",
      "execution_count": 11,
      "metadata": {
        "id": "8QhndeTUMTfp"
      },
      "outputs": [],
      "source": [
        "token = Tokenizer()\n",
        "token.fit_on_texts(df['Lyric'])"
      ]
    },
    {
      "cell_type": "code",
      "execution_count": 12,
      "metadata": {
        "id": "qgdwaiw6MTfq"
      },
      "outputs": [],
      "source": [
        "encoded_text = token.texts_to_sequences(df['Lyric'])"
      ]
    },
    {
      "cell_type": "code",
      "execution_count": 13,
      "metadata": {
        "id": "eWhbCXN0MTfr"
      },
      "outputs": [],
      "source": [
        "vocab_size = len(token.word_counts) + 1"
      ]
    },
    {
      "cell_type": "code",
      "execution_count": 14,
      "metadata": {
        "id": "LmlW0ff5MTft"
      },
      "outputs": [],
      "source": [
        "datalist = []\n",
        "for d in encoded_text:\n",
        "    if len(d)>1:\n",
        "        for i in range(2, len(d)):\n",
        "            datalist.append(d[:i])"
      ]
    },
    {
      "cell_type": "code",
      "execution_count": 15,
      "metadata": {
        "id": "7TWNyN0wMTfu"
      },
      "outputs": [],
      "source": [
        "max_length = 20\n",
        "sequences = pad_sequences(datalist, maxlen=max_length, padding='pre')\n",
        "X = sequences[:, :-1]\n",
        "y = sequences[:, -1]\n",
        "y = to_categorical(y, num_classes=vocab_size)\n",
        "seq_length = X.shape[1]"
      ]
    },
    {
      "cell_type": "code",
      "execution_count": null,
      "metadata": {
        "id": "1UfCWfjyMTfx"
      },
      "outputs": [],
      "source": [
        "model = Sequential()\n",
        "model.add(Embedding(vocab_size, 50, input_length=seq_length))\n",
        "model.add(LSTM(100, return_sequences=True))\n",
        "model.add(LSTM(100))\n",
        "model.add(Dense(100, activation='relu'))\n",
        "model.add(Dense(vocab_size, activation='softmax'))\n",
        "model.compile(loss='categorical_crossentropy', optimizer='adam', metrics=['accuracy'])\n",
        "#it will take sometime to complete traning\n",
        "model.fit(X, y, batch_size=32, epochs=50)"
      ]
    },
    {
      "cell_type": "code",
      "execution_count": null,
      "metadata": {
        "id": "Ln4bU9wSMTf0"
      },
      "outputs": [],
      "source": [
        "poetry_length = 10\n",
        "def generate_poetry(seed_text, n_lines):\n",
        "    for i in range(n_lines):\n",
        "        text = []\n",
        "        for _ in range(poetry_length):\n",
        "            encoded = token.texts_to_sequences([seed_text])\n",
        "            encoded = pad_sequences(encoded, maxlen=seq_length, padding='pre')\n",
        "\n",
        "            y_pred = np.argmax(model.predict(encoded), axis=-1)\n",
        "\n",
        "            predicted_word = \"\"\n",
        "            for word, index in token.word_index.items():\n",
        "                if index == y_pred:\n",
        "                    predicted_word = word\n",
        "                    break\n",
        "                    \n",
        "            seed_text = seed_text + ' ' + predicted_word\n",
        "            text.append(predicted_word)\n",
        "                \n",
        "        seed_text = text[-1]\n",
        "        text = ' '.join(text)\n",
        "        print(text)"
      ]
    },
    {
      "cell_type": "code",
      "execution_count": null,
      "metadata": {
        "id": "kmS7K_KJMTf1"
      },
      "outputs": [],
      "source": [
        "seed_text = 'i love you'\n",
        "generate_poetry(seed_text, 5)"
      ]
    },
    {
      "cell_type": "code",
      "execution_count": null,
      "metadata": {
        "id": "OeydJY6HMTf3"
      },
      "outputs": [],
      "source": []
    }
  ],
  "metadata": {
    "deepnote": {},
    "deepnote_execution_queue": [],
    "deepnote_notebook_id": "49b090cd-0f47-47d2-9621-f6edf89013ae",
    "kernelspec": {
      "display_name": "Python 3",
      "language": "python",
      "name": "python3"
    },
    "vscode": {
      "interpreter": {
        "hash": "5c91d25207c3c51aa5a26cd27f604ae441fb9f6937695f74ebf58dab3f5f24fa"
      }
    },
    "colab": {
      "provenance": []
    },
    "accelerator": "GPU",
    "gpuClass": "standard"
  },
  "nbformat": 4,
  "nbformat_minor": 0
}